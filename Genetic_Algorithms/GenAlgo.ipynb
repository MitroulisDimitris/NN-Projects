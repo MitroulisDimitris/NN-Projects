{
 "cells": [
  {
   "cell_type": "code",
   "execution_count": 1,
   "metadata": {},
   "outputs": [
    {
     "name": "stderr",
     "output_type": "stream",
     "text": [
      "--2024-07-21 20:07:20--  https://lazyprogrammer.me/course_files/moby_dick.txt\n",
      "Resolving lazyprogrammer.me (lazyprogrammer.me)... 2606:4700:3031::6815:17d2, 2606:4700:3030::ac43:d5a6, 172.67.213.166, ...\n",
      "Connecting to lazyprogrammer.me (lazyprogrammer.me)|2606:4700:3031::6815:17d2|:443... connected.\n",
      "HTTP request sent, awaiting response... 200 OK\n",
      "Length: unspecified [text/plain]\n",
      "Saving to: 'moby_dick.txt'\n",
      "\n",
      "     0K .......... .......... .......... .......... ..........  341K\n",
      "    50K .......... .......... .......... .......... .......... 19,8M\n",
      "   100K .......... .......... .......... .......... ..........  322K\n",
      "   150K .......... .......... .......... .......... .......... 19,0M\n",
      "   200K .......... .......... .......... .......... .......... 16,6M\n",
      "   250K .......... .......... .......... .......... .......... 18,5M\n",
      "   300K .......... .......... .......... .......... .......... 19,4M\n",
      "   350K .......... .......... .......... .......... ..........  348K\n",
      "   400K .......... .......... .......... .......... .......... 20,7M\n",
      "   450K .......... .......... .......... .......... .......... 20,0M\n",
      "   500K .......... .......... .......... .......... .......... 15,8M\n",
      "   550K .......... .......... .......... .......... .......... 23,4M\n",
      "   600K .......... .......... .......... .......... .......... 1,29M\n",
      "   650K .......... .......... .......... .......... .......... 18,7M\n",
      "   700K .......... .......... .......... .......... .......... 23,8M\n",
      "   750K .......... .......... .......... .......... .......... 13,7M\n",
      "   800K .......... .......... .......... .......... .......... 18,4M\n",
      "   850K .......... .......... .......... .......... .......... 17,3M\n",
      "   900K .......... .......... .......... .......... .......... 19,2M\n",
      "   950K .......... .......... .......... .......... .......... 14,7M\n",
      "  1000K .......... .......... .......... .......... ..........  546K\n",
      "  1050K .......... .......... .......... .......... .......... 45,8M\n",
      "  1100K .......... .......... .......... .......... .......... 23,2M\n",
      "  1150K .......... .......... .......... .......... ........   21,2M=0,6s\n",
      "\n",
      "2024-07-21 20:07:23 (1,88 MB/s) - 'moby_dick.txt' saved [1227649]\n",
      "\n"
     ]
    }
   ],
   "source": [
    "!wget -nc https://lazyprogrammer.me/course_files/moby_dick.txt"
   ]
  },
  {
   "cell_type": "code",
   "execution_count": 6,
   "metadata": {},
   "outputs": [],
   "source": [
    "# import libraries\n",
    "import pandas as pd\n",
    "import numpy as np\n",
    "import random\n",
    "import string"
   ]
  },
  {
   "cell_type": "code",
   "execution_count": 7,
   "metadata": {},
   "outputs": [],
   "source": [
    "# Helper functions\n",
    "def has_duplicates(array):\n",
    "    return len(array) != len(set(array))\n",
    "\n",
    "\n",
    "def decode(array,dict):\n",
    "    decoded = []\n",
    "    for x in array:\n",
    "        try:\n",
    "            decoded.append(dict[x])\n",
    "        except:\n",
    "            decoded.append(\" \")\n",
    "    \n",
    "    return decoded\n",
    "\n",
    "def encode(text,cypher):\n",
    "    encoded = []\n",
    "    for x in text:\n",
    "        try:\n",
    "            encoded.append(cypher[x])\n",
    "        except:\n",
    "            encoded.append(\" \")\n",
    "        \n",
    "    return encoded\n",
    "\n",
    "\n",
    "def format_text(text):\n",
    "    # Create a translation table that maps punctuation characters and digits to None\n",
    "    format = str.maketrans('', '', string.punctuation + string.digits)\n",
    "    # Remove punctuation and digits\n",
    "    formatted_text = text.translate(format)\n",
    "    # Convert to uppercase\n",
    "    formatted_text = formatted_text.upper()\n",
    "    # Remove spaces\n",
    "    #formatted_text = upper_text.replace(' ', '')\n",
    "    \n",
    "    return formatted_text\n",
    "            \n"
   ]
  },
  {
   "cell_type": "code",
   "execution_count": 8,
   "metadata": {},
   "outputs": [],
   "source": [
    "alphabet = ['A','B','C','D','E','F','G','H','I','J','K','L','M','N','O','P','Q','R','S','T','U','V','W','X','Y','Z']\n",
    "\n",
    "\n",
    "enc_cypher = alphabet[:]\n",
    "random.seed(1234)\n",
    "random.shuffle(enc_cypher)\n",
    "\n",
    "enc_dict = dict(zip(alphabet, enc_cypher))"
   ]
  },
  {
   "cell_type": "code",
   "execution_count": 4,
   "metadata": {},
   "outputs": [],
   "source": [
    "# initialize markov model\n",
    "M = np.ones((26,26))\n",
    "\n",
    "# initial state distribution\n",
    "pi = np.zeros(26)\n",
    "\n",
    "# function to update Markov model\n",
    "def update_M(char1, char2 ):\n",
    "    # convert letters to ascii to place them \n",
    "    # in the correct place in the Matrix M\n",
    "    # 'A' = 97 , 'B' = 98 ... \n",
    "    i = ord(char1) - 97\n",
    "    j = ord(char2) - 97\n",
    "    M[i,j] +=1\n",
    "    \n",
    "def update_init_distr(char1):\n",
    "    i = ord(char1) - 97\n",
    "    pi[i] += 1\n",
    "    \n",
    "def get_log_prob(word):\n",
    "    i = ord(word[0]) - 97\n",
    "    logp = np.log(pi[i])\n",
    "    \n",
    "    for ch in word[1:]:\n",
    "        j = ord(ch) - 97\n",
    "        logp += np.log(M[i,j])\n",
    "       \n",
    "        i = j\n",
    "    \n",
    "    return logp\n",
    "\n",
    "\n",
    "def get_sentence_log_prob(text):\n",
    "    if type(text) == str:\n",
    "        text = text.split()\n",
    "        \n",
    "    logp = 0\n",
    "    for word in text:\n",
    "        logp += get_log_prob(word)\n",
    "    \n",
    "    return logp\n",
    "    \n",
    "    \n",
    "    "
   ]
  },
  {
   "cell_type": "code",
   "execution_count": 5,
   "metadata": {},
   "outputs": [
    {
     "data": {
      "text/plain": [
       "65"
      ]
     },
     "execution_count": 5,
     "metadata": {},
     "output_type": "execute_result"
    }
   ],
   "source": [
    "ord(\"A\")"
   ]
  }
 ],
 "metadata": {
  "kernelspec": {
   "display_name": "Python 3",
   "language": "python",
   "name": "python3"
  },
  "language_info": {
   "codemirror_mode": {
    "name": "ipython",
    "version": 3
   },
   "file_extension": ".py",
   "mimetype": "text/x-python",
   "name": "python",
   "nbconvert_exporter": "python",
   "pygments_lexer": "ipython3",
   "version": "3.10.6"
  }
 },
 "nbformat": 4,
 "nbformat_minor": 2
}
