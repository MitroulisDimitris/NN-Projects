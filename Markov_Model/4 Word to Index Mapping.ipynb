{
 "cells": [
  {
   "cell_type": "code",
   "execution_count": 42,
   "metadata": {},
   "outputs": [
    {
     "name": "stderr",
     "output_type": "stream",
     "text": [
      "[nltk_data] Downloading package punkt to\n",
      "[nltk_data]     C:\\Users\\Dimitris\\AppData\\Roaming\\nltk_data...\n",
      "[nltk_data]   Package punkt is already up-to-date!\n"
     ]
    }
   ],
   "source": [
    "import pandas as pd\n",
    "import numpy as np\n",
    "import nltk \n",
    "from nltk import word_tokenize\n",
    "nltk.download('punkt')\n",
    "\n",
    "# Import dataset\n",
    "df = pd.read_csv('datasets/bbc_text_cls.csv')"
   ]
  },
  {
   "cell_type": "code",
   "execution_count": 43,
   "metadata": {},
   "outputs": [
    {
     "data": {
      "text/plain": [
       "0       Ad sales boost Time Warner profit\\n\\nQuarterly...\n",
       "1       Dollar gains on Greenspan speech\\n\\nThe dollar...\n",
       "2       Yukos unit buyer faces loan claim\\n\\nThe owner...\n",
       "3       High fuel prices hit BA's profits\\n\\nBritish A...\n",
       "4       Pernod takeover talk lifts Domecq\\n\\nShares in...\n",
       "                              ...                        \n",
       "2220    BT program to beat dialler scams\\n\\nBT is intr...\n",
       "2221    Spam e-mails tempt net shoppers\\n\\nComputer us...\n",
       "2222    Be careful how you code\\n\\nA new European dire...\n",
       "2223    US cyber security chief resigns\\n\\nThe man mak...\n",
       "2224    Losing yourself in online gaming\\n\\nOnline rol...\n",
       "Name: text, Length: 2225, dtype: object"
      ]
     },
     "execution_count": 43,
     "metadata": {},
     "output_type": "execute_result"
    }
   ],
   "source": [
    "df['text']"
   ]
  },
  {
   "cell_type": "code",
   "execution_count": 44,
   "metadata": {},
   "outputs": [],
   "source": [
    "# word 2 idx of size V\n",
    "word2idx ={}\n",
    "tokenized_docs = []\n",
    "for doc in df['text']:\n",
    "    words = word_tokenize(doc.lower())\n",
    "    doc_as_int = []\n",
    "    for i,word in enumerate(words):\n",
    "        if word not in word2idx:\n",
    "            word2idx[word] = i\n",
    "        \n",
    "        # convert doc to index and store it in doc as int\n",
    "        doc_as_int.append(word2idx[word])\n",
    "    # tokenized docs are the original converted to indexes\n",
    "    tokenized_docs.append(doc_as_int)\n",
    "            \n",
    "        \n",
    "    "
   ]
  },
  {
   "cell_type": "code",
   "execution_count": 72,
   "metadata": {},
   "outputs": [],
   "source": [
    "idx2word = {k:v for v,k in word2idx.items()}"
   ]
  },
  {
   "cell_type": "code",
   "execution_count": 46,
   "metadata": {},
   "outputs": [],
   "source": [
    "# Number of documents\n",
    "N = len(df['text'])\n",
    "\n",
    "# Number of Words\n",
    "V = len(word2idx)\n",
    "\n",
    "# instantiate term-frequency matrix\n",
    "# could have used count vectorizer\n",
    "tf = np.zeros((N, V ))"
   ]
  },
  {
   "cell_type": "code",
   "execution_count": 63,
   "metadata": {},
   "outputs": [],
   "source": [
    "# Populate term-frequenct counts\n",
    "for i, doc_as_int in enumerate(tokenized_docs):\n",
    "    for j in doc_as_int:\n",
    "        tf[i,j] +=1"
   ]
  },
  {
   "cell_type": "code",
   "execution_count": 48,
   "metadata": {},
   "outputs": [
    {
     "name": "stderr",
     "output_type": "stream",
     "text": [
      "C:\\Users\\Dimitris\\AppData\\Local\\Temp\\ipykernel_11440\\858307271.py:5: RuntimeWarning: divide by zero encountered in divide\n",
      "  idf =np.log(N/document_freq)\n"
     ]
    }
   ],
   "source": [
    "# Compute IDF\n",
    "# sum how many times tf>0 \n",
    "# Calculate how many times each term is present at each document\n",
    "document_freq = np.sum(tf>0,axis=0)\n",
    "idf =np.log(N/document_freq)"
   ]
  },
  {
   "cell_type": "code",
   "execution_count": 49,
   "metadata": {},
   "outputs": [
    {
     "name": "stderr",
     "output_type": "stream",
     "text": [
      "C:\\Users\\Dimitris\\AppData\\Local\\Temp\\ipykernel_11440\\1206014522.py:2: RuntimeWarning: invalid value encountered in multiply\n",
      "  tf_idf = tf*idf\n"
     ]
    }
   ],
   "source": [
    "# Compute TF-IDF\n",
    "tf_idf = tf*idf"
   ]
  },
  {
   "cell_type": "code",
   "execution_count": 82,
   "metadata": {},
   "outputs": [
    {
     "name": "stdout",
     "output_type": "stream",
     "text": [
      "Label: business\n",
      "Text: Umbro profits lifted by Euro 2004\n",
      "Top 5 terms\n",
      "teliasonera\n",
      "templeton\n",
      "touchstone\n",
      "cabs\n",
      "geographies\n"
     ]
    }
   ],
   "source": [
    "#np.random.seed(123)\n",
    "\n",
    "# Pick a random document, show top 5 terms\n",
    "\n",
    "i = np.random.choice(N)\n",
    "row = df.iloc[i]\n",
    "print(f\"Label: {row['labels']}\")\n",
    "print(f\"Text: {row['text'].split(\"\\n\",1)[0]}\")\n",
    "print(f\"Top 5 terms\")\n",
    "\n",
    "scores = tf_idf[i]\n",
    "indices = (-scores).argsort()\n",
    "\n",
    "for j in indices [:5]:\n",
    "    print(idx2word[j])"
   ]
  },
  {
   "cell_type": "code",
   "execution_count": null,
   "metadata": {},
   "outputs": [],
   "source": []
  }
 ],
 "metadata": {
  "kernelspec": {
   "display_name": "Python 3",
   "language": "python",
   "name": "python3"
  },
  "language_info": {
   "codemirror_mode": {
    "name": "ipython",
    "version": 3
   },
   "file_extension": ".py",
   "mimetype": "text/x-python",
   "name": "python",
   "nbconvert_exporter": "python",
   "pygments_lexer": "ipython3",
   "version": "3.12.1"
  }
 },
 "nbformat": 4,
 "nbformat_minor": 2
}
