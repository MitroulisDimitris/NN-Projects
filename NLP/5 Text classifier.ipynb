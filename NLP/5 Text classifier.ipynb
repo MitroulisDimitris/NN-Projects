{
 "cells": [
  {
   "cell_type": "code",
   "execution_count": 1,
   "metadata": {},
   "outputs": [],
   "source": [
    "import json\n",
    "import numpy as np\n",
    "import matplotlib.pyplot as plt\n",
    "import string \n",
    "from sklearn.model_selection import train_test_split"
   ]
  },
  {
   "cell_type": "code",
   "execution_count": 2,
   "metadata": {},
   "outputs": [],
   "source": [
    "\n",
    "with open('datasets/allan_poe.txt','r',encoding='utf-8') as file:\n",
    "    allan_poe = file.read()\n",
    "    allan_poe = allan_poe.splitlines()\n",
    "\n",
    "\n",
    "with open('datasets/robert_frost.txt','r',encoding='utf-8') as file:\n",
    "    rober_frost= file.read()\n",
    "    rober_frost = rober_frost.splitlines()\n",
    "    \n",
    "\n",
    "input_files = [allan_poe, rober_frost]"
   ]
  },
  {
   "cell_type": "code",
   "execution_count": null,
   "metadata": {},
   "outputs": [],
   "source": [
    "input_text = []\n",
    "labels = []\n",
    "\n",
    "\n",
    "for author, collection in enumerate(input_files):\n",
    "    for index, line in enumerate(collection):\n",
    "        if line:\n",
    "            break\n",
    "            \n",
    "        \n",
    "    \n",
    "    print(f\"{author} corresponds to author {collection}\")"
   ]
  }
 ],
 "metadata": {
  "kernelspec": {
   "display_name": "Python 3 (ipykernel)",
   "language": "python",
   "name": "python3"
  }
 },
 "nbformat": 4,
 "nbformat_minor": 4
}
