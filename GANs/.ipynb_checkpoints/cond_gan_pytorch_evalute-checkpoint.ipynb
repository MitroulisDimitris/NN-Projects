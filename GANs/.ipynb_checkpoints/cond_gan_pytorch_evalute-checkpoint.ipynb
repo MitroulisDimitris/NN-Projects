{
 "cells": [
  {
   "cell_type": "code",
   "execution_count": null,
   "id": "zwIywRcKQ7wi",
   "metadata": {
    "colab": {
     "base_uri": "https://localhost:8080/"
    },
    "id": "zwIywRcKQ7wi",
    "outputId": "b30e1aed-ce0c-4b59-ce74-4ca7cd2efd18"
   },
   "outputs": [
    {
     "name": "stdout",
     "output_type": "stream",
     "text": [
      "Looking in indexes: https://pypi.org/simple, https://us-python.pkg.dev/colab-wheels/public/simple/\n",
      "Requirement already satisfied: lpips in /usr/local/lib/python3.9/dist-packages (0.1.4)\n",
      "Requirement already satisfied: torch>=0.4.0 in /usr/local/lib/python3.9/dist-packages (from lpips) (2.0.0+cu118)\n",
      "Requirement already satisfied: scipy>=1.0.1 in /usr/local/lib/python3.9/dist-packages (from lpips) (1.10.1)\n",
      "Requirement already satisfied: tqdm>=4.28.1 in /usr/local/lib/python3.9/dist-packages (from lpips) (4.65.0)\n",
      "Requirement already satisfied: numpy>=1.14.3 in /usr/local/lib/python3.9/dist-packages (from lpips) (1.22.4)\n",
      "Requirement already satisfied: torchvision>=0.2.1 in /usr/local/lib/python3.9/dist-packages (from lpips) (0.15.1+cu118)\n",
      "Requirement already satisfied: typing-extensions in /usr/local/lib/python3.9/dist-packages (from torch>=0.4.0->lpips) (4.5.0)\n",
      "Requirement already satisfied: networkx in /usr/local/lib/python3.9/dist-packages (from torch>=0.4.0->lpips) (3.1)\n",
      "Requirement already satisfied: triton==2.0.0 in /usr/local/lib/python3.9/dist-packages (from torch>=0.4.0->lpips) (2.0.0)\n",
      "Requirement already satisfied: sympy in /usr/local/lib/python3.9/dist-packages (from torch>=0.4.0->lpips) (1.11.1)\n",
      "Requirement already satisfied: filelock in /usr/local/lib/python3.9/dist-packages (from torch>=0.4.0->lpips) (3.11.0)\n",
      "Requirement already satisfied: jinja2 in /usr/local/lib/python3.9/dist-packages (from torch>=0.4.0->lpips) (3.1.2)\n",
      "Requirement already satisfied: lit in /usr/local/lib/python3.9/dist-packages (from triton==2.0.0->torch>=0.4.0->lpips) (16.0.1)\n",
      "Requirement already satisfied: cmake in /usr/local/lib/python3.9/dist-packages (from triton==2.0.0->torch>=0.4.0->lpips) (3.25.2)\n",
      "Requirement already satisfied: requests in /usr/local/lib/python3.9/dist-packages (from torchvision>=0.2.1->lpips) (2.27.1)\n",
      "Requirement already satisfied: pillow!=8.3.*,>=5.3.0 in /usr/local/lib/python3.9/dist-packages (from torchvision>=0.2.1->lpips) (8.4.0)\n",
      "Requirement already satisfied: MarkupSafe>=2.0 in /usr/local/lib/python3.9/dist-packages (from jinja2->torch>=0.4.0->lpips) (2.1.2)\n",
      "Requirement already satisfied: certifi>=2017.4.17 in /usr/local/lib/python3.9/dist-packages (from requests->torchvision>=0.2.1->lpips) (2022.12.7)\n",
      "Requirement already satisfied: charset-normalizer~=2.0.0 in /usr/local/lib/python3.9/dist-packages (from requests->torchvision>=0.2.1->lpips) (2.0.12)\n",
      "Requirement already satisfied: urllib3<1.27,>=1.21.1 in /usr/local/lib/python3.9/dist-packages (from requests->torchvision>=0.2.1->lpips) (1.26.15)\n",
      "Requirement already satisfied: idna<4,>=2.5 in /usr/local/lib/python3.9/dist-packages (from requests->torchvision>=0.2.1->lpips) (3.4)\n",
      "Requirement already satisfied: mpmath>=0.19 in /usr/local/lib/python3.9/dist-packages (from sympy->torch>=0.4.0->lpips) (1.3.0)\n"
     ]
    }
   ],
   "source": [
    "!pip install lpips"
   ]
  },
  {
   "cell_type": "code",
   "execution_count": null,
   "id": "a493c415",
   "metadata": {
    "colab": {
     "base_uri": "https://localhost:8080/"
    },
    "id": "a493c415",
    "outputId": "2b0206e9-3e6a-4a64-af3a-db5d54910545"
   },
   "outputs": [
    {
     "name": "stdout",
     "output_type": "stream",
     "text": [
      "Device:cuda\n"
     ]
    }
   ],
   "source": [
    "# %% Import and stuff\n",
    "import torch\n",
    "from torch import nn\n",
    "from torchvision import transforms\n",
    "import torchvision\n",
    "import matplotlib.pyplot as plt\n",
    "import torch.nn.functional as F\n",
    "from torch.autograd import Variable\n",
    "import numpy as np\n",
    "import time\n",
    "import random\n",
    "import torchvision.utils as vutils\n",
    "from  torch.utils import data\n",
    "from mpl_toolkits.axes_grid1 import ImageGrid\n",
    "import math\n",
    "from collections import OrderedDict\n",
    "import lpips\n",
    "from torch.utils.data import Subset\n",
    "from torchvision.transforms import ToTensor\n",
    "\n",
    "NUM_EPOCHS = 10\n",
    "LR = 0.0002\n",
    "LATENT_DIM = 100\n",
    "IMG_SIZE = 28\n",
    "CHANNELS = 1\n",
    "B1 = 0.5\n",
    "B2 = 0.999\n",
    "\n",
    "\n",
    "GEN_STATE_DICT = \"gen_state_dict\"\n",
    "DISC_STATE_DICT = \"disc_state_dict\"\n",
    "GEN_OPTIMIZER = \"gen_optimizer\"\n",
    "DISC_OPTIMIZER = \"disc_optimizer\"\n",
    "G_LOSSES = \"g_losses\"\n",
    "D_LOSSES = \"d_losses\"\n",
    "\n",
    "\n",
    "\n",
    "SHUFFLE = True\n",
    "PIN_MEMORY = True\n",
    "NUM_WORKERS = 0\n",
    "BATCH_SIZE = 2000\n",
    "\n",
    "specific_latent = torch.tensor([[0.7628, 0.1779, 0.3978, 0.3606, 0.6387,\n",
    "         0.3044, 0.8340, 0.3884, 0.9313, 0.5635, 0.1994, 0.6934, 0.5326,\n",
    "         0.3676, 0.5342, 0.9480, 0.4120, 0.5845, 0.4035, 0.5298, 0.0177,\n",
    "         0.5605, 0.6453, 0.9576, 0.7153, 0.1923, 0.8122, 0.0937, 0.5744,\n",
    "         0.5951, 0.8890, 0.4838, 0.5707, 0.6760, 0.3738, 0.2796, 0.1549,\n",
    "\n",
    "         0.8220, 0.2800, 0.4051, 0.2553, 0.1831, 0.0046, 0.9021, 0.0264,\n",
    "         0.2327, 0.8261, 0.0534, 0.1582, 0.4087, 0.9047, 0.1409, 0.6864,\n",
    "         0.1439, 0.3432, 0.1072, 0.5907, 0.6756, 0.6942, 0.6814, 0.3368,\n",
    "         0.4138, 0.8030, 0.7024, 0.3309, 0.7288, 0.2193, 0.1954, 0.9948,\n",
    "         0.1201, 0.9483, 0.7407, 0.4849, 0.6500, 0.8649, 0.7405, 0.4725,\n",
    "         0.5373, 0.6541, 0.5444, 0.7425, 0.8940, 0.3580, 0.3905, 0.8924,\n",
    "         0.2995, 0.3726, 0.5399, 0.3057, 0.3380, 0.8313, 0.1137, 0.0120,\n",
    "         0.7714, 0.2561, 0.2569, 0.2994, 0.7648, 0.2413, 0.6101\n",
    "        ]])\n",
    "\n",
    "\n",
    "img_shape = (CHANNELS, IMG_SIZE, IMG_SIZE)\n",
    "\n",
    "device = torch.device(\"cuda\" if torch.cuda.is_available() else \"cpu\")\n",
    "print('Device:{}'.format(device))\n"
   ]
  },
  {
   "cell_type": "code",
   "execution_count": null,
   "id": "56f4e4cf",
   "metadata": {
    "id": "56f4e4cf"
   },
   "outputs": [],
   "source": [
    "# %% helper funcitons\n",
    "\n",
    "\n",
    "def save_checkpoint(state, filename):\n",
    "    print(\"=> Saving chekpoint\")\n",
    "    torch.save(state, filename)\n",
    "\n",
    "\n",
    "def load_checkpoint(checkpoint):\n",
    "    generator.load_state_dict(checkpoint[GEN_STATE_DICT])\n",
    "    optimizer_G.load_state_dict(checkpoint[GEN_OPTIMIZER])\n",
    "    discriminator.load_state_dict(checkpoint[DISC_STATE_DICT])\n",
    "    optimizer_D.load_state_dict(checkpoint[DISC_OPTIMIZER])\n",
    "    G_losses = checkpoint.get(G_LOSSES, 0)\n",
    "    D_losses = checkpoint.get(D_LOSSES, 0)\n",
    "    \n",
    "\n",
    "\n",
    "# takes input tensor and return a tensor of same size but every element has different value\n",
    "def build_fake_labels(old_list):\n",
    "  \n",
    "    new_list = []\n",
    "\n",
    "    for i, x in enumerate(old_list):\n",
    "\n",
    "        if (i % 10) != x:\n",
    "            new_list.append(i % 10)\n",
    "        else:\n",
    "            new_list.append((x.item()+1) % 10)\n",
    "\n",
    "    return torch.tensor(new_list, dtype=torch.int64).to(device)\n",
    "\n",
    "\n",
    "def add_noise(inputs, variance):\n",
    "    noise = torch.randn_like(inputs)\n",
    "    return inputs + variance*noise\n",
    "\n",
    "def gen_image(caption=-1,randomLatent=True):\n",
    "    generator.to('cpu')\n",
    "    discriminator.to('cpu')\n",
    "\n",
    "    with torch.no_grad():\n",
    "        for image,_ in train_loader:\n",
    "            f, axarr = plt.subplots(1)\n",
    "            \n",
    "            if randomLatent:\n",
    "                latent = torch.rand_like(torch.Tensor(1,100))\n",
    "            else:\n",
    "                latent = specific_latent\n",
    "                \n",
    "            if caption == -1:\n",
    "                caption = random.randint(0, 9)\n",
    "            \n",
    "            caption = torch.tensor(caption, dtype=torch.int64)\n",
    "            fake_image = generator(latent,caption)  \n",
    "           \n",
    "            \n",
    "            #axarr.imshow(add_noise(image[0][0],0.5))    \n",
    "            axarr.imshow(fake_image[0][0])   \n",
    "            print(\"Supposed to be %d\" %caption.item())\n",
    "    \n",
    "            break\n",
    "        \n",
    "def discriminate_image(caption=-1,genOrReal=0):#random.randint(0, 1)):\n",
    "    generator.to('cpu')\n",
    "    discriminator.to('cpu')\n",
    "    \n",
    "    with torch.no_grad():\n",
    "        for  i, (imgs, labels) in enumerate(example_loader):\n",
    "            f, axarr = plt.subplots(1)\n",
    "            \n",
    "            fake_labels = build_fake_labels(labels.to(device))\n",
    "            labels = labels.to('cpu')\n",
    "            z = Variable(Tensor(np.random.normal(0, 1, (1,LATENT_DIM)))).cpu()\n",
    "            if caption == -1:\n",
    "                caption = random.randint(0, 9)\n",
    "            caption = torch.tensor(caption, dtype=torch.int64)\n",
    "            \n",
    "            \n",
    "            #feed discriminator fake image, expect \"0\" output\n",
    "            if genOrReal == 0:\n",
    "                fake_image = generator(z,caption)\n",
    "                axarr.imshow(fake_image[0].reshape(-1, 28, 28)[0])\n",
    "                pred = discriminator(fake_image,caption).detach()\n",
    "                print(\"Discriminator Prediction: {},Should be: {}, label = {}\".format(pred,\"0\",caption))\n",
    "            #feed discriminator real image, expect \"1\" output\n",
    "            else:\n",
    "                fake_image = generator(z,labels[0])\n",
    "                axarr.imshow(imgs[0].reshape(-1, 28, 28)[0])\n",
    "                pred = discriminator(imgs.detach(),labels[0].detach()).detach()\n",
    "                print(\"Discriminator Prediction: {},Should be: {}, label= {}\".format(pred,\"1\",labels[0]+1))\n",
    "            \n",
    "    \n",
    "            break        \n",
    "\n",
    "# Check if a tensor image is normalized in [-1,1]\n",
    "# returns true if it s within [-1,1]\n",
    "def is_normalized(image):\n",
    "  \n",
    "  tensor_image_normalized = image[0]  # your tensor image here\n",
    "\n",
    "  min_value = tensor_image_normalized.min().item()\n",
    "  max_value = tensor_image_normalized.max().item()\n",
    "\n",
    "  \n",
    "  return (min_value >= -1.0 and max_value <= 1.0)\n",
    "\n",
    "\n",
    "def colorize(image):\n",
    "  return torch.cat([image, image, image], dim=1)"
   ]
  },
  {
   "cell_type": "code",
   "execution_count": null,
   "id": "e8e59f16",
   "metadata": {
    "id": "e8e59f16"
   },
   "outputs": [],
   "source": [
    "# %%train data\n",
    "\n",
    "transform = transforms.Compose([\n",
    "    transforms.ToTensor(),\n",
    "    transforms.Normalize([0.5], [0.5])\n",
    "    ])\n",
    "\n",
    "\n",
    "train_dataset = torchvision.datasets.MNIST(\n",
    "    root=\"~/torch_datasets\", train=True, transform=transform, download=True\n",
    ")\n",
    "leNet_dataset =  torchvision.datasets.MNIST(\n",
    "    root=\"~/torch_datasets\", train=True,transform=ToTensor(), download=True\n",
    ")\n",
    "\n",
    "\n",
    "train_loader = data.DataLoader(\n",
    "                                train_dataset,\n",
    "                                batch_size=BATCH_SIZE,\n",
    "                                shuffle=False,\n",
    "                                num_workers=NUM_WORKERS,\n",
    "                                pin_memory=False,\n",
    "                                drop_last=True\n",
    "                                )\n",
    "\n",
    "test_loader = data.DataLoader(\n",
    "                                train_dataset,\n",
    "                                batch_size=60000,\n",
    "                                shuffle=False,\n",
    "                                num_workers=NUM_WORKERS,\n",
    "                                pin_memory=False\n",
    "                                )\n",
    "\n",
    "example_loader = data.DataLoader(\n",
    "                                train_dataset,\n",
    "                                batch_size=1,\n",
    "                                shuffle=True,\n",
    "                                num_workers=0,\n",
    "                                drop_last=True,\n",
    "                                )\n",
    "leNet_loader = data.DataLoader(\n",
    "                                leNet_dataset,\n",
    "                                batch_size=BATCH_SIZE,\n",
    "                                shuffle=True,\n",
    "                                num_workers=0,\n",
    "                                drop_last=True,\n",
    "                                )\n"
   ]
  },
  {
   "cell_type": "code",
   "execution_count": null,
   "id": "97624d9f",
   "metadata": {
    "id": "97624d9f"
   },
   "outputs": [],
   "source": [
    "# %% Detective: fake or no fake -> 1 output [0, 1]\n",
    "class Discriminator(nn.Module):\n",
    "    def __init__(self):\n",
    "        super().__init__()\n",
    "\n",
    "        self.conv1 = nn.Conv2d(2, 10, kernel_size=5)\n",
    "        self.conv2 = nn.Conv2d(10, 20, kernel_size=5)\n",
    "        self.conv2_drop = nn.Dropout2d()\n",
    "        self.fc1 = nn.Linear(320, 50)\n",
    "        self.fc2 = nn.Linear(50, 1)\n",
    "\n",
    "        self.emb = nn.Embedding(10, 50)\n",
    "        self.emb_fc = nn.Linear(50, 784)\n",
    "\n",
    "        self.nconv1 = nn.Conv2d(2, 64, kernel_size=5)\n",
    "        self.nconv2 = nn.Conv2d(64, 128, kernel_size=5)\n",
    "        self.pool = nn.AvgPool2d(kernel_size=3)\n",
    "        self.pool2 = nn.AvgPool2d(kernel_size=2)\n",
    "        self.nfc1 = nn.Linear(1152, 164)\n",
    "        self.nfc2 = nn.Linear(164, 1)\n",
    "\n",
    "    def forward(self, x, c,t3 =-1):\n",
    "\n",
    "        if  type(t3) == int:\n",
    "            c = self.emb(c)\n",
    "        else:\n",
    "            c = t3\n",
    "        c = self.emb_fc(c)\n",
    "        c = c.view(-1, 1, 28, 28)\n",
    "        x = torch.cat((c, x), 1)  # concat image[1,28,28] with text [1,28,28]\n",
    "\n",
    "        x = F.leaky_relu(self.nconv1(x))\n",
    "        x = F.leaky_relu(self.nconv2(x))\n",
    "        x = self.pool(x)\n",
    "        x = self.pool2(x)\n",
    "        x = x.view(-1, 1152)\n",
    "        x = F.leaky_relu(self.nfc1(x))\n",
    "        x = F.dropout(x, training=self.training)\n",
    "        x = self.nfc2(x)\n",
    "\n",
    "        x = torch.sigmoid(x)\n",
    "        return x\n",
    "\n",
    "# Check if a tensor image is normalized in [-1,1]\n",
    "# returns true if it s within [-1,1]\n",
    "def is_normalized(image):\n",
    "  \n",
    "  tensor_image_normalized = image[0]  # your tensor image here\n",
    "\n",
    "  min_value = tensor_image_normalized.min().item()\n",
    "  max_value = tensor_image_normalized.max().item()\n",
    "\n",
    "  \n",
    "  return (min_value >= -1.0 and max_value <= 1.0)\n",
    "\n",
    "\n",
    "def colorize(image):\n",
    "  return torch.cat([image, image, image], dim=1)"
   ]
  },
  {
   "cell_type": "code",
   "execution_count": null,
   "id": "2qNC4TGTPvTD",
   "metadata": {
    "id": "2qNC4TGTPvTD"
   },
   "outputs": [],
   "source": [
    "# %% Detective: fake or no fake -> 1 output [0, 1]\n",
    "class Discriminator(nn.Module):\n",
    "    def __init__(self):\n",
    "        super().__init__()\n",
    "\n",
    "        self.conv1 = nn.Conv2d(2, 10, kernel_size=5)\n",
    "        self.conv2 = nn.Conv2d(10, 20, kernel_size=5)\n",
    "        self.conv2_drop = nn.Dropout2d()\n",
    "        self.fc1 = nn.Linear(320, 50)\n",
    "        self.fc2 = nn.Linear(50, 1)\n",
    "\n",
    "        self.emb = nn.Embedding(10, 50)\n",
    "        self.emb_fc = nn.Linear(50, 784)\n",
    "\n",
    "        self.nconv1 = nn.Conv2d(2, 64, kernel_size=5)\n",
    "        self.nconv2 = nn.Conv2d(64, 128, kernel_size=5)\n",
    "        self.pool = nn.AvgPool2d(kernel_size=3)\n",
    "        self.pool2 = nn.AvgPool2d(kernel_size=2)\n",
    "        self.nfc1 = nn.Linear(1152, 164)\n",
    "        self.nfc2 = nn.Linear(164, 1)\n",
    "\n",
    "    # oldWay flag to select between 2 train methods, not sure which is best yet\n",
    "    def forward(self, x, c, oldWay=False):\n",
    "\n",
    "        c = self.emb(c)\n",
    "        c = self.emb_fc(c)\n",
    "        c = c.view(-1, 1, 28, 28)\n",
    "        x = torch.cat((c, x), 1)  # concat image[1,28,28] with text [1,28,28]\n",
    "\n",
    "        x = F.leaky_relu(self.nconv1(x))\n",
    "        x = F.leaky_relu(self.nconv2(x))\n",
    "        x = self.pool(x)\n",
    "        x = self.pool2(x)\n",
    "        x = x.view(-1, 1152)\n",
    "        x = F.leaky_relu(self.nfc1(x))\n",
    "        x = F.dropout(x, training=self.training)\n",
    "        x = self.nfc2(x)\n",
    "\n",
    "        x = torch.sigmoid(x)\n",
    "        return x\n",
    "\n",
    "\n",
    "# %% Generate Fake Data: output like real data [1, 28, 28] and values -1, 1\n",
    "class Generator(nn.Module):\n",
    "    def __init__(self):\n",
    "        super().__init__()\n",
    "        self.lin1 = nn.Linear(LATENT_DIM, 7*7*63)  # [n,100]->[n,3087]\n",
    "        self.ct1 = nn.ConvTranspose2d(64, 32, 4, stride=2)  # [n, 64, 16, 16] [32,..,..]\n",
    "        self.ct2 = nn.ConvTranspose2d(32, 16, 4, stride=2)  # [n, 32, , ]->[n, 16, 34, 34]\n",
    "        self.conv = nn.Conv2d(16, 1, kernel_size=7)  # [n, 16, 34, 34]-> [n, 1, 28, 28]\n",
    "        \n",
    "        self.emb = nn.Embedding(10, 50) \n",
    "        self.label_lin = nn.Linear(50, 49)\n",
    "        self.conv_x_c = nn.ConvTranspose2d(65, 64, 4, stride=2)  # upsample [65,7,7] -> [64,14,14]\n",
    "        self.tanh = nn.Tanh()\n",
    "\n",
    "    def forward(self, x, c):\n",
    "        # Pass latent space input into linear layer and reshape\n",
    "        x = self.lin1(x)  # (n,100) -> (n,3187)\n",
    "        x = F.leaky_relu(x)\n",
    "        x = x.view(-1, 63, 7, 7)  # (n,3187) -> (63,7,7)\n",
    "        \n",
    "        #Encode label\n",
    "        c = self.emb(c)  # (n,) -> (n,50)\n",
    "        c = self.label_lin(c)  # (n,50) -> (n,49)\n",
    "        c = c.view(-1, 1, 7, 7)  # (n,49) -> (n,1,7,7)\n",
    "        x = torch.cat((c, x), 1) # concat image[63,7,7] with text [1,7,7]\n",
    "\n",
    "        x = self.ct1(x)  # [n, 64, 16, 16] [32,34,34]\n",
    "        x = F.leaky_relu(x)\n",
    "\n",
    "        # Upsample to 34x34 (16 feature maps)\n",
    "        x = self.ct2(x)\n",
    "        x = F.leaky_relu(x)\n",
    "\n",
    "        # Convolution to 28x28 (1 feature map)\n",
    "        x = self.tanh(self.conv(x))\n",
    "        return x"
   ]
  },
  {
   "cell_type": "code",
   "execution_count": null,
   "id": "abc07c4f",
   "metadata": {
    "id": "abc07c4f"
   },
   "outputs": [],
   "source": [
    "%% Loss fucntion, optimizers\n",
    "loss_func = nn.BCELoss()\n",
    "d_loss_func = nn.BCELoss()\n",
    "\n",
    "# Initialize generator and discriminator\n",
    "generator = Generator().to(device)\n",
    "discriminator = Discriminator().to(device)\n",
    "\n",
    "if torch.cuda.is_available():\n",
    "    generator.cuda()\n",
    "    discriminator.cuda()\n",
    "    loss_func.cuda()\n",
    "\n",
    "optimizer_G = torch.optim.Adam(generator.parameters(), lr=LR,betas=(B1 ,B2))\n",
    "optimizer_D = torch.optim.Adam(discriminator.parameters(), lr=LR,betas=(B1 ,B2))\n",
    "\n",
    "Tensor = torch.cuda.FloatTensor if torch.cuda.is_available() else torch.FloatTensor   "
   ]
  },
  {
   "cell_type": "code",
   "execution_count": null,
   "id": "9e61a176",
   "metadata": {
    "id": "9e61a176"
   },
   "outputs": [],
   "source": [
    "#if you're running this on colab, download corresponding chackpoint file and upload it to runtime\n",
    "load_checkpoint(torch.load(\"cond_gan_pytorch11.pth.tar\",map_location=(device)))"
   ]
  },
  {
   "cell_type": "code",
   "execution_count": null,
   "id": "fmyJkwav21hA",
   "metadata": {
    "colab": {
     "base_uri": "https://localhost:8080/",
     "height": 447
    },
    "id": "fmyJkwav21hA",
    "outputId": "aca73f29-726b-4530-f8c6-6b92485dce02"
   },
   "outputs": [
    {
     "name": "stdout",
     "output_type": "stream",
     "text": [
      "Supposed to be 6\n"
     ]
    },
    {
     "data": {
      "image/png": "[encoded data removed]",
      "text/plain": [
       "<Figure size 640x480 with 1 Axes>"
      ]
     },
     "metadata": {},
     "output_type": "display_data"
    }
   ],
   "source": [
    "#Test image generation\n",
    "gen_image()"
   ]
  },
  {
   "cell_type": "code",
   "execution_count": null,
   "id": "b608e244",
   "metadata": {
    "colab": {
     "base_uri": "https://localhost:8080/"
    },
    "id": "b608e244",
    "outputId": "ac4988eb-0942-495a-b2c5-00c82b8e33ba"
   },
   "outputs": [
    {
     "name": "stdout",
     "output_type": "stream",
     "text": [
      "one\n"
     ]
    }
   ],
   "source": [
    "\n",
    "fake_images = []\n",
    "real_images = []\n",
    "device='cpu'\n",
    "with torch.no_grad():\n",
    "    generator.to('cpu')\n",
    "    discriminator.to('cpu')\n",
    "\n",
    "    for i, (imgs,label) in enumerate(train_loader):\n",
    "        real_images = imgs\n",
    "        \n",
    "        #caption = random.randint(0, 9)   \n",
    "        #caption = torch.tensor(caption, dtype=torch.int64)\n",
    "        #latent = torch.rand_like(torch.Tensor(1,100))\n",
    "        #fake_images = generator(latent,caption)\n",
    "        \n",
    "        \n",
    "        for i in range(len(real_images[:])):\n",
    "          caption = label[i]\n",
    "          latent = torch.rand_like(torch.Tensor(1,100))\n",
    "          fake_image = generator(latent,caption)\n",
    "\n",
    "          if (i==0):\n",
    "            print('one')\n",
    "            fake_images = generator(latent,caption)\n",
    "          else:\n",
    "            fake_images = torch.cat((fake_images, fake_image), 0)\n",
    "        break\n",
    "    \n",
    "    #fake_images = fake_images[:BATCH_SIZE,:,:,:]\n",
    "    #real_images = real_images[:BATCH_SIZE,:,:,:]"
   ]
  },
  {
   "cell_type": "code",
   "execution_count": null,
   "id": "48014174",
   "metadata": {
    "colab": {
     "base_uri": "https://localhost:8080/"
    },
    "id": "48014174",
    "outputId": "8739b2e3-d08e-4c7e-b47d-a27c40229891"
   },
   "outputs": [
    {
     "name": "stderr",
     "output_type": "stream",
     "text": [
      "/usr/local/lib/python3.9/dist-packages/torchvision/models/_utils.py:208: UserWarning: The parameter 'pretrained' is deprecated since 0.13 and may be removed in the future, please use 'weights' instead.\n",
      "  warnings.warn(\n",
      "/usr/local/lib/python3.9/dist-packages/torchvision/models/_utils.py:223: UserWarning: Arguments other than a weight enum or `None` for 'weights' are deprecated since 0.13 and may be removed in the future. The current behavior is equivalent to passing `weights=Inception_V3_Weights.IMAGENET1K_V1`. You can also use `weights=Inception_V3_Weights.DEFAULT` to get the most up-to-date weights.\n",
      "  warnings.warn(msg)\n",
      "/usr/local/lib/python3.9/dist-packages/torchvision/transforms/functional.py:1603: UserWarning: The default value of the antialias parameter of all the resizing transforms (Resize(), RandomResizedCrop(), etc.) will change from None to True in v0.17, in order to be consistent across the PIL and Tensor backends. To suppress this warning, directly pass antialias=True (recommended, future default), antialias=None (current default, which means False for Tensors and True for PIL), or antialias=False (only works on Tensors - PIL will still use antialiasing). This also applies if you are using the inference transforms from the models weights: update the call to weights.transforms(antialias=True).\n",
      "  warnings.warn(\n"
     ]
    },
    {
     "name": "stdout",
     "output_type": "stream",
     "text": [
      "Inception score: 0.37\n"
     ]
    }
   ],
   "source": [
    "#%% Inception score\n",
    "from torchvision.models import inception_v3\n",
    "from scipy.stats import entropy\n",
    "\n",
    "with torch.no_grad():\n",
    "    images = fake_images\n",
    "    batch_size = BATCH_SIZE\n",
    "    resize=True\n",
    "    \n",
    "    # Load pre-trained Inception-v3 model\n",
    "    model = inception_v3(pretrained=True, transform_input=False).to(device)\n",
    "    model.eval()\n",
    "    model.requires_grad_ = False\n",
    "\n",
    "    \n",
    "    # Prepare the images\n",
    "    transform = transforms.Compose([\n",
    "        transforms.Resize((299, 299)),\n",
    "        transforms.ToTensor(),\n",
    "        transforms.Normalize((0.5, 0.5, 0.5), (0.5, 0.5, 0.5))\n",
    "    ])\n",
    "    if resize:\n",
    "        images = torch.cat([images,images,images],dim=1)\n",
    "        images = transforms.Compose([\n",
    "            transforms.Resize((299, 299)),\n",
    "            transforms.Grayscale(num_output_channels=3),\n",
    "        ])(images)\n",
    "    else:\n",
    "        images = [torch.from_numpy(image.transpose(2, 0, 1)).float().div(255).unsqueeze(0) for image in images]\n",
    "    \n",
    "    # Compute the predictions\n",
    "    n_images = images.shape[0]\n",
    "    n_batches = int(np.ceil(n_images / batch_size))\n",
    "    preds = []\n",
    "    with torch.no_grad():\n",
    "        for i in range(n_batches):\n",
    "            start_idx = i * batch_size\n",
    "            end_idx = min((i + 1) * batch_size, n_images)\n",
    "            batch = images.to(device)\n",
    "            #batch = torch.cat(images[start_idx:end_idx], dim=0).to(device)\n",
    "            pred = model(batch.detach())\n",
    "            pred = F.softmax(pred, dim=1).cpu().numpy()\n",
    "            preds.append(pred)\n",
    "    preds = np.concatenate(preds, axis=0)\n",
    "    \n",
    "    # Compute the Inception Score\n",
    "    scores = []\n",
    "    for i in range(preds.shape[0]):\n",
    "        p_yx = preds[i]\n",
    "        p_y = np.expand_dims(np.mean(p_yx, axis=0), axis=0)\n",
    "        scores.append(entropy(p_yx.T, p_y.T))\n",
    "    kl_divergence = np.mean(scores)\n",
    "    entropy_y = entropy(np.mean(preds, axis=0))\n",
    "    inception_score = np.exp(kl_divergence - entropy_y)\n",
    "    print(f'Inception score: {inception_score:.2f}')"
   ]
  },
  {
   "cell_type": "code",
   "execution_count": null,
   "id": "gUpzfww27ah2",
   "metadata": {
    "colab": {
     "base_uri": "https://localhost:8080/",
     "height": 504
    },
    "id": "gUpzfww27ah2",
    "outputId": "1144ca10-ce1e-4de2-e43a-618ebb90c201"
   },
   "outputs": [
    {
     "name": "stderr",
     "output_type": "stream",
     "text": [
      "/usr/local/lib/python3.9/dist-packages/torchvision/transforms/functional.py:1603: UserWarning: The default value of the antialias parameter of all the resizing transforms (Resize(), RandomResizedCrop(), etc.) will change from None to True in v0.17, in order to be consistent across the PIL and Tensor backends. To suppress this warning, directly pass antialias=True (recommended, future default), antialias=None (current default, which means False for Tensors and True for PIL), or antialias=False (only works on Tensors - PIL will still use antialiasing). This also applies if you are using the inference transforms from the models weights: update the call to weights.transforms(antialias=True).\n",
      "  warnings.warn(\n",
      "/usr/local/lib/python3.9/dist-packages/torchvision/models/_utils.py:208: UserWarning: The parameter 'pretrained' is deprecated since 0.13 and may be removed in the future, please use 'weights' instead.\n",
      "  warnings.warn(\n",
      "/usr/local/lib/python3.9/dist-packages/torchvision/models/_utils.py:223: UserWarning: Arguments other than a weight enum or `None` for 'weights' are deprecated since 0.13 and may be removed in the future. The current behavior is equivalent to passing `weights=Inception_V3_Weights.IMAGENET1K_V1`. You can also use `weights=Inception_V3_Weights.DEFAULT` to get the most up-to-date weights.\n",
      "  warnings.warn(msg)\n"
     ]
    },
    {
     "ename": "RuntimeError",
     "evalue": "ignored",
     "output_type": "error",
     "traceback": [
      "\u001b[0;31m---------------------------------------------------------------------------\u001b[0m",
      "\u001b[0;31mRuntimeError\u001b[0m                              Traceback (most recent call last)",
      "\u001b[0;32m<ipython-input-39-efffb83c5bd9>\u001b[0m in \u001b[0;36m<cell line: 32>\u001b[0;34m()\u001b[0m\n\u001b[1;32m     31\u001b[0m     \u001b[0;32mbreak\u001b[0m\u001b[0;34m\u001b[0m\u001b[0;34m\u001b[0m\u001b[0m\n\u001b[1;32m     32\u001b[0m \u001b[0;32mwith\u001b[0m \u001b[0mtorch\u001b[0m\u001b[0;34m.\u001b[0m\u001b[0mno_grad\u001b[0m\u001b[0;34m(\u001b[0m\u001b[0;34m)\u001b[0m\u001b[0;34m:\u001b[0m\u001b[0;34m\u001b[0m\u001b[0;34m\u001b[0m\u001b[0m\n\u001b[0;32m---> 33\u001b[0;31m     \u001b[0mfeatures\u001b[0m \u001b[0;34m=\u001b[0m \u001b[0minception_model\u001b[0m\u001b[0;34m(\u001b[0m\u001b[0mf_images\u001b[0m\u001b[0;34m)\u001b[0m\u001b[0;34m.\u001b[0m\u001b[0mview\u001b[0m\u001b[0;34m(\u001b[0m\u001b[0mf_images\u001b[0m\u001b[0;34m.\u001b[0m\u001b[0msize\u001b[0m\u001b[0;34m(\u001b[0m\u001b[0;36m0\u001b[0m\u001b[0;34m)\u001b[0m\u001b[0;34m,\u001b[0m \u001b[0;34m-\u001b[0m\u001b[0;36m1\u001b[0m\u001b[0;34m)\u001b[0m\u001b[0;34m\u001b[0m\u001b[0;34m\u001b[0m\u001b[0m\n\u001b[0m\u001b[1;32m     34\u001b[0m \u001b[0mfake_features\u001b[0m\u001b[0;34m.\u001b[0m\u001b[0mappend\u001b[0m\u001b[0;34m(\u001b[0m\u001b[0mfeatures\u001b[0m\u001b[0;34m.\u001b[0m\u001b[0mcpu\u001b[0m\u001b[0;34m(\u001b[0m\u001b[0;34m)\u001b[0m\u001b[0;34m.\u001b[0m\u001b[0mnumpy\u001b[0m\u001b[0;34m(\u001b[0m\u001b[0;34m)\u001b[0m\u001b[0;34m)\u001b[0m\u001b[0;34m\u001b[0m\u001b[0;34m\u001b[0m\u001b[0m\n\u001b[1;32m     35\u001b[0m \u001b[0;34m\u001b[0m\u001b[0m\n",
      "\u001b[0;32m/usr/local/lib/python3.9/dist-packages/torch/nn/modules/module.py\u001b[0m in \u001b[0;36m_call_impl\u001b[0;34m(self, *args, **kwargs)\u001b[0m\n\u001b[1;32m   1499\u001b[0m                 \u001b[0;32mor\u001b[0m \u001b[0m_global_backward_pre_hooks\u001b[0m \u001b[0;32mor\u001b[0m \u001b[0m_global_backward_hooks\u001b[0m\u001b[0;34m\u001b[0m\u001b[0;34m\u001b[0m\u001b[0m\n\u001b[1;32m   1500\u001b[0m                 or _global_forward_hooks or _global_forward_pre_hooks):\n\u001b[0;32m-> 1501\u001b[0;31m             \u001b[0;32mreturn\u001b[0m \u001b[0mforward_call\u001b[0m\u001b[0;34m(\u001b[0m\u001b[0;34m*\u001b[0m\u001b[0margs\u001b[0m\u001b[0;34m,\u001b[0m \u001b[0;34m**\u001b[0m\u001b[0mkwargs\u001b[0m\u001b[0;34m)\u001b[0m\u001b[0;34m\u001b[0m\u001b[0;34m\u001b[0m\u001b[0m\n\u001b[0m\u001b[1;32m   1502\u001b[0m         \u001b[0;31m# Do not call functions when jit is used\u001b[0m\u001b[0;34m\u001b[0m\u001b[0;34m\u001b[0m\u001b[0m\n\u001b[1;32m   1503\u001b[0m         \u001b[0mfull_backward_hooks\u001b[0m\u001b[0;34m,\u001b[0m \u001b[0mnon_full_backward_hooks\u001b[0m \u001b[0;34m=\u001b[0m \u001b[0;34m[\u001b[0m\u001b[0;34m]\u001b[0m\u001b[0;34m,\u001b[0m \u001b[0;34m[\u001b[0m\u001b[0;34m]\u001b[0m\u001b[0;34m\u001b[0m\u001b[0;34m\u001b[0m\u001b[0m\n",
      "\u001b[0;32m/usr/local/lib/python3.9/dist-packages/torchvision/models/inception.py\u001b[0m in \u001b[0;36mforward\u001b[0;34m(self, x)\u001b[0m\n\u001b[1;32m    164\u001b[0m     \u001b[0;32mdef\u001b[0m \u001b[0mforward\u001b[0m\u001b[0;34m(\u001b[0m\u001b[0mself\u001b[0m\u001b[0;34m,\u001b[0m \u001b[0mx\u001b[0m\u001b[0;34m:\u001b[0m \u001b[0mTensor\u001b[0m\u001b[0;34m)\u001b[0m \u001b[0;34m->\u001b[0m \u001b[0mInceptionOutputs\u001b[0m\u001b[0;34m:\u001b[0m\u001b[0;34m\u001b[0m\u001b[0;34m\u001b[0m\u001b[0m\n\u001b[1;32m    165\u001b[0m         \u001b[0mx\u001b[0m \u001b[0;34m=\u001b[0m \u001b[0mself\u001b[0m\u001b[0;34m.\u001b[0m\u001b[0m_transform_input\u001b[0m\u001b[0;34m(\u001b[0m\u001b[0mx\u001b[0m\u001b[0;34m)\u001b[0m\u001b[0;34m\u001b[0m\u001b[0;34m\u001b[0m\u001b[0m\n\u001b[0;32m--> 166\u001b[0;31m         \u001b[0mx\u001b[0m\u001b[0;34m,\u001b[0m \u001b[0maux\u001b[0m \u001b[0;34m=\u001b[0m \u001b[0mself\u001b[0m\u001b[0;34m.\u001b[0m\u001b[0m_forward\u001b[0m\u001b[0;34m(\u001b[0m\u001b[0mx\u001b[0m\u001b[0;34m)\u001b[0m\u001b[0;34m\u001b[0m\u001b[0;34m\u001b[0m\u001b[0m\n\u001b[0m\u001b[1;32m    167\u001b[0m         \u001b[0maux_defined\u001b[0m \u001b[0;34m=\u001b[0m \u001b[0mself\u001b[0m\u001b[0;34m.\u001b[0m\u001b[0mtraining\u001b[0m \u001b[0;32mand\u001b[0m \u001b[0mself\u001b[0m\u001b[0;34m.\u001b[0m\u001b[0maux_logits\u001b[0m\u001b[0;34m\u001b[0m\u001b[0;34m\u001b[0m\u001b[0m\n\u001b[1;32m    168\u001b[0m         \u001b[0;32mif\u001b[0m \u001b[0mtorch\u001b[0m\u001b[0;34m.\u001b[0m\u001b[0mjit\u001b[0m\u001b[0;34m.\u001b[0m\u001b[0mis_scripting\u001b[0m\u001b[0;34m(\u001b[0m\u001b[0;34m)\u001b[0m\u001b[0;34m:\u001b[0m\u001b[0;34m\u001b[0m\u001b[0;34m\u001b[0m\u001b[0m\n",
      "\u001b[0;32m/usr/local/lib/python3.9/dist-packages/torchvision/models/inception.py\u001b[0m in \u001b[0;36m_forward\u001b[0;34m(self, x)\u001b[0m\n\u001b[1;32m    103\u001b[0m     \u001b[0;32mdef\u001b[0m \u001b[0m_forward\u001b[0m\u001b[0;34m(\u001b[0m\u001b[0mself\u001b[0m\u001b[0;34m,\u001b[0m \u001b[0mx\u001b[0m\u001b[0;34m:\u001b[0m \u001b[0mTensor\u001b[0m\u001b[0;34m)\u001b[0m \u001b[0;34m->\u001b[0m \u001b[0mTuple\u001b[0m\u001b[0;34m[\u001b[0m\u001b[0mTensor\u001b[0m\u001b[0;34m,\u001b[0m \u001b[0mOptional\u001b[0m\u001b[0;34m[\u001b[0m\u001b[0mTensor\u001b[0m\u001b[0;34m]\u001b[0m\u001b[0;34m]\u001b[0m\u001b[0;34m:\u001b[0m\u001b[0;34m\u001b[0m\u001b[0;34m\u001b[0m\u001b[0m\n\u001b[1;32m    104\u001b[0m         \u001b[0;31m# N x 3 x 299 x 299\u001b[0m\u001b[0;34m\u001b[0m\u001b[0;34m\u001b[0m\u001b[0m\n\u001b[0;32m--> 105\u001b[0;31m         \u001b[0mx\u001b[0m \u001b[0;34m=\u001b[0m \u001b[0mself\u001b[0m\u001b[0;34m.\u001b[0m\u001b[0mConv2d_1a_3x3\u001b[0m\u001b[0;34m(\u001b[0m\u001b[0mx\u001b[0m\u001b[0;34m)\u001b[0m\u001b[0;34m\u001b[0m\u001b[0;34m\u001b[0m\u001b[0m\n\u001b[0m\u001b[1;32m    106\u001b[0m         \u001b[0;31m# N x 32 x 149 x 149\u001b[0m\u001b[0;34m\u001b[0m\u001b[0;34m\u001b[0m\u001b[0m\n\u001b[1;32m    107\u001b[0m         \u001b[0mx\u001b[0m \u001b[0;34m=\u001b[0m \u001b[0mself\u001b[0m\u001b[0;34m.\u001b[0m\u001b[0mConv2d_2a_3x3\u001b[0m\u001b[0;34m(\u001b[0m\u001b[0mx\u001b[0m\u001b[0;34m)\u001b[0m\u001b[0;34m\u001b[0m\u001b[0;34m\u001b[0m\u001b[0m\n",
      "\u001b[0;32m/usr/local/lib/python3.9/dist-packages/torch/nn/modules/module.py\u001b[0m in \u001b[0;36m_call_impl\u001b[0;34m(self, *args, **kwargs)\u001b[0m\n\u001b[1;32m   1499\u001b[0m                 \u001b[0;32mor\u001b[0m \u001b[0m_global_backward_pre_hooks\u001b[0m \u001b[0;32mor\u001b[0m \u001b[0m_global_backward_hooks\u001b[0m\u001b[0;34m\u001b[0m\u001b[0;34m\u001b[0m\u001b[0m\n\u001b[1;32m   1500\u001b[0m                 or _global_forward_hooks or _global_forward_pre_hooks):\n\u001b[0;32m-> 1501\u001b[0;31m             \u001b[0;32mreturn\u001b[0m \u001b[0mforward_call\u001b[0m\u001b[0;34m(\u001b[0m\u001b[0;34m*\u001b[0m\u001b[0margs\u001b[0m\u001b[0;34m,\u001b[0m \u001b[0;34m**\u001b[0m\u001b[0mkwargs\u001b[0m\u001b[0;34m)\u001b[0m\u001b[0;34m\u001b[0m\u001b[0;34m\u001b[0m\u001b[0m\n\u001b[0m\u001b[1;32m   1502\u001b[0m         \u001b[0;31m# Do not call functions when jit is used\u001b[0m\u001b[0;34m\u001b[0m\u001b[0;34m\u001b[0m\u001b[0m\n\u001b[1;32m   1503\u001b[0m         \u001b[0mfull_backward_hooks\u001b[0m\u001b[0;34m,\u001b[0m \u001b[0mnon_full_backward_hooks\u001b[0m \u001b[0;34m=\u001b[0m \u001b[0;34m[\u001b[0m\u001b[0;34m]\u001b[0m\u001b[0;34m,\u001b[0m \u001b[0;34m[\u001b[0m\u001b[0;34m]\u001b[0m\u001b[0;34m\u001b[0m\u001b[0;34m\u001b[0m\u001b[0m\n",
      "\u001b[0;32m/usr/local/lib/python3.9/dist-packages/torchvision/models/inception.py\u001b[0m in \u001b[0;36mforward\u001b[0;34m(self, x)\u001b[0m\n\u001b[1;32m    403\u001b[0m \u001b[0;34m\u001b[0m\u001b[0m\n\u001b[1;32m    404\u001b[0m     \u001b[0;32mdef\u001b[0m \u001b[0mforward\u001b[0m\u001b[0;34m(\u001b[0m\u001b[0mself\u001b[0m\u001b[0;34m,\u001b[0m \u001b[0mx\u001b[0m\u001b[0;34m:\u001b[0m \u001b[0mTensor\u001b[0m\u001b[0;34m)\u001b[0m \u001b[0;34m->\u001b[0m \u001b[0mTensor\u001b[0m\u001b[0;34m:\u001b[0m\u001b[0;34m\u001b[0m\u001b[0;34m\u001b[0m\u001b[0m\n\u001b[0;32m--> 405\u001b[0;31m         \u001b[0mx\u001b[0m \u001b[0;34m=\u001b[0m \u001b[0mself\u001b[0m\u001b[0;34m.\u001b[0m\u001b[0mconv\u001b[0m\u001b[0;34m(\u001b[0m\u001b[0mx\u001b[0m\u001b[0;34m)\u001b[0m\u001b[0;34m\u001b[0m\u001b[0;34m\u001b[0m\u001b[0m\n\u001b[0m\u001b[1;32m    406\u001b[0m         \u001b[0mx\u001b[0m \u001b[0;34m=\u001b[0m \u001b[0mself\u001b[0m\u001b[0;34m.\u001b[0m\u001b[0mbn\u001b[0m\u001b[0;34m(\u001b[0m\u001b[0mx\u001b[0m\u001b[0;34m)\u001b[0m\u001b[0;34m\u001b[0m\u001b[0;34m\u001b[0m\u001b[0m\n\u001b[1;32m    407\u001b[0m         \u001b[0;32mreturn\u001b[0m \u001b[0mF\u001b[0m\u001b[0;34m.\u001b[0m\u001b[0mrelu\u001b[0m\u001b[0;34m(\u001b[0m\u001b[0mx\u001b[0m\u001b[0;34m,\u001b[0m \u001b[0minplace\u001b[0m\u001b[0;34m=\u001b[0m\u001b[0;32mTrue\u001b[0m\u001b[0;34m)\u001b[0m\u001b[0;34m\u001b[0m\u001b[0;34m\u001b[0m\u001b[0m\n",
      "\u001b[0;32m/usr/local/lib/python3.9/dist-packages/torch/nn/modules/module.py\u001b[0m in \u001b[0;36m_call_impl\u001b[0;34m(self, *args, **kwargs)\u001b[0m\n\u001b[1;32m   1499\u001b[0m                 \u001b[0;32mor\u001b[0m \u001b[0m_global_backward_pre_hooks\u001b[0m \u001b[0;32mor\u001b[0m \u001b[0m_global_backward_hooks\u001b[0m\u001b[0;34m\u001b[0m\u001b[0;34m\u001b[0m\u001b[0m\n\u001b[1;32m   1500\u001b[0m                 or _global_forward_hooks or _global_forward_pre_hooks):\n\u001b[0;32m-> 1501\u001b[0;31m             \u001b[0;32mreturn\u001b[0m \u001b[0mforward_call\u001b[0m\u001b[0;34m(\u001b[0m\u001b[0;34m*\u001b[0m\u001b[0margs\u001b[0m\u001b[0;34m,\u001b[0m \u001b[0;34m**\u001b[0m\u001b[0mkwargs\u001b[0m\u001b[0;34m)\u001b[0m\u001b[0;34m\u001b[0m\u001b[0;34m\u001b[0m\u001b[0m\n\u001b[0m\u001b[1;32m   1502\u001b[0m         \u001b[0;31m# Do not call functions when jit is used\u001b[0m\u001b[0;34m\u001b[0m\u001b[0;34m\u001b[0m\u001b[0m\n\u001b[1;32m   1503\u001b[0m         \u001b[0mfull_backward_hooks\u001b[0m\u001b[0;34m,\u001b[0m \u001b[0mnon_full_backward_hooks\u001b[0m \u001b[0;34m=\u001b[0m \u001b[0;34m[\u001b[0m\u001b[0;34m]\u001b[0m\u001b[0;34m,\u001b[0m \u001b[0;34m[\u001b[0m\u001b[0;34m]\u001b[0m\u001b[0;34m\u001b[0m\u001b[0;34m\u001b[0m\u001b[0m\n",
      "\u001b[0;32m/usr/local/lib/python3.9/dist-packages/torch/nn/modules/conv.py\u001b[0m in \u001b[0;36mforward\u001b[0;34m(self, input)\u001b[0m\n\u001b[1;32m    461\u001b[0m \u001b[0;34m\u001b[0m\u001b[0m\n\u001b[1;32m    462\u001b[0m     \u001b[0;32mdef\u001b[0m \u001b[0mforward\u001b[0m\u001b[0;34m(\u001b[0m\u001b[0mself\u001b[0m\u001b[0;34m,\u001b[0m \u001b[0minput\u001b[0m\u001b[0;34m:\u001b[0m \u001b[0mTensor\u001b[0m\u001b[0;34m)\u001b[0m \u001b[0;34m->\u001b[0m \u001b[0mTensor\u001b[0m\u001b[0;34m:\u001b[0m\u001b[0;34m\u001b[0m\u001b[0;34m\u001b[0m\u001b[0m\n\u001b[0;32m--> 463\u001b[0;31m         \u001b[0;32mreturn\u001b[0m \u001b[0mself\u001b[0m\u001b[0;34m.\u001b[0m\u001b[0m_conv_forward\u001b[0m\u001b[0;34m(\u001b[0m\u001b[0minput\u001b[0m\u001b[0;34m,\u001b[0m \u001b[0mself\u001b[0m\u001b[0;34m.\u001b[0m\u001b[0mweight\u001b[0m\u001b[0;34m,\u001b[0m \u001b[0mself\u001b[0m\u001b[0;34m.\u001b[0m\u001b[0mbias\u001b[0m\u001b[0;34m)\u001b[0m\u001b[0;34m\u001b[0m\u001b[0;34m\u001b[0m\u001b[0m\n\u001b[0m\u001b[1;32m    464\u001b[0m \u001b[0;34m\u001b[0m\u001b[0m\n\u001b[1;32m    465\u001b[0m \u001b[0;32mclass\u001b[0m \u001b[0mConv3d\u001b[0m\u001b[0;34m(\u001b[0m\u001b[0m_ConvNd\u001b[0m\u001b[0;34m)\u001b[0m\u001b[0;34m:\u001b[0m\u001b[0;34m\u001b[0m\u001b[0;34m\u001b[0m\u001b[0m\n",
      "\u001b[0;32m/usr/local/lib/python3.9/dist-packages/torch/nn/modules/conv.py\u001b[0m in \u001b[0;36m_conv_forward\u001b[0;34m(self, input, weight, bias)\u001b[0m\n\u001b[1;32m    457\u001b[0m                             \u001b[0mweight\u001b[0m\u001b[0;34m,\u001b[0m \u001b[0mbias\u001b[0m\u001b[0;34m,\u001b[0m \u001b[0mself\u001b[0m\u001b[0;34m.\u001b[0m\u001b[0mstride\u001b[0m\u001b[0;34m,\u001b[0m\u001b[0;34m\u001b[0m\u001b[0;34m\u001b[0m\u001b[0m\n\u001b[1;32m    458\u001b[0m                             _pair(0), self.dilation, self.groups)\n\u001b[0;32m--> 459\u001b[0;31m         return F.conv2d(input, weight, bias, self.stride,\n\u001b[0m\u001b[1;32m    460\u001b[0m                         self.padding, self.dilation, self.groups)\n\u001b[1;32m    461\u001b[0m \u001b[0;34m\u001b[0m\u001b[0m\n",
      "\u001b[0;31mRuntimeError\u001b[0m: Input type (torch.FloatTensor) and weight type (torch.cuda.FloatTensor) should be the same or input should be a MKLDNN tensor and weight is a dense tensor"
     ]
    }
   ],
   "source": [
    "#FID score\n",
    "\n",
    "f_images = torch.cat([fake_images, fake_images, fake_images], dim=1)\n",
    "f_images = transforms.Compose([\n",
    "    transforms.Resize((299, 299)),\n",
    "    transforms.Grayscale(num_output_channels=3),\n",
    "])(f_images)\n",
    "\n",
    "\n",
    "# load a pre-trained Inception-v3 model\n",
    "inception_model = inception_v3(pretrained=True, aux_logits=True,)\n",
    "inception_model.to(device)\n",
    "inception_model.eval()\n",
    "\n",
    "# compute the feature representations of the real and fake images\n",
    "real_features = []\n",
    "fake_features = []\n",
    "for batch in train_loader:\n",
    "    images, _ = batch\n",
    "    images = images.to(device)\n",
    "    with torch.no_grad():\n",
    "        images = torch.cat([images,images,images],dim=1)\n",
    "        images = transforms.Compose([\n",
    "            transforms.Resize((299, 299)),\n",
    "            transforms.Grayscale(num_output_channels=3),\n",
    "        ])(images)\n",
    "\n",
    "           \n",
    "        features = inception_model(images).view(images.size(0), -1)\n",
    "    real_features.append(features.cpu().numpy())\n",
    "    break\n",
    "with torch.no_grad():\n",
    "    features = inception_model(f_images).view(f_images.size(0), -1)\n",
    "fake_features.append(features.cpu().numpy())\n",
    "\n",
    "# calculate the mean and covariance of the feature representations\n",
    "real_features = np.concatenate(real_features, axis=0)\n",
    "fake_features = np.concatenate(fake_features, axis=0)\n",
    "mu1, sigma1 = np.mean(real_features, axis=0), np.cov(real_features, rowvar=False)\n",
    "mu2, sigma2 = np.mean(fake_features, axis=0), np.cov(fake_features, rowvar=False)\n",
    "\n",
    "# calculate the FID score\n",
    "mu_diff = mu1 - mu2\n",
    "sigma_diff_sqrt = linalg.sqrtm(sigma1 @ sigma2)\n",
    "fid_score = np.real(np.trace(sigma1 + sigma2 - 2*sigma_diff_sqrt)) + np.dot(mu_diff, mu_diff)\n",
    "print(f'FID score: {fid_score:.2f}')\n"
   ]
  },
  {
   "cell_type": "code",
   "execution_count": null,
   "id": "645ba33b",
   "metadata": {
    "colab": {
     "base_uri": "https://localhost:8080/"
    },
    "id": "645ba33b",
    "outputId": "08c8c280-1444-407e-a3ab-2c934674cece"
   },
   "outputs": [
    {
     "name": "stdout",
     "output_type": "stream",
     "text": [
      "Setting up [LPIPS] perceptual loss: trunk [alex], v[0.1], spatial [off]\n",
      "Loading model from: /usr/local/lib/python3.9/dist-packages/lpips/weights/v0.1/alex.pth\n"
     ]
    },
    {
     "name": "stderr",
     "output_type": "stream",
     "text": [
      "/usr/local/lib/python3.9/dist-packages/torchvision/models/_utils.py:208: UserWarning: The parameter 'pretrained' is deprecated since 0.13 and may be removed in the future, please use 'weights' instead.\n",
      "  warnings.warn(\n",
      "/usr/local/lib/python3.9/dist-packages/torchvision/models/_utils.py:223: UserWarning: Arguments other than a weight enum or `None` for 'weights' are deprecated since 0.13 and may be removed in the future. The current behavior is equivalent to passing `weights=AlexNet_Weights.IMAGENET1K_V1`. You can also use `weights=AlexNet_Weights.DEFAULT` to get the most up-to-date weights.\n",
      "  warnings.warn(msg)\n",
      "/usr/local/lib/python3.9/dist-packages/torchvision/transforms/functional.py:1603: UserWarning: The default value of the antialias parameter of all the resizing transforms (Resize(), RandomResizedCrop(), etc.) will change from None to True in v0.17, in order to be consistent across the PIL and Tensor backends. To suppress this warning, directly pass antialias=True (recommended, future default), antialias=None (current default, which means False for Tensors and True for PIL), or antialias=False (only works on Tensors - PIL will still use antialiasing). This also applies if you are using the inference transforms from the models weights: update the call to weights.transforms(antialias=True).\n",
      "  warnings.warn(\n"
     ]
    },
    {
     "name": "stdout",
     "output_type": "stream",
     "text": [
      "LPIPS?  0.19169719517230988\n"
     ]
    }
   ],
   "source": [
    "#LPIPS metric \n",
    "loss_fn_alex = lpips.LPIPS(net='alex') \n",
    "\n",
    "lpip_fake = colorize(fake_images)\n",
    "lpip_real = colorize(real_images) # !! images must be rbg and within [-1,1]\n",
    "\n",
    "lpip_fake = transforms.Compose([\n",
    "    transforms.Resize((64, 64))])(lpip_fake)\n",
    "\n",
    "lpip_real = transforms.Compose([\n",
    "    transforms.Resize((64, 64))])(lpip_real)\n",
    "\n",
    "\n",
    "\n",
    "d = loss_fn_alex(lpip_fake, lpip_real)\n",
    "print(\"LPIPS? \",d[0].item())\n",
    "\n"
   ]
  },
  {
   "cell_type": "code",
   "execution_count": null,
   "id": "cl7UvjhH4btt",
   "metadata": {
    "colab": {
     "base_uri": "https://localhost:8080/"
    },
    "id": "cl7UvjhH4btt",
    "outputId": "9c48fb05-57d0-4f28-a344-f8d4656722e5"
   },
   "outputs": [
    {
     "name": "stdout",
     "output_type": "stream",
     "text": [
      "Minimum value: 0.06353768706321716\n",
      "Maximum value: 0.3359834551811218\n",
      "Mean value: 0.15877190232276917\n"
     ]
    }
   ],
   "source": [
    "import torch\n",
    "\n",
    "# create a tensor\n",
    "my_tensor = d\n",
    "\n",
    "# get minimum value\n",
    "min_val = torch.min(my_tensor)\n",
    "\n",
    "# get maximum value\n",
    "max_val = torch.max(my_tensor)\n",
    "\n",
    "# get mean value\n",
    "mean_val = torch.mean(my_tensor)\n",
    "\n",
    "# print the results\n",
    "print(\"Minimum value:\", min_val.item())\n",
    "print(\"Maximum value:\", max_val.item())\n",
    "print(\"Mean value:\", mean_val.item())\n"
   ]
  },
  {
   "cell_type": "code",
   "execution_count": null,
   "id": "mCPTGTiuIHM_",
   "metadata": {
    "colab": {
     "base_uri": "https://localhost:8080/"
    },
    "id": "mCPTGTiuIHM_",
    "outputId": "3453570e-1ec5-48ce-ab6a-1e821b8414b3"
   },
   "outputs": [
    {
     "name": "stdout",
     "output_type": "stream",
     "text": [
      "MSE: 0.3394473195075989\n"
     ]
    }
   ],
   "source": [
    "import torch\n",
    "import torch.nn as nn\n",
    "\n",
    "# create two tensors\n",
    "y_true = real_images\n",
    "y_pred = fake_images\n",
    "\n",
    "# create a criterion for calculating MSE\n",
    "criterion = nn.MSELoss()\n",
    "\n",
    "# calculate MSE\n",
    "mse = criterion(y_pred, y_true)\n",
    "\n",
    "# print the result\n",
    "print(\"MSE:\", mse.item())\n"
   ]
  },
  {
   "cell_type": "code",
   "execution_count": null,
   "id": "G6ZqslHzIe5d",
   "metadata": {
    "colab": {
     "base_uri": "https://localhost:8080/",
     "height": 449
    },
    "id": "G6ZqslHzIe5d",
    "outputId": "8128c64d-af4e-48d6-934a-a3539a36293e"
   },
   "outputs": [
    {
     "data": {
      "text/plain": [
       "<matplotlib.image.AxesImage at 0x7f00c6260eb0>"
      ]
     },
     "execution_count": 47,
     "metadata": {},
     "output_type": "execute_result"
    },
    {
     "data": {
      "image/png": "[encoded data removed]",
      "text/plain": [
       "<Figure size 640x480 with 2 Axes>"
      ]
     },
     "metadata": {},
     "output_type": "display_data"
    }
   ],
   "source": [
    "ex1 = real_images[:32]\n",
    "ex2 = fake_images[:32]\n",
    "\n",
    "f, axarr = plt.subplots(2)\n",
    "axarr[0].imshow(ex1[0][0])\n",
    "axarr[1].imshow(ex2[0][0])   \n"
   ]
  },
  {
   "cell_type": "code",
   "execution_count": null,
   "id": "luey8v0fkvxC",
   "metadata": {
    "colab": {
     "base_uri": "https://localhost:8080/",
     "height": 380
    },
    "id": "luey8v0fkvxC",
    "outputId": "fa317ce6-db2b-4f53-b8cc-d5a243ca3379"
   },
   "outputs": [
    {
     "ename": "KeyboardInterrupt",
     "evalue": "ignored",
     "output_type": "error",
     "traceback": [
      "\u001b[0;31m---------------------------------------------------------------------------\u001b[0m",
      "\u001b[0;31mKeyboardInterrupt\u001b[0m                         Traceback (most recent call last)",
      "\u001b[0;32m<ipython-input-92-bf72beac74c4>\u001b[0m in \u001b[0;36m<cell line: 7>\u001b[0;34m()\u001b[0m\n\u001b[1;32m      8\u001b[0m \u001b[0;34m\u001b[0m\u001b[0m\n\u001b[1;32m      9\u001b[0m   \u001b[0;31m#for each image in dataset\u001b[0m\u001b[0;34m\u001b[0m\u001b[0;34m\u001b[0m\u001b[0m\n\u001b[0;32m---> 10\u001b[0;31m   \u001b[0;32mfor\u001b[0m \u001b[0mk\u001b[0m\u001b[0;34m,\u001b[0m\u001b[0;34m(\u001b[0m\u001b[0mimages\u001b[0m\u001b[0;34m,\u001b[0m\u001b[0mlabels\u001b[0m\u001b[0;34m)\u001b[0m \u001b[0;32min\u001b[0m \u001b[0menumerate\u001b[0m\u001b[0;34m(\u001b[0m\u001b[0mtest_loader\u001b[0m\u001b[0;34m)\u001b[0m\u001b[0;34m:\u001b[0m\u001b[0;34m\u001b[0m\u001b[0;34m\u001b[0m\u001b[0m\n\u001b[0m\u001b[1;32m     11\u001b[0m     \u001b[0;32mfor\u001b[0m \u001b[0mi\u001b[0m \u001b[0;32min\u001b[0m \u001b[0mrange\u001b[0m\u001b[0;34m(\u001b[0m\u001b[0mlen\u001b[0m\u001b[0;34m(\u001b[0m\u001b[0mlabels\u001b[0m\u001b[0;34m[\u001b[0m\u001b[0;34m:\u001b[0m\u001b[0;34m]\u001b[0m\u001b[0;34m)\u001b[0m\u001b[0;34m)\u001b[0m\u001b[0;34m:\u001b[0m\u001b[0;34m\u001b[0m\u001b[0;34m\u001b[0m\u001b[0m\n\u001b[1;32m     12\u001b[0m \u001b[0;34m\u001b[0m\u001b[0m\n",
      "\u001b[0;32m/usr/local/lib/python3.9/dist-packages/torch/utils/data/dataloader.py\u001b[0m in \u001b[0;36m__next__\u001b[0;34m(self)\u001b[0m\n\u001b[1;32m    632\u001b[0m                 \u001b[0;31m# TODO(https://github.com/pytorch/pytorch/issues/76750)\u001b[0m\u001b[0;34m\u001b[0m\u001b[0;34m\u001b[0m\u001b[0m\n\u001b[1;32m    633\u001b[0m                 \u001b[0mself\u001b[0m\u001b[0;34m.\u001b[0m\u001b[0m_reset\u001b[0m\u001b[0;34m(\u001b[0m\u001b[0;34m)\u001b[0m  \u001b[0;31m# type: ignore[call-arg]\u001b[0m\u001b[0;34m\u001b[0m\u001b[0;34m\u001b[0m\u001b[0m\n\u001b[0;32m--> 634\u001b[0;31m             \u001b[0mdata\u001b[0m \u001b[0;34m=\u001b[0m \u001b[0mself\u001b[0m\u001b[0;34m.\u001b[0m\u001b[0m_next_data\u001b[0m\u001b[0;34m(\u001b[0m\u001b[0;34m)\u001b[0m\u001b[0;34m\u001b[0m\u001b[0;34m\u001b[0m\u001b[0m\n\u001b[0m\u001b[1;32m    635\u001b[0m             \u001b[0mself\u001b[0m\u001b[0;34m.\u001b[0m\u001b[0m_num_yielded\u001b[0m \u001b[0;34m+=\u001b[0m \u001b[0;36m1\u001b[0m\u001b[0;34m\u001b[0m\u001b[0;34m\u001b[0m\u001b[0m\n\u001b[1;32m    636\u001b[0m             \u001b[0;32mif\u001b[0m \u001b[0mself\u001b[0m\u001b[0;34m.\u001b[0m\u001b[0m_dataset_kind\u001b[0m \u001b[0;34m==\u001b[0m \u001b[0m_DatasetKind\u001b[0m\u001b[0;34m.\u001b[0m\u001b[0mIterable\u001b[0m \u001b[0;32mand\u001b[0m\u001b[0;31m \u001b[0m\u001b[0;31m\\\u001b[0m\u001b[0;34m\u001b[0m\u001b[0;34m\u001b[0m\u001b[0m\n",
      "\u001b[0;32m/usr/local/lib/python3.9/dist-packages/torch/utils/data/dataloader.py\u001b[0m in \u001b[0;36m_next_data\u001b[0;34m(self)\u001b[0m\n\u001b[1;32m    676\u001b[0m     \u001b[0;32mdef\u001b[0m \u001b[0m_next_data\u001b[0m\u001b[0;34m(\u001b[0m\u001b[0mself\u001b[0m\u001b[0;34m)\u001b[0m\u001b[0;34m:\u001b[0m\u001b[0;34m\u001b[0m\u001b[0;34m\u001b[0m\u001b[0m\n\u001b[1;32m    677\u001b[0m         \u001b[0mindex\u001b[0m \u001b[0;34m=\u001b[0m \u001b[0mself\u001b[0m\u001b[0;34m.\u001b[0m\u001b[0m_next_index\u001b[0m\u001b[0;34m(\u001b[0m\u001b[0;34m)\u001b[0m  \u001b[0;31m# may raise StopIteration\u001b[0m\u001b[0;34m\u001b[0m\u001b[0;34m\u001b[0m\u001b[0m\n\u001b[0;32m--> 678\u001b[0;31m         \u001b[0mdata\u001b[0m \u001b[0;34m=\u001b[0m \u001b[0mself\u001b[0m\u001b[0;34m.\u001b[0m\u001b[0m_dataset_fetcher\u001b[0m\u001b[0;34m.\u001b[0m\u001b[0mfetch\u001b[0m\u001b[0;34m(\u001b[0m\u001b[0mindex\u001b[0m\u001b[0;34m)\u001b[0m  \u001b[0;31m# may raise StopIteration\u001b[0m\u001b[0;34m\u001b[0m\u001b[0;34m\u001b[0m\u001b[0m\n\u001b[0m\u001b[1;32m    679\u001b[0m         \u001b[0;32mif\u001b[0m \u001b[0mself\u001b[0m\u001b[0;34m.\u001b[0m\u001b[0m_pin_memory\u001b[0m\u001b[0;34m:\u001b[0m\u001b[0;34m\u001b[0m\u001b[0;34m\u001b[0m\u001b[0m\n\u001b[1;32m    680\u001b[0m             \u001b[0mdata\u001b[0m \u001b[0;34m=\u001b[0m \u001b[0m_utils\u001b[0m\u001b[0;34m.\u001b[0m\u001b[0mpin_memory\u001b[0m\u001b[0;34m.\u001b[0m\u001b[0mpin_memory\u001b[0m\u001b[0;34m(\u001b[0m\u001b[0mdata\u001b[0m\u001b[0;34m,\u001b[0m \u001b[0mself\u001b[0m\u001b[0;34m.\u001b[0m\u001b[0m_pin_memory_device\u001b[0m\u001b[0;34m)\u001b[0m\u001b[0;34m\u001b[0m\u001b[0;34m\u001b[0m\u001b[0m\n",
      "\u001b[0;32m/usr/local/lib/python3.9/dist-packages/torch/utils/data/_utils/fetch.py\u001b[0m in \u001b[0;36mfetch\u001b[0;34m(self, possibly_batched_index)\u001b[0m\n\u001b[1;32m     49\u001b[0m                 \u001b[0mdata\u001b[0m \u001b[0;34m=\u001b[0m \u001b[0mself\u001b[0m\u001b[0;34m.\u001b[0m\u001b[0mdataset\u001b[0m\u001b[0;34m.\u001b[0m\u001b[0m__getitems__\u001b[0m\u001b[0;34m(\u001b[0m\u001b[0mpossibly_batched_index\u001b[0m\u001b[0;34m)\u001b[0m\u001b[0;34m\u001b[0m\u001b[0;34m\u001b[0m\u001b[0m\n\u001b[1;32m     50\u001b[0m             \u001b[0;32melse\u001b[0m\u001b[0;34m:\u001b[0m\u001b[0;34m\u001b[0m\u001b[0;34m\u001b[0m\u001b[0m\n\u001b[0;32m---> 51\u001b[0;31m                 \u001b[0mdata\u001b[0m \u001b[0;34m=\u001b[0m \u001b[0;34m[\u001b[0m\u001b[0mself\u001b[0m\u001b[0;34m.\u001b[0m\u001b[0mdataset\u001b[0m\u001b[0;34m[\u001b[0m\u001b[0midx\u001b[0m\u001b[0;34m]\u001b[0m \u001b[0;32mfor\u001b[0m \u001b[0midx\u001b[0m \u001b[0;32min\u001b[0m \u001b[0mpossibly_batched_index\u001b[0m\u001b[0;34m]\u001b[0m\u001b[0;34m\u001b[0m\u001b[0;34m\u001b[0m\u001b[0m\n\u001b[0m\u001b[1;32m     52\u001b[0m         \u001b[0;32melse\u001b[0m\u001b[0;34m:\u001b[0m\u001b[0;34m\u001b[0m\u001b[0;34m\u001b[0m\u001b[0m\n\u001b[1;32m     53\u001b[0m             \u001b[0mdata\u001b[0m \u001b[0;34m=\u001b[0m \u001b[0mself\u001b[0m\u001b[0;34m.\u001b[0m\u001b[0mdataset\u001b[0m\u001b[0;34m[\u001b[0m\u001b[0mpossibly_batched_index\u001b[0m\u001b[0;34m]\u001b[0m\u001b[0;34m\u001b[0m\u001b[0;34m\u001b[0m\u001b[0m\n",
      "\u001b[0;32m/usr/local/lib/python3.9/dist-packages/torch/utils/data/_utils/fetch.py\u001b[0m in \u001b[0;36m<listcomp>\u001b[0;34m(.0)\u001b[0m\n\u001b[1;32m     49\u001b[0m                 \u001b[0mdata\u001b[0m \u001b[0;34m=\u001b[0m \u001b[0mself\u001b[0m\u001b[0;34m.\u001b[0m\u001b[0mdataset\u001b[0m\u001b[0;34m.\u001b[0m\u001b[0m__getitems__\u001b[0m\u001b[0;34m(\u001b[0m\u001b[0mpossibly_batched_index\u001b[0m\u001b[0;34m)\u001b[0m\u001b[0;34m\u001b[0m\u001b[0;34m\u001b[0m\u001b[0m\n\u001b[1;32m     50\u001b[0m             \u001b[0;32melse\u001b[0m\u001b[0;34m:\u001b[0m\u001b[0;34m\u001b[0m\u001b[0;34m\u001b[0m\u001b[0m\n\u001b[0;32m---> 51\u001b[0;31m                 \u001b[0mdata\u001b[0m \u001b[0;34m=\u001b[0m \u001b[0;34m[\u001b[0m\u001b[0mself\u001b[0m\u001b[0;34m.\u001b[0m\u001b[0mdataset\u001b[0m\u001b[0;34m[\u001b[0m\u001b[0midx\u001b[0m\u001b[0;34m]\u001b[0m \u001b[0;32mfor\u001b[0m \u001b[0midx\u001b[0m \u001b[0;32min\u001b[0m \u001b[0mpossibly_batched_index\u001b[0m\u001b[0;34m]\u001b[0m\u001b[0;34m\u001b[0m\u001b[0;34m\u001b[0m\u001b[0m\n\u001b[0m\u001b[1;32m     52\u001b[0m         \u001b[0;32melse\u001b[0m\u001b[0;34m:\u001b[0m\u001b[0;34m\u001b[0m\u001b[0;34m\u001b[0m\u001b[0m\n\u001b[1;32m     53\u001b[0m             \u001b[0mdata\u001b[0m \u001b[0;34m=\u001b[0m \u001b[0mself\u001b[0m\u001b[0;34m.\u001b[0m\u001b[0mdataset\u001b[0m\u001b[0;34m[\u001b[0m\u001b[0mpossibly_batched_index\u001b[0m\u001b[0;34m]\u001b[0m\u001b[0;34m\u001b[0m\u001b[0;34m\u001b[0m\u001b[0m\n",
      "\u001b[0;32m/usr/local/lib/python3.9/dist-packages/torchvision/datasets/mnist.py\u001b[0m in \u001b[0;36m__getitem__\u001b[0;34m(self, index)\u001b[0m\n\u001b[1;32m    143\u001b[0m \u001b[0;34m\u001b[0m\u001b[0m\n\u001b[1;32m    144\u001b[0m         \u001b[0;32mif\u001b[0m \u001b[0mself\u001b[0m\u001b[0;34m.\u001b[0m\u001b[0mtransform\u001b[0m \u001b[0;32mis\u001b[0m \u001b[0;32mnot\u001b[0m \u001b[0;32mNone\u001b[0m\u001b[0;34m:\u001b[0m\u001b[0;34m\u001b[0m\u001b[0;34m\u001b[0m\u001b[0m\n\u001b[0;32m--> 145\u001b[0;31m             \u001b[0mimg\u001b[0m \u001b[0;34m=\u001b[0m \u001b[0mself\u001b[0m\u001b[0;34m.\u001b[0m\u001b[0mtransform\u001b[0m\u001b[0;34m(\u001b[0m\u001b[0mimg\u001b[0m\u001b[0;34m)\u001b[0m\u001b[0;34m\u001b[0m\u001b[0;34m\u001b[0m\u001b[0m\n\u001b[0m\u001b[1;32m    146\u001b[0m \u001b[0;34m\u001b[0m\u001b[0m\n\u001b[1;32m    147\u001b[0m         \u001b[0;32mif\u001b[0m \u001b[0mself\u001b[0m\u001b[0;34m.\u001b[0m\u001b[0mtarget_transform\u001b[0m \u001b[0;32mis\u001b[0m \u001b[0;32mnot\u001b[0m \u001b[0;32mNone\u001b[0m\u001b[0;34m:\u001b[0m\u001b[0;34m\u001b[0m\u001b[0;34m\u001b[0m\u001b[0m\n",
      "\u001b[0;32m/usr/local/lib/python3.9/dist-packages/torchvision/transforms/transforms.py\u001b[0m in \u001b[0;36m__call__\u001b[0;34m(self, img)\u001b[0m\n\u001b[1;32m     93\u001b[0m     \u001b[0;32mdef\u001b[0m \u001b[0m__call__\u001b[0m\u001b[0;34m(\u001b[0m\u001b[0mself\u001b[0m\u001b[0;34m,\u001b[0m \u001b[0mimg\u001b[0m\u001b[0;34m)\u001b[0m\u001b[0;34m:\u001b[0m\u001b[0;34m\u001b[0m\u001b[0;34m\u001b[0m\u001b[0m\n\u001b[1;32m     94\u001b[0m         \u001b[0;32mfor\u001b[0m \u001b[0mt\u001b[0m \u001b[0;32min\u001b[0m \u001b[0mself\u001b[0m\u001b[0;34m.\u001b[0m\u001b[0mtransforms\u001b[0m\u001b[0;34m:\u001b[0m\u001b[0;34m\u001b[0m\u001b[0;34m\u001b[0m\u001b[0m\n\u001b[0;32m---> 95\u001b[0;31m             \u001b[0mimg\u001b[0m \u001b[0;34m=\u001b[0m \u001b[0mt\u001b[0m\u001b[0;34m(\u001b[0m\u001b[0mimg\u001b[0m\u001b[0;34m)\u001b[0m\u001b[0;34m\u001b[0m\u001b[0;34m\u001b[0m\u001b[0m\n\u001b[0m\u001b[1;32m     96\u001b[0m         \u001b[0;32mreturn\u001b[0m \u001b[0mimg\u001b[0m\u001b[0;34m\u001b[0m\u001b[0;34m\u001b[0m\u001b[0m\n\u001b[1;32m     97\u001b[0m \u001b[0;34m\u001b[0m\u001b[0m\n",
      "\u001b[0;32m/usr/local/lib/python3.9/dist-packages/torch/nn/modules/module.py\u001b[0m in \u001b[0;36m_call_impl\u001b[0;34m(self, *args, **kwargs)\u001b[0m\n\u001b[1;32m   1499\u001b[0m                 \u001b[0;32mor\u001b[0m \u001b[0m_global_backward_pre_hooks\u001b[0m \u001b[0;32mor\u001b[0m \u001b[0m_global_backward_hooks\u001b[0m\u001b[0;34m\u001b[0m\u001b[0;34m\u001b[0m\u001b[0m\n\u001b[1;32m   1500\u001b[0m                 or _global_forward_hooks or _global_forward_pre_hooks):\n\u001b[0;32m-> 1501\u001b[0;31m             \u001b[0;32mreturn\u001b[0m \u001b[0mforward_call\u001b[0m\u001b[0;34m(\u001b[0m\u001b[0;34m*\u001b[0m\u001b[0margs\u001b[0m\u001b[0;34m,\u001b[0m \u001b[0;34m**\u001b[0m\u001b[0mkwargs\u001b[0m\u001b[0;34m)\u001b[0m\u001b[0;34m\u001b[0m\u001b[0;34m\u001b[0m\u001b[0m\n\u001b[0m\u001b[1;32m   1502\u001b[0m         \u001b[0;31m# Do not call functions when jit is used\u001b[0m\u001b[0;34m\u001b[0m\u001b[0;34m\u001b[0m\u001b[0m\n\u001b[1;32m   1503\u001b[0m         \u001b[0mfull_backward_hooks\u001b[0m\u001b[0;34m,\u001b[0m \u001b[0mnon_full_backward_hooks\u001b[0m \u001b[0;34m=\u001b[0m \u001b[0;34m[\u001b[0m\u001b[0;34m]\u001b[0m\u001b[0;34m,\u001b[0m \u001b[0;34m[\u001b[0m\u001b[0;34m]\u001b[0m\u001b[0;34m\u001b[0m\u001b[0;34m\u001b[0m\u001b[0m\n",
      "\u001b[0;32m/usr/local/lib/python3.9/dist-packages/torchvision/transforms/transforms.py\u001b[0m in \u001b[0;36mforward\u001b[0;34m(self, tensor)\u001b[0m\n\u001b[1;32m    275\u001b[0m             \u001b[0mTensor\u001b[0m\u001b[0;34m:\u001b[0m \u001b[0mNormalized\u001b[0m \u001b[0mTensor\u001b[0m \u001b[0mimage\u001b[0m\u001b[0;34m.\u001b[0m\u001b[0;34m\u001b[0m\u001b[0;34m\u001b[0m\u001b[0m\n\u001b[1;32m    276\u001b[0m         \"\"\"\n\u001b[0;32m--> 277\u001b[0;31m         \u001b[0;32mreturn\u001b[0m \u001b[0mF\u001b[0m\u001b[0;34m.\u001b[0m\u001b[0mnormalize\u001b[0m\u001b[0;34m(\u001b[0m\u001b[0mtensor\u001b[0m\u001b[0;34m,\u001b[0m \u001b[0mself\u001b[0m\u001b[0;34m.\u001b[0m\u001b[0mmean\u001b[0m\u001b[0;34m,\u001b[0m \u001b[0mself\u001b[0m\u001b[0;34m.\u001b[0m\u001b[0mstd\u001b[0m\u001b[0;34m,\u001b[0m \u001b[0mself\u001b[0m\u001b[0;34m.\u001b[0m\u001b[0minplace\u001b[0m\u001b[0;34m)\u001b[0m\u001b[0;34m\u001b[0m\u001b[0;34m\u001b[0m\u001b[0m\n\u001b[0m\u001b[1;32m    278\u001b[0m \u001b[0;34m\u001b[0m\u001b[0m\n\u001b[1;32m    279\u001b[0m     \u001b[0;32mdef\u001b[0m \u001b[0m__repr__\u001b[0m\u001b[0;34m(\u001b[0m\u001b[0mself\u001b[0m\u001b[0;34m)\u001b[0m \u001b[0;34m->\u001b[0m \u001b[0mstr\u001b[0m\u001b[0;34m:\u001b[0m\u001b[0;34m\u001b[0m\u001b[0;34m\u001b[0m\u001b[0m\n",
      "\u001b[0;32m/usr/local/lib/python3.9/dist-packages/torchvision/transforms/functional.py\u001b[0m in \u001b[0;36mnormalize\u001b[0;34m(tensor, mean, std, inplace)\u001b[0m\n\u001b[1;32m    361\u001b[0m         \u001b[0;32mraise\u001b[0m \u001b[0mTypeError\u001b[0m\u001b[0;34m(\u001b[0m\u001b[0;34mf\"img should be Tensor Image. Got {type(tensor)}\"\u001b[0m\u001b[0;34m)\u001b[0m\u001b[0;34m\u001b[0m\u001b[0;34m\u001b[0m\u001b[0m\n\u001b[1;32m    362\u001b[0m \u001b[0;34m\u001b[0m\u001b[0m\n\u001b[0;32m--> 363\u001b[0;31m     \u001b[0;32mreturn\u001b[0m \u001b[0mF_t\u001b[0m\u001b[0;34m.\u001b[0m\u001b[0mnormalize\u001b[0m\u001b[0;34m(\u001b[0m\u001b[0mtensor\u001b[0m\u001b[0;34m,\u001b[0m \u001b[0mmean\u001b[0m\u001b[0;34m=\u001b[0m\u001b[0mmean\u001b[0m\u001b[0;34m,\u001b[0m \u001b[0mstd\u001b[0m\u001b[0;34m=\u001b[0m\u001b[0mstd\u001b[0m\u001b[0;34m,\u001b[0m \u001b[0minplace\u001b[0m\u001b[0;34m=\u001b[0m\u001b[0minplace\u001b[0m\u001b[0;34m)\u001b[0m\u001b[0;34m\u001b[0m\u001b[0;34m\u001b[0m\u001b[0m\n\u001b[0m\u001b[1;32m    364\u001b[0m \u001b[0;34m\u001b[0m\u001b[0m\n\u001b[1;32m    365\u001b[0m \u001b[0;34m\u001b[0m\u001b[0m\n",
      "\u001b[0;32m/usr/local/lib/python3.9/dist-packages/torchvision/transforms/_functional_tensor.py\u001b[0m in \u001b[0;36mnormalize\u001b[0;34m(tensor, mean, std, inplace)\u001b[0m\n\u001b[1;32m    920\u001b[0m     \u001b[0mmean\u001b[0m \u001b[0;34m=\u001b[0m \u001b[0mtorch\u001b[0m\u001b[0;34m.\u001b[0m\u001b[0mas_tensor\u001b[0m\u001b[0;34m(\u001b[0m\u001b[0mmean\u001b[0m\u001b[0;34m,\u001b[0m \u001b[0mdtype\u001b[0m\u001b[0;34m=\u001b[0m\u001b[0mdtype\u001b[0m\u001b[0;34m,\u001b[0m \u001b[0mdevice\u001b[0m\u001b[0;34m=\u001b[0m\u001b[0mtensor\u001b[0m\u001b[0;34m.\u001b[0m\u001b[0mdevice\u001b[0m\u001b[0;34m)\u001b[0m\u001b[0;34m\u001b[0m\u001b[0;34m\u001b[0m\u001b[0m\n\u001b[1;32m    921\u001b[0m     \u001b[0mstd\u001b[0m \u001b[0;34m=\u001b[0m \u001b[0mtorch\u001b[0m\u001b[0;34m.\u001b[0m\u001b[0mas_tensor\u001b[0m\u001b[0;34m(\u001b[0m\u001b[0mstd\u001b[0m\u001b[0;34m,\u001b[0m \u001b[0mdtype\u001b[0m\u001b[0;34m=\u001b[0m\u001b[0mdtype\u001b[0m\u001b[0;34m,\u001b[0m \u001b[0mdevice\u001b[0m\u001b[0;34m=\u001b[0m\u001b[0mtensor\u001b[0m\u001b[0;34m.\u001b[0m\u001b[0mdevice\u001b[0m\u001b[0;34m)\u001b[0m\u001b[0;34m\u001b[0m\u001b[0;34m\u001b[0m\u001b[0m\n\u001b[0;32m--> 922\u001b[0;31m     \u001b[0;32mif\u001b[0m \u001b[0;34m(\u001b[0m\u001b[0mstd\u001b[0m \u001b[0;34m==\u001b[0m \u001b[0;36m0\u001b[0m\u001b[0;34m)\u001b[0m\u001b[0;34m.\u001b[0m\u001b[0many\u001b[0m\u001b[0;34m(\u001b[0m\u001b[0;34m)\u001b[0m\u001b[0;34m:\u001b[0m\u001b[0;34m\u001b[0m\u001b[0;34m\u001b[0m\u001b[0m\n\u001b[0m\u001b[1;32m    923\u001b[0m         \u001b[0;32mraise\u001b[0m \u001b[0mValueError\u001b[0m\u001b[0;34m(\u001b[0m\u001b[0;34mf\"std evaluated to zero after conversion to {dtype}, leading to division by zero.\"\u001b[0m\u001b[0;34m)\u001b[0m\u001b[0;34m\u001b[0m\u001b[0;34m\u001b[0m\u001b[0m\n\u001b[1;32m    924\u001b[0m     \u001b[0;32mif\u001b[0m \u001b[0mmean\u001b[0m\u001b[0;34m.\u001b[0m\u001b[0mndim\u001b[0m \u001b[0;34m==\u001b[0m \u001b[0;36m1\u001b[0m\u001b[0;34m:\u001b[0m\u001b[0;34m\u001b[0m\u001b[0;34m\u001b[0m\u001b[0m\n",
      "\u001b[0;31mKeyboardInterrupt\u001b[0m: "
     ]
    }
   ],
   "source": [
    "#Calculate mean of images(takes ~3 mins for max=1000)\n",
    "mnist_means = []\n",
    "number_mean = []\n",
    "max = 100\n",
    "\n",
    "#for each number(0,9)\n",
    "for num in range(10):\n",
    "\n",
    "  #for each image in dataset\n",
    "  for k,(images,labels) in enumerate(test_loader):  \n",
    "    for i in range(len(labels[:])):\n",
    "    \n",
    "      #if it's the number we want\n",
    "      if num == labels[i].item():\n",
    "        number_mean.append(images[i])\n",
    "        \n",
    "        if len(number_mean) >= max:\n",
    "          break\n",
    "  number_mean = torch.stack(number_mean,dim=0)\n",
    "  number_mean = torch.mean(number_mean, dim=0)\n",
    "\n",
    "\n",
    "  mnist_means.append(number_mean)\n",
    "  number_mean = []\n",
    "  \n",
    "mnist_mean = torch.stack(mnist_means,dim=0)"
   ]
  },
  {
   "cell_type": "code",
   "execution_count": null,
   "id": "EhJmxFElSQ8M",
   "metadata": {
    "colab": {
     "base_uri": "https://localhost:8080/"
    },
    "id": "EhJmxFElSQ8M",
    "outputId": "d47c70b0-5677-4ce1-a9f8-f8b2e3dfe5f1"
   },
   "outputs": [
    {
     "name": "stderr",
     "output_type": "stream",
     "text": [
      "<ipython-input-93-958abf99daf8>:8: VisibleDeprecationWarning: Creating an ndarray from ragged nested sequences (which is a list-or-tuple of lists-or-tuples-or ndarrays with different lengths or shapes) is deprecated. If you meant to do this, you must specify 'dtype=object' when creating the ndarray.\n",
      "  test_array = np.array([(np.array(x), y) for x, y in test_loader.dataset])\n"
     ]
    }
   ],
   "source": [
    "# set seed for reproducibility\n",
    "random.seed(42)\n",
    "\n",
    "mnist_means = []\n",
    "max = 100\n",
    "\n",
    "# convert dataset to numpy array\n",
    "test_array = np.array([(np.array(x), y) for x, y in test_loader.dataset])\n",
    "\n",
    "# for each number(0,9)\n",
    "for num in range(10):\n",
    "  # get indices of images with the current number\n",
    "  indices = np.where(test_array[:, 1] == num)[0]\n",
    "  # randomly sample max number of images\n",
    "  subset_indices = random.sample(indices.tolist(), max) if len(indices) > max else indices\n",
    "  subset_array = test_array[subset_indices]\n",
    "\n",
    "  # compute mean of sampled images using numpy\n",
    "  number_mean = np.mean(subset_array[:, 0], axis=0)\n",
    "\n",
    "  mnist_means.append(torch.from_numpy(number_mean))\n",
    "\n",
    "mnist_mean = torch.stack(mnist_means, dim=0)\n"
   ]
  },
  {
   "cell_type": "code",
   "execution_count": null,
   "id": "2dzvEkg4qTWO",
   "metadata": {
    "colab": {
     "base_uri": "https://localhost:8080/",
     "height": 191
    },
    "id": "2dzvEkg4qTWO",
    "outputId": "2929d3e2-4308-4091-99b6-a5c777a11786"
   },
   "outputs": [
    {
     "data": {
      "image/png": "[encoded data removed]",
      "text/plain": [
       "<Figure size 2000x250 with 10 Axes>"
      ]
     },
     "metadata": {},
     "output_type": "display_data"
    }
   ],
   "source": [
    "fig, axes = plt.subplots(nrows=1,ncols=10,figsize=(20,2.5))\n",
    "for i in range(len(mnist_mean[:])):\n",
    "  axes[i].imshow(mnist_mean[i][0])"
   ]
  },
  {
   "cell_type": "markdown",
   "id": "65op0WlwzC7D",
   "metadata": {
    "id": "65op0WlwzC7D"
   },
   "source": [
    "Define the distance as the minimum of the mean Euclidean distance of x\n",
    "to each mean $\\bar{x}k$ :\n",
    " \n",
    " $$d=\\min _{0 \\leq k \\leq 9} \\frac{1}{W H} \\sqrt{\\sum_i^W \\sum_j^H\\left(x_{i j}-\\bar{x}_{k, i j}\\right)^2}$$\n",
    "\n",
    "The score is the average of $d$ over all samples.\n"
   ]
  },
  {
   "cell_type": "code",
   "execution_count": null,
   "id": "kib3e7P20OVr",
   "metadata": {
    "id": "kib3e7P20OVr"
   },
   "outputs": [],
   "source": [
    "#Calculate average distances\n",
    "\n",
    "#On how many generated images to average on\n",
    "num_samples = 1000\n",
    "fake_images_means = []\n",
    "fake_image_mean = []\n",
    "\n",
    "distances = []\n",
    "with torch.no_grad():\n",
    "  for num in range(10):\n",
    "    for i in range(num_samples):\n",
    "      latent = torch.rand_like(torch.Tensor(1,100))\n",
    "      caption = torch.tensor(num, dtype=torch.int64)\n",
    "      \n",
    "      fake_image = generator(latent,caption)  \n",
    "      fake_image_mean.append(fake_image[0])\n",
    "    \n",
    "    fake_image_mean = torch.stack(fake_image_mean,dim=0)\n",
    "    fake_image_mean = torch.mean(fake_image_mean, dim=0)\n",
    "\n",
    "    fake_images_means.append(fake_image_mean)\n",
    "    fake_image_mean = []  \n",
    "\n",
    "  "
   ]
  },
  {
   "cell_type": "code",
   "execution_count": null,
   "id": "d-SHgWkT_SSB",
   "metadata": {
    "colab": {
     "base_uri": "https://localhost:8080/"
    },
    "id": "d-SHgWkT_SSB",
    "outputId": "feedd1d3-ae90-4961-96ac-688d65467afb"
   },
   "outputs": [
    {
     "data": {
      "text/plain": [
       "torch.Size([10, 1, 28, 28])"
      ]
     },
     "execution_count": 96,
     "metadata": {},
     "output_type": "execute_result"
    }
   ],
   "source": [
    "fake_images_means = torch.stack(fake_images_means,dim=0)\n",
    "fake_images_means.shape"
   ]
  },
  {
   "cell_type": "code",
   "execution_count": null,
   "id": "nK4oaf5o_ihZ",
   "metadata": {
    "colab": {
     "base_uri": "https://localhost:8080/",
     "height": 257
    },
    "id": "nK4oaf5o_ihZ",
    "outputId": "2bc880be-ce3f-4921-ff5e-18a37947137c"
   },
   "outputs": [
    {
     "data": {
      "image/png": "[encoded data removed]",
      "text/plain": [
       "<Figure size 2000x250 with 20 Axes>"
      ]
     },
     "metadata": {},
     "output_type": "display_data"
    }
   ],
   "source": [
    "fig, axes = plt.subplots(nrows=2,ncols=10,figsize=(20,2.5))\n",
    "plt.tick_params(labelsize=0)\n",
    "\n",
    "\n",
    "for i in range(len(mnist_mean[:])):\n",
    "  axes[1][i].imshow(mnist_mean[i][0])\n",
    "for i in range(len(fake_images_means[:])):\n",
    "  axes[0][i].imshow(fake_images_means[i][0])\n",
    "\n"
   ]
  },
  {
   "cell_type": "code",
   "execution_count": null,
   "id": "s7B-DMlJ_1GJ",
   "metadata": {
    "colab": {
     "base_uri": "https://localhost:8080/"
    },
    "id": "s7B-DMlJ_1GJ",
    "outputId": "051e6e00-fcc4-404d-a92b-29685ab9851e"
   },
   "outputs": [
    {
     "name": "stdout",
     "output_type": "stream",
     "text": [
      "Number: 0, Distance: 9.4604\n",
      "Number: 1, Distance: 6.0773\n",
      "Number: 2, Distance: 9.5981\n",
      "Number: 3, Distance: 7.6404\n",
      "Number: 4, Distance: 7.2333\n",
      "Number: 5, Distance: 9.4148\n",
      "Number: 6, Distance: 8.5297\n",
      "Number: 7, Distance: 8.4616\n",
      "Number: 8, Distance: 7.9925\n",
      "Number: 9, Distance: 7.9970\n"
     ]
    }
   ],
   "source": [
    "#calculate distances\n",
    "distances = []\n",
    "for i in range(len(fake_images_means[:])):\n",
    "\n",
    "  diff = mnist_means[i] - fake_images_means[i]\n",
    "  distance = torch.norm(diff, p=2)\n",
    "  #distances.append(distance.item())\n",
    "  print('Number: %d, Distance: %.4f'\n",
    "  %(i,distance.item()))\n",
    "\n",
    "# Print the distance\n"
   ]
  },
  {
   "cell_type": "code",
   "execution_count": null,
   "id": "0Zg69Rk8YDiM",
   "metadata": {
    "id": "0Zg69Rk8YDiM"
   },
   "outputs": [],
   "source": [
    "class LeNet5(nn.Module):\n",
    "    def __init__(self):\n",
    "        super(LeNet5, self).__init__()\n",
    "        self.conv1 = nn.Conv2d(1, 6, 5)\n",
    "        self.relu1 = nn.ReLU()\n",
    "        self.pool1 = nn.MaxPool2d(2)\n",
    "        self.conv2 = nn.Conv2d(6, 16, 5)\n",
    "        self.relu2 = nn.ReLU()\n",
    "        self.pool2 = nn.MaxPool2d(2)\n",
    "        self.fc1 = nn.Linear(256, 120)\n",
    "        self.relu3 = nn.ReLU()\n",
    "        self.fc2 = nn.Linear(120, 84)\n",
    "        self.relu4 = nn.ReLU()\n",
    "        self.fc3 = nn.Linear(84, 10)\n",
    "        self.relu5 = nn.ReLU()\n",
    "\n",
    "    def forward(self, x):\n",
    "        y = self.conv1(x)\n",
    "        y = self.relu1(y)\n",
    "        y = self.pool1(y)\n",
    "        y = self.conv2(y)\n",
    "        y = self.relu2(y)\n",
    "        y = self.pool2(y)\n",
    "        y = y.view(y.shape[0], -1)\n",
    "        y = self.fc1(y)\n",
    "        y = self.relu3(y)\n",
    "        y = self.fc2(y)\n",
    "        y = self.relu4(y)\n",
    "        y = self.fc3(y)\n",
    "        y= self.relu5(y)\n",
    "        return y"
   ]
  },
  {
   "cell_type": "code",
   "execution_count": null,
   "id": "0WTFo0N5mOtu",
   "metadata": {
    "colab": {
     "base_uri": "https://localhost:8080/"
    },
    "id": "0WTFo0N5mOtu",
    "outputId": "03684b41-d5e3-4c9d-d4a6-aec80aea5c21"
   },
   "outputs": [
    {
     "name": "stdout",
     "output_type": "stream",
     "text": [
      "accuracy: 0.268\n",
      "accuracy: 0.851\n",
      "accuracy: 0.917\n",
      "accuracy: 0.954\n",
      "accuracy: 0.965\n",
      "accuracy: 0.974\n",
      "accuracy: 0.976\n",
      "accuracy: 0.980\n",
      "accuracy: 0.981\n",
      "accuracy: 0.982\n",
      "accuracy: 0.981\n",
      "accuracy: 0.982\n",
      "accuracy: 0.981\n",
      "accuracy: 0.981\n",
      "accuracy: 0.981\n",
      "accuracy: 0.981\n",
      "accuracy: 0.982\n",
      "accuracy: 0.981\n",
      "accuracy: 0.981\n",
      "accuracy: 0.980\n",
      "accuracy: 0.979\n",
      "accuracy: 0.976\n",
      "accuracy: 0.976\n",
      "accuracy: 0.975\n",
      "accuracy: 0.974\n",
      "accuracy: 0.974\n",
      "Model finished training\n"
     ]
    }
   ],
   "source": [
    "from torchvision.datasets import mnist\n",
    "from torch.utils.data import DataLoader\n",
    "from torch.nn import CrossEntropyLoss\n",
    "from torch.optim import SGD\n",
    "import os\n",
    "\n",
    "if __name__ == '__main__':\n",
    "    device =  'cpu'\n",
    "    batch_size = 256\n",
    "    train_dataset = mnist.MNIST(root='~/torch_datasets', train=True, transform=ToTensor(),)\n",
    "    test_dataset = mnist.MNIST(root='~/torch_datasets', train=False, transform=ToTensor())\n",
    "    train_loader = DataLoader(train_dataset, batch_size=batch_size)\n",
    "    test_loader = DataLoader(test_dataset, batch_size=batch_size)\n",
    "    model = LeNet5().to(device)\n",
    "    sgd = SGD(model.parameters(), lr=1e-1)\n",
    "    loss_fn = CrossEntropyLoss()\n",
    "    all_epoch = 100\n",
    "    prev_acc = 0\n",
    "    for current_epoch in range(all_epoch):\n",
    "        model.train()\n",
    "        for idx, (train_x, train_label) in enumerate(train_loader):\n",
    "            train_x = train_x.to(device)\n",
    "            train_label = train_label.to(device)\n",
    "            sgd.zero_grad()\n",
    "            predict_y = model(train_x.float())\n",
    "            loss = loss_fn(predict_y, train_label.long())\n",
    "            loss.backward()\n",
    "            sgd.step()\n",
    "\n",
    "        all_correct_num = 0\n",
    "        all_sample_num = 0\n",
    "        model.eval()\n",
    "        \n",
    "        for idx, (test_x, test_label) in enumerate(test_loader):\n",
    "            test_x = test_x.to(device)\n",
    "            test_label = test_label.to(device)\n",
    "            predict_y = model(test_x.float()).detach()\n",
    "            predict_y =torch.argmax(predict_y, dim=-1)\n",
    "            current_correct_num = predict_y == test_label\n",
    "            all_correct_num += np.sum(current_correct_num.to('cpu').numpy(), axis=-1)\n",
    "            all_sample_num += current_correct_num.shape[0]\n",
    "        acc = all_correct_num / all_sample_num\n",
    "        print('accuracy: {:.3f}'.format(acc), flush=True)\n",
    "        if not os.path.isdir(\"models\"):\n",
    "            os.mkdir(\"models\")\n",
    "        torch.save(model, 'models/mnist_{:.3f}.pkl'.format(acc))\n",
    "        if np.abs(acc - prev_acc) < 1e-4:\n",
    "            break\n",
    "        prev_acc = acc\n",
    "    print(\"Model finished training\")"
   ]
  },
  {
   "cell_type": "code",
   "execution_count": null,
   "id": "cLlpBGNe8p18",
   "metadata": {
    "id": "cLlpBGNe8p18"
   },
   "outputs": [],
   "source": [
    "for idx, (test_x, test_label) in enumerate(test_loader):\n",
    "  predict_y = model(test_x.float()).detach()\n",
    "  break"
   ]
  },
  {
   "cell_type": "code",
   "execution_count": null,
   "id": "ykXxTEGt9aAs",
   "metadata": {
    "id": "ykXxTEGt9aAs"
   },
   "outputs": [],
   "source": [
    "def gaussian_frechet_distance(mu1, sigma1, mu2, sigma2):\n",
    "    diff = mu1 - mu2\n",
    "    covmean = torch.sqrt(torch.mm(sigma1, sigma2))\n",
    "    if covmean.dtype == torch.complex64 or covmean.dtype == torch.complex128:\n",
    "        print(\"sqrt(Σ1 * Σ2) is complex\")\n",
    "        if torch.all(torch.isclose(torch.tensor([0.0]), torch.diag(torch.imag(covmean)), atol=1e-3)):\n",
    "            print(\"imaginary components are small and have been set to zero\")\n",
    "            covmean = torch.real(covmean)\n",
    "    return torch.sum(diff * diff) + torch.trace(sigma1 + sigma2 - 2 * covmean)\n"
   ]
  },
  {
   "cell_type": "code",
   "execution_count": null,
   "id": "sdfMiULg9zSn",
   "metadata": {
    "colab": {
     "base_uri": "https://localhost:8080/"
    },
    "id": "sdfMiULg9zSn",
    "outputId": "3908c32f-b78a-4a94-8c83-dbdb185f220e"
   },
   "outputs": [
    {
     "name": "stdout",
     "output_type": "stream",
     "text": [
      "tensor(-103671.7891, grad_fn=<AddBackward0>)\n"
     ]
    }
   ],
   "source": [
    "\n",
    "\n",
    "\n",
    "\n",
    "activations = (model(real_images))\n",
    "activations_test = (model(fake_images))\n",
    "\n",
    "μ = torch.mean(activations, dim=1, keepdim=True)\n",
    "Σ = torch.matmul((activations - μ), (activations - μ).T) / (activations.shape[1] - 1)\n",
    "μ_test = torch.mean(activations_test, dim=1, keepdim=True)\n",
    "Σ_test = torch.matmul((activations_test - μ_test), (activations_test - μ_test).T) / (activations_test.shape[1] - 1)\n",
    "fid = gaussian_frechet_distance(μ_test, Σ_test, μ, Σ)\n",
    "\n",
    "print(fid)\n",
    "\n"
   ]
  },
  {
   "cell_type": "code",
   "execution_count": null,
   "id": "TGoBIkjMAcMj",
   "metadata": {
    "colab": {
     "base_uri": "https://localhost:8080/",
     "height": 183
    },
    "id": "TGoBIkjMAcMj",
    "outputId": "af098f93-335b-463e-cdec-18c74e88e449"
   },
   "outputs": [
    {
     "ename": "NameError",
     "evalue": "ignored",
     "output_type": "error",
     "traceback": [
      "\u001b[0;31m---------------------------------------------------------------------------\u001b[0m",
      "\u001b[0;31mNameError\u001b[0m                                 Traceback (most recent call last)",
      "\u001b[0;32m<ipython-input-141-aa14deb2dfb1>\u001b[0m in \u001b[0;36m<cell line: 2>\u001b[0;34m()\u001b[0m\n\u001b[1;32m      1\u001b[0m \u001b[0mclassifier_headless\u001b[0m \u001b[0;34m=\u001b[0m \u001b[0mtorch\u001b[0m\u001b[0;34m.\u001b[0m\u001b[0mnn\u001b[0m\u001b[0;34m.\u001b[0m\u001b[0mSequential\u001b[0m\u001b[0;34m(\u001b[0m\u001b[0;34m*\u001b[0m\u001b[0mlist\u001b[0m\u001b[0;34m(\u001b[0m\u001b[0mmodel\u001b[0m\u001b[0;34m.\u001b[0m\u001b[0mchildren\u001b[0m\u001b[0;34m(\u001b[0m\u001b[0;34m)\u001b[0m\u001b[0;34m)\u001b[0m\u001b[0;34m[\u001b[0m\u001b[0;34m:\u001b[0m\u001b[0;34m-\u001b[0m\u001b[0;36m1\u001b[0m\u001b[0;34m]\u001b[0m\u001b[0;34m)\u001b[0m\u001b[0;34m\u001b[0m\u001b[0;34m\u001b[0m\u001b[0m\n\u001b[0;32m----> 2\u001b[0;31m \u001b[0mclassifier_headless\u001b[0m\u001b[0;34m(\u001b[0m\u001b[0mrel_images\u001b[0m\u001b[0;34m)\u001b[0m\u001b[0;34m\u001b[0m\u001b[0;34m\u001b[0m\u001b[0m\n\u001b[0m",
      "\u001b[0;31mNameError\u001b[0m: name 'rel_images' is not defined"
     ]
    }
   ],
   "source": [
    "classifier_headless = torch.nn.Sequential(*list(model.children())[:-1])\n",
    "classifier_headless(real_images)"
   ]
  },
  {
   "cell_type": "code",
   "execution_count": null,
   "id": "Y4ZwoSF9CRl_",
   "metadata": {
    "id": "Y4ZwoSF9CRl_"
   },
   "outputs": [],
   "source": [
    "def normalize(x):\n",
    "  return (x + torch.abs(torch.min(x))) / (torch.max(x) + torch.abs(torch.min(x)))\n",
    "\n",
    "\n"
   ]
  },
  {
   "cell_type": "code",
   "execution_count": null,
   "id": "PCMkMfwREMpc",
   "metadata": {
    "id": "PCMkMfwREMpc"
   },
   "outputs": [],
   "source": [
    "fake_norm = normalize(fake_images)\n",
    "real_norm = normalize(real_images)"
   ]
  },
  {
   "cell_type": "code",
   "execution_count": null,
   "id": "N2jHUb3IETCp",
   "metadata": {
    "id": "N2jHUb3IETCp"
   },
   "outputs": [],
   "source": []
  }
 ],
 "metadata": {
  "accelerator": "GPU",
  "colab": {
   "provenance": []
  },
  "gpuClass": "standard",
  "kernelspec": {
   "display_name": "Python 3 (ipykernel)",
   "language": "python",
   "name": "python3"
  },
  "language_info": {
   "codemirror_mode": {
    "name": "ipython",
    "version": 3
   },
   "file_extension": ".py",
   "mimetype": "text/x-python",
   "name": "python",
   "nbconvert_exporter": "python",
   "pygments_lexer": "ipython3",
   "version": "3.10.4"
  },
  "varInspector": {
   "cols": {
    "lenName": 16,
    "lenType": 16,
    "lenVar": 40
   },
   "kernels_config": {
    "python": {
     "delete_cmd_postfix": "",
     "delete_cmd_prefix": "del ",
     "library": "var_list.py",
     "varRefreshCmd": "print(var_dic_list())"
    },
    "r": {
     "delete_cmd_postfix": ") ",
     "delete_cmd_prefix": "rm(",
     "library": "var_list.r",
     "varRefreshCmd": "cat(var_dic_list()) "
    }
   },
   "types_to_exclude": [
    "module",
    "function",
    "builtin_function_or_method",
    "instance",
    "_Feature"
   ],
   "window_display": false
  }
 },
 "nbformat": 4,
 "nbformat_minor": 5
}
