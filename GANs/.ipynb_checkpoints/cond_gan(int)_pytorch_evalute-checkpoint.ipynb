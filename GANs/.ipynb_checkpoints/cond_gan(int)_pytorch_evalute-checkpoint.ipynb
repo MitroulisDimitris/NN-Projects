{
 "cells": [
  {
   "cell_type": "code",
   "execution_count": 1,
   "id": "oH7XiaV8eOWH",
   "metadata": {
    "colab": {
     "base_uri": "https://localhost:8080/"
    },
    "id": "oH7XiaV8eOWH",
    "outputId": "9cc657b0-8996-4258-b326-c78d0501960b"
   },
   "outputs": [
    {
     "name": "stdout",
     "output_type": "stream",
     "text": [
      "Collecting lpips\n",
      "  Using cached lpips-0.1.4-py3-none-any.whl (53 kB)\n",
      "Requirement already satisfied: torchvision>=0.2.1 in d:\\anaconda\\envs\\pytorch\\lib\\site-packages (from lpips) (0.14.0)\n",
      "Requirement already satisfied: torch>=0.4.0 in d:\\anaconda\\envs\\pytorch\\lib\\site-packages (from lpips) (1.13.0)\n",
      "Requirement already satisfied: numpy>=1.14.3 in d:\\anaconda\\envs\\pytorch\\lib\\site-packages (from lpips) (1.23.4)\n",
      "Requirement already satisfied: scipy>=1.0.1 in d:\\anaconda\\envs\\pytorch\\lib\\site-packages (from lpips) (1.9.3)\n",
      "Requirement already satisfied: tqdm>=4.28.1 in d:\\anaconda\\envs\\pytorch\\lib\\site-packages (from lpips) (4.64.1)\n",
      "Requirement already satisfied: typing_extensions in d:\\anaconda\\envs\\pytorch\\lib\\site-packages (from torch>=0.4.0->lpips) (4.1.1)\n",
      "Requirement already satisfied: requests in d:\\anaconda\\envs\\pytorch\\lib\\site-packages (from torchvision>=0.2.1->lpips) (2.28.1)\n",
      "Requirement already satisfied: pillow!=8.3.*,>=5.3.0 in d:\\anaconda\\envs\\pytorch\\lib\\site-packages (from torchvision>=0.2.1->lpips) (9.2.0)\n",
      "Requirement already satisfied: colorama in d:\\anaconda\\envs\\pytorch\\lib\\site-packages (from tqdm>=4.28.1->lpips) (0.4.5)\n",
      "Requirement already satisfied: urllib3<1.27,>=1.21.1 in d:\\anaconda\\envs\\pytorch\\lib\\site-packages (from requests->torchvision>=0.2.1->lpips) (1.26.12)\n",
      "Requirement already satisfied: charset-normalizer<3,>=2 in d:\\anaconda\\envs\\pytorch\\lib\\site-packages (from requests->torchvision>=0.2.1->lpips) (2.1.0)\n",
      "Requirement already satisfied: idna<4,>=2.5 in d:\\anaconda\\envs\\pytorch\\lib\\site-packages (from requests->torchvision>=0.2.1->lpips) (3.4)\n",
      "Requirement already satisfied: certifi>=2017.4.17 in d:\\anaconda\\envs\\pytorch\\lib\\site-packages (from requests->torchvision>=0.2.1->lpips) (2022.12.7)\n",
      "Installing collected packages: lpips\n",
      "Successfully installed lpips-0.1.4\n"
     ]
    }
   ],
   "source": [
    "!pip install lpips"
   ]
  },
  {
   "cell_type": "code",
   "execution_count": 1,
   "id": "a493c415",
   "metadata": {
    "colab": {
     "base_uri": "https://localhost:8080/"
    },
    "id": "a493c415",
    "outputId": "b0af3e87-1fc3-4a87-e682-dee7f5674547"
   },
   "outputs": [
    {
     "name": "stdout",
     "output_type": "stream",
     "text": [
      "Device:cuda\n"
     ]
    }
   ],
   "source": [
    "# %% Import and stuff\n",
    "import torch\n",
    "from torch import nn\n",
    "import torchvision\n",
    "import matplotlib.pyplot as plt\n",
    "import torch.nn.functional as F\n",
    "from torch.autograd import Variable\n",
    "import numpy as np\n",
    "import time\n",
    "import random\n",
    "import torchvision.utils as vutils\n",
    "from  torch.utils import data\n",
    "from mpl_toolkits.axes_grid1 import ImageGrid\n",
    "import math\n",
    "from collections import OrderedDict\n",
    "from torch.utils.data import Subset\n",
    "from datetime import datetime \n",
    "from torch.utils.data import DataLoader\n",
    "from torchvision import datasets\n",
    "from torchvision import transforms\n",
    "import torchvision.transforms as tran\n",
    "from scipy import linalg\n",
    "import lpips\n",
    "from torchvision.models import inception_v3\n",
    "from scipy.stats import entropy\n",
    "\n",
    "\n",
    "NUM_EPOCHS = 10\n",
    "LR = 0.0002\n",
    "LATENT_DIM = 100\n",
    "IMG_SIZE = 28\n",
    "CHANNELS = 1\n",
    "B1 = 0.5\n",
    "B2 = 0.999\n",
    "\n",
    "\n",
    "GEN_STATE_DICT = \"gen_state_dict\"\n",
    "DISC_STATE_DICT = \"disc_state_dict\"\n",
    "GEN_OPTIMIZER = \"gen_optimizer\"\n",
    "DISC_OPTIMIZER = \"disc_optimizer\"\n",
    "G_LOSSES = \"g_losses\"\n",
    "D_LOSSES = \"d_losses\"\n",
    "\n",
    "SHUFFLE = True\n",
    "PIN_MEMORY = True\n",
    "NUM_WORKERS = 0\n",
    "BATCH_SIZE = 2000\n",
    "\n",
    "\n",
    "device = torch.device(\"cuda\" if torch.cuda.is_available() else \"cpu\")\n",
    "print('Device:{}'.format(device))\n"
   ]
  },
  {
   "cell_type": "code",
   "execution_count": 3,
   "id": "56f4e4cf",
   "metadata": {
    "id": "56f4e4cf"
   },
   "outputs": [],
   "source": [
    "# %% helper funcitons\n",
    "\n",
    "def save_checkpoint(state, filename):\n",
    "    print(\"=> Saving chekpoint\")\n",
    "    torch.save(state, filename)\n",
    "\n",
    "\n",
    "def load_checkpoint(checkpoint):\n",
    "    generator.load_state_dict(checkpoint[GEN_STATE_DICT])\n",
    "    optimizer_G.load_state_dict(checkpoint[GEN_OPTIMIZER])\n",
    "    discriminator.load_state_dict(checkpoint[DISC_STATE_DICT])\n",
    "    optimizer_D.load_state_dict(checkpoint[DISC_OPTIMIZER])\n",
    "    G_losses = checkpoint[G_LOSSES]\n",
    "    D_losses = checkpoint[D_LOSSES]\n",
    "    \n",
    "\n",
    "def gen_image(caption=-1,randomLatent=True):\n",
    "    generator.to('cpu')\n",
    "    discriminator.to('cpu')\n",
    "\n",
    "    with torch.no_grad():\n",
    "\n",
    "      f, axarr = plt.subplots(1)\n",
    "      \n",
    "      latent = torch.rand_like(torch.Tensor(1,100))     \n",
    "      if caption == -1:\n",
    "          caption = random.randint(0, 9)\n",
    "      \n",
    "      caption = torch.tensor(caption, dtype=torch.int64)\n",
    "      fake_image = generator(latent,caption)  \n",
    "      \n",
    "      axarr.imshow(fake_image[0][0])   \n",
    "      print(\"Supposed to be %d\" %caption.item())\n",
    "\n",
    "      \n",
    "        \n",
    "def discriminate_image(caption=-1,genOrReal=0):#random.randint(0, 1)):\n",
    "    generator.to('cpu')\n",
    "    discriminator.to('cpu')\n",
    "    \n",
    "    with torch.no_grad():\n",
    "        for  i, (imgs, labels) in enumerate(example_loader):\n",
    "            f, axarr = plt.subplots(1)\n",
    "            \n",
    "            labels = labels.to('cpu')\n",
    "            z = Variable(Tensor(np.random.normal(0, 1, (1,LATENT_DIM)))).cpu()\n",
    "            if caption == -1:\n",
    "                caption = random.randint(0, 9)\n",
    "            caption = torch.tensor(caption, dtype=torch.int64)\n",
    "            \n",
    "            \n",
    "            #feed discriminator fake image, expect \"0\" output\n",
    "            if genOrReal == 0:\n",
    "                fake_image = generator(z,caption)\n",
    "                axarr.imshow(fake_image[0].reshape(-1, 28, 28)[0])\n",
    "                pred = discriminator(fake_image,caption).detach()\n",
    "                print(\"Discriminator Prediction: {},Should be: {}, label = {}\".format(pred,\"0\",caption))\n",
    "            #feed discriminator real image, expect \"1\" output\n",
    "            else:\n",
    "                fake_image = generator(z,labels[0])\n",
    "                axarr.imshow(imgs[0].reshape(-1, 28, 28)[0])\n",
    "                pred = discriminator(imgs.detach(),labels[0].detach()).detach()\n",
    "                print(\"Discriminator Prediction: {},Should be: {}, label= {}\".format(pred,\"1\",labels[0]+1))\n",
    "            \n",
    "    \n",
    "            break\n",
    "def is_normalized(image):\n",
    "  \n",
    "  tensor_image_normalized = image[0]  # your tensor image here\n",
    "\n",
    "  min_value = tensor_image_normalized.min().item()\n",
    "  max_value = tensor_image_normalized.max().item()\n",
    "\n",
    "  \n",
    "  return (min_value >= -1.0 and max_value <= 1.0)"
   ]
  },
  {
   "cell_type": "code",
   "execution_count": 7,
   "id": "e8e59f16",
   "metadata": {
    "id": "e8e59f16"
   },
   "outputs": [],
   "source": [
    "# %%train data\n",
    "\n",
    "transform = transforms.Compose([\n",
    "    transforms.ToTensor(),\n",
    "    transforms.Normalize([0.5], [0.5])\n",
    "    ])\n",
    "\n",
    "\n",
    "train_dataset = torchvision.datasets.MNIST(\n",
    "    root=\"~/torch_datasets\", train=True, transform=transform, download=True\n",
    ")\n",
    "\n",
    "\n",
    "\n",
    "train_loader = data.DataLoader(\n",
    "                                train_dataset,\n",
    "                                batch_size=BATCH_SIZE,\n",
    "                                shuffle=False,\n",
    "                                num_workers=NUM_WORKERS,\n",
    "                                pin_memory=False,\n",
    "                                drop_last=True\n",
    "                                )\n",
    "\n",
    "test_loader = data.DataLoader(\n",
    "                                train_dataset,\n",
    "                                batch_size=60000,\n",
    "                                shuffle=False,\n",
    "                                num_workers=NUM_WORKERS,\n",
    "                                pin_memory=False\n",
    "                                )\n",
    "\n",
    "example_loader = data.DataLoader(\n",
    "                                train_dataset,\n",
    "                                batch_size=1,\n",
    "                                shuffle=True,\n",
    "                                num_workers=0,\n",
    "                                drop_last=True,\n",
    "                                )\n"
   ]
  },
  {
   "cell_type": "code",
   "execution_count": 8,
   "id": "97624d9f",
   "metadata": {
    "id": "97624d9f"
   },
   "outputs": [],
   "source": [
    "# %% Detective: fake or no fake -> 1 output [0, 1]\n",
    "class Discriminator(nn.Module):\n",
    "    def __init__(self):\n",
    "        super().__init__()\n",
    "\n",
    "        self.conv1 = nn.Conv2d(2, 10, kernel_size=5)\n",
    "        self.conv2 = nn.Conv2d(10, 20, kernel_size=5)\n",
    "        self.conv2_drop = nn.Dropout2d()\n",
    "        self.fc1 = nn.Linear(320, 50)\n",
    "        self.fc2 = nn.Linear(50, 1)\n",
    "\n",
    "        self.emb = nn.Embedding(10, 50)\n",
    "        self.emb_fc = nn.Linear(50, 784)\n",
    "\n",
    "        self.nconv1 = nn.Conv2d(2, 64, kernel_size=5)\n",
    "        self.nconv2 = nn.Conv2d(64, 128, kernel_size=5)\n",
    "        self.pool = nn.AvgPool2d(kernel_size=3)\n",
    "        self.pool2 = nn.AvgPool2d(kernel_size=2)\n",
    "        self.nfc1 = nn.Linear(1152, 164)\n",
    "        self.nfc2 = nn.Linear(164, 1)\n",
    "\n",
    "    def forward(self, x, c,t3 =-1):\n",
    "\n",
    "        if  type(t3) == int:\n",
    "            c = self.emb(c)\n",
    "        else:\n",
    "            c = t3\n",
    "        c = self.emb_fc(c)\n",
    "        c = c.view(-1, 1, 28, 28)\n",
    "        x = torch.cat((c, x), 1)  # concat image[1,28,28] with text [1,28,28]\n",
    "\n",
    "        x = F.leaky_relu(self.nconv1(x))\n",
    "        x = F.leaky_relu(self.nconv2(x))\n",
    "        x = self.pool(x)\n",
    "        x = self.pool2(x)\n",
    "        x = x.view(-1, 1152)\n",
    "        x = F.leaky_relu(self.nfc1(x))\n",
    "        x = F.dropout(x, training=self.training)\n",
    "        x = self.nfc2(x)\n",
    "\n",
    "        x = torch.sigmoid(x)\n",
    "        return x\n",
    "\n",
    "# Check if a tensor image is normalized in [-1,1]\n",
    "# returns true if it s within [-1,1]\n",
    "def is_normalized(image):\n",
    "  \n",
    "  tensor_image_normalized = image[0]  # your tensor image here\n",
    "\n",
    "  min_value = tensor_image_normalized.min().item()\n",
    "  max_value = tensor_image_normalized.max().item()\n",
    "\n",
    "  \n",
    "  return (min_value >= -1.0 and max_value <= 1.0)\n",
    "\n",
    "\n",
    "def colorize(image):\n",
    "  return torch.cat([image, image, image], dim=1)"
   ]
  },
  {
   "cell_type": "code",
   "execution_count": 9,
   "id": "2qNC4TGTPvTD",
   "metadata": {
    "id": "2qNC4TGTPvTD"
   },
   "outputs": [],
   "source": [
    "# %% Generate Fake Data: output like real data [1, 28, 28] and values -1, 1\n",
    "class Generator(nn.Module):\n",
    "    def __init__(self):\n",
    "        super().__init__()\n",
    "        self.lin1 = nn.Linear(LATENT_DIM, 7*7*63)  # [n,100]->[n,3087]\n",
    "        self.ct1 = nn.ConvTranspose2d(64, 32, 4, stride=2)  # [n, 64, 16, 16] [32,..,..]\n",
    "        self.ct2 = nn.ConvTranspose2d(32, 16, 4, stride=2)  # [n, 32, , ]->[n, 16, 34, 34]\n",
    "        self.conv = nn.Conv2d(16, 1, kernel_size=7)  # [n, 16, 34, 34]-> [n, 1, 28, 28]\n",
    "        \n",
    "        self.emb = nn.Embedding(10, 50) \n",
    "        #self.emb2 = nn.Embedding(10, 50) \n",
    "\n",
    "        \n",
    "        self.label_lin = nn.Linear(50, 49)\n",
    "        self.conv_x_c = nn.ConvTranspose2d(65, 64, 4, stride=2)  # upsample [65,7,7] -> [64,14,14]\n",
    "        self.tanh = nn.Tanh()\n",
    "\n",
    "    def forward(self, x, c1, c2 = -1, w = round(random.uniform(0.0, 1), 1)):\n",
    "        # Pass latent space input into linear layer and reshape\n",
    "        x = self.lin1(x)  # (n,100) -> (n,3087)\n",
    "        x = F.leaky_relu(x)\n",
    "        x = x.view(-1, 63, 7, 7)  # (n,3087) -> (63,7,7)\n",
    "        \n",
    "        #Encode label\n",
    "        c1 = self.emb(c1)  # (n,) -> (n,50)\n",
    "        c = c1\n",
    "        \n",
    "       \n",
    "        if type(c2) == torch.Tensor: \n",
    "            c2 = self.emb(c2)\n",
    "            c1 = c1[:,:math.floor(c1.size(1) - c1.size(1)*w)]  # slice tensor depending on w\n",
    "            c2 = c2[:,:math.floor(c2.size(1) - c2.size(1)*(1-w))]\n",
    "            c = torch.cat((c1, c2), 1)\n",
    "\n",
    "        #encoded caption\n",
    "        t3 = c\n",
    "        c = self.label_lin(c)  # (n,50) -> (n,49)\n",
    "        c = c.view(-1, 1, 7, 7)  # (n,49) -> (n,1,7,7)\n",
    "        x = torch.cat((c, x), 1) # concat image[63,7,7] with text [1,7,7]\n",
    "        \n",
    "        x = self.ct1(x)  \n",
    "        x = F.leaky_relu(x)\n",
    "\n",
    "        # Upsample to 34x34 (16 feature maps)\n",
    "        x = self.ct2(x)\n",
    "        x = F.leaky_relu(x)\n",
    "\n",
    "        # Convolution to 28x28 (1 feature map)\n",
    "        x = self.tanh(self.conv(x))\n",
    "        return x"
   ]
  },
  {
   "cell_type": "code",
   "execution_count": 10,
   "id": "abc07c4f",
   "metadata": {
    "id": "abc07c4f"
   },
   "outputs": [],
   "source": [
    "# %% Loss fucntion, optimizers\n",
    "loss_func = nn.BCELoss()\n",
    "#d_loss_func = nn.BCELoss()\n",
    "\n",
    "# Initialize generator and discriminator\n",
    "generator = Generator().to(device)\n",
    "discriminator = Discriminator().to(device)\n",
    "\n",
    "if torch.cuda.is_available():\n",
    "    generator.cuda()\n",
    "    discriminator.cuda()\n",
    "    loss_func.cuda()\n",
    "\n",
    "optimizer_G = torch.optim.Adam(generator.parameters(), lr=LR,betas=(B1 ,B2))\n",
    "optimizer_D = torch.optim.Adam(discriminator.parameters(), lr=LR,betas=(B1 ,B2))\n",
    "\n",
    "Tensor = torch.cuda.FloatTensor if torch.cuda.is_available() else torch.FloatTensor   "
   ]
  },
  {
   "cell_type": "code",
   "execution_count": 11,
   "id": "9e61a176",
   "metadata": {
    "id": "9e61a176"
   },
   "outputs": [],
   "source": [
    "#if you're running this on colab, download corresponding chackpoint file and upload it to runtime\n",
    "load_checkpoint(torch.load(\"checkpoint_files\\cond_gan_pytorch10.pth.tar\",map_location=(device)))"
   ]
  },
  {
   "cell_type": "code",
   "execution_count": 12,
   "id": "fmyJkwav21hA",
   "metadata": {
    "colab": {
     "base_uri": "https://localhost:8080/",
     "height": 447
    },
    "id": "fmyJkwav21hA",
    "outputId": "467ae18c-ca7d-4b57-c57e-f1c0d69522bf"
   },
   "outputs": [
    {
     "name": "stdout",
     "output_type": "stream",
     "text": [
      "Supposed to be 7\n"
     ]
    },
    {
     "data": {
      "image/png": "[encoded data removed]",
      "text/plain": [
       "<Figure size 432x288 with 1 Axes>"
      ]
     },
     "metadata": {
      "needs_background": "light"
     },
     "output_type": "display_data"
    }
   ],
   "source": [
    "#Test image generation\n",
    "gen_image()"
   ]
  },
  {
   "cell_type": "code",
   "execution_count": 13,
   "id": "b608e244",
   "metadata": {
    "colab": {
     "base_uri": "https://localhost:8080/"
    },
    "id": "b608e244",
    "outputId": "d003b3a6-a6b3-4c15-9f72-ff54a54e28ff"
   },
   "outputs": [
    {
     "name": "stdout",
     "output_type": "stream",
     "text": [
      "Generated 2000 samples\n"
     ]
    }
   ],
   "source": [
    "#Generate batch of fake and real samples \n",
    "fake_images = []\n",
    "real_images = []\n",
    "device='cpu'\n",
    "with torch.no_grad():\n",
    "    generator.to('cpu')\n",
    "    discriminator.to('cpu')\n",
    "\n",
    "    for i, (imgs,label) in enumerate(train_loader):\n",
    "        real_images = imgs\n",
    "        \n",
    "        #caption = random.randint(0, 9)   \n",
    "        #caption = torch.tensor(caption, dtype=torch.int64)\n",
    "        #latent = torch.rand_like(torch.Tensor(1,100))\n",
    "        #fake_images = generator(latent,caption)\n",
    "        \n",
    "        \n",
    "        for i in range(len(real_images[:])):\n",
    "          caption = label[i]\n",
    "          latent = torch.rand_like(torch.Tensor(1,100))\n",
    "          fake_image = generator(latent,caption)\n",
    "\n",
    "          if (i==0):\n",
    "            fake_images = generator(latent,caption)\n",
    "          else:\n",
    "            fake_images = torch.cat((fake_images, fake_image), 0)\n",
    "        break\n",
    "\n",
    "print('Generated %d samples'\n",
    "%(len(fake_images[:])))\n",
    "#fake_images\n",
    "#real_images\n"
   ]
  },
  {
   "cell_type": "code",
   "execution_count": 14,
   "id": "Urtu2osHed-B",
   "metadata": {
    "colab": {
     "base_uri": "https://localhost:8080/"
    },
    "id": "Urtu2osHed-B",
    "outputId": "fa4323ba-f891-4530-dc6c-78d4041c77d8"
   },
   "outputs": [
    {
     "name": "stdout",
     "output_type": "stream",
     "text": [
      "Setting up [LPIPS] perceptual loss: trunk [alex], v[0.1], spatial [off]\n"
     ]
    },
    {
     "name": "stderr",
     "output_type": "stream",
     "text": [
      "D:\\Anaconda\\envs\\pytorch\\lib\\site-packages\\torchvision\\models\\_utils.py:208: UserWarning: The parameter 'pretrained' is deprecated since 0.13 and may be removed in the future, please use 'weights' instead.\n",
      "  warnings.warn(\n",
      "D:\\Anaconda\\envs\\pytorch\\lib\\site-packages\\torchvision\\models\\_utils.py:223: UserWarning: Arguments other than a weight enum or `None` for 'weights' are deprecated since 0.13 and may be removed in the future. The current behavior is equivalent to passing `weights=AlexNet_Weights.IMAGENET1K_V1`. You can also use `weights=AlexNet_Weights.DEFAULT` to get the most up-to-date weights.\n",
      "  warnings.warn(msg)\n",
      "Downloading: \"https://download.pytorch.org/models/alexnet-owt-7be5be79.pth\" to C:\\Users\\DIMITRIS/.cache\\torch\\hub\\checkpoints\\alexnet-owt-7be5be79.pth\n"
     ]
    },
    {
     "data": {
      "application/vnd.jupyter.widget-view+json": {
       "model_id": "754cf1782c654514b740c44a027b69a0",
       "version_major": 2,
       "version_minor": 0
      },
      "text/plain": [
       "  0%|          | 0.00/233M [00:00<?, ?B/s]"
      ]
     },
     "metadata": {},
     "output_type": "display_data"
    },
    {
     "name": "stdout",
     "output_type": "stream",
     "text": [
      "Loading model from: D:\\Anaconda\\envs\\pytorch\\lib\\site-packages\\lpips\\weights\\v0.1\\alex.pth\n",
      "LPIPS score 0.1832\n",
      "Minimum score: 0.0230\n",
      "Maximum score: 0.3835\n",
      "Mean score: 0.1650\n"
     ]
    }
   ],
   "source": [
    "#LPIPS metric \n",
    "loss_fn_alex = lpips.LPIPS(net='alex') \n",
    "\n",
    "lpip_fake = colorize(fake_images)\n",
    "lpip_real = colorize(real_images) # !! images must be rbg and within [-1,1]\n",
    "\n",
    "lpip_fake = transforms.Compose([\n",
    "    transforms.Resize((64, 64))])(lpip_fake)\n",
    "\n",
    "lpip_real = transforms.Compose([\n",
    "    transforms.Resize((64, 64))])(lpip_real)\n",
    "\n",
    "\n",
    "\n",
    "d = loss_fn_alex(lpip_fake, lpip_real)\n",
    "print(\"LPIPS score %.4f\"%(d[0].item()))\n",
    "\n",
    "my_tensor = d\n",
    "\n",
    "# get minimum value\n",
    "min_val = torch.min(my_tensor)\n",
    "\n",
    "# get maximum value\n",
    "max_val = torch.max(my_tensor)\n",
    "\n",
    "# get mean value\n",
    "mean_val = torch.mean(my_tensor)\n",
    "\n",
    "# print the results\n",
    "print(\"Minimum score: %.4f\" %(min_val.item()))\n",
    "print(\"Maximum score: %.4f\" %(max_val.item()))\n",
    "print(\"Mean score: %.4f\" %(mean_val.item()))"
   ]
  },
  {
   "cell_type": "code",
   "execution_count": null,
   "id": "EhJmxFElSQ8M",
   "metadata": {
    "colab": {
     "base_uri": "https://localhost:8080/"
    },
    "id": "EhJmxFElSQ8M",
    "outputId": "c199efdd-d96f-4546-90d5-c5569c2d7d97"
   },
   "outputs": [
    {
     "name": "stderr",
     "output_type": "stream",
     "text": [
      "<ipython-input-10-5c555d7f381e>:9: VisibleDeprecationWarning: Creating an ndarray from ragged nested sequences (which is a list-or-tuple of lists-or-tuples-or ndarrays with different lengths or shapes) is deprecated. If you meant to do this, you must specify 'dtype=object' when creating the ndarray.\n",
      "  test_array = np.array([(np.array(x), y) for x, y in test_loader.dataset])\n"
     ]
    }
   ],
   "source": [
    "#idea from here: https://liorsinai.github.io/coding/2022/12/29/denoising-diffusion-2-unet.html#mjx-eqn-eqFrechet\n",
    "#Calculate mean of real images\n",
    "random.seed(42)\n",
    "mnist_mean = []\n",
    "mnist_means = []\n",
    "samples = 1000\n",
    "\n",
    "# convert dataset to numpy array\n",
    "test_array = np.array([(np.array(x), y) for x, y in test_loader.dataset])\n",
    "# for each number(0,9)\n",
    "for num in range(10):\n",
    "  # get indices of images with the current number\n",
    "  indices = np.where(test_array[:, 1] == num)[0]\n",
    "  # randomly sample max number of images\n",
    "  subset_indices = random.sample(indices.tolist(), samples) if len(indices) > samples else indices\n",
    "  subset_array = test_array[subset_indices]\n",
    "\n",
    "  # compute mean of sampled images using numpy\n",
    "  number_mean = np.mean(subset_array[:, 0], axis=0)\n",
    "\n",
    "  mnist_means.append(torch.from_numpy(number_mean))\n",
    "  \n",
    "\n",
    "mnist_mean = (torch.stack(mnist_means, dim=0))\n"
   ]
  },
  {
   "cell_type": "markdown",
   "id": "65op0WlwzC7D",
   "metadata": {
    "id": "65op0WlwzC7D"
   },
   "source": [
    "Define the distance as the minimum of the mean Euclidean distance of x\n",
    "to each mean $\\bar{x}k$ :\n",
    " \n",
    " $$d=\\min _{0 \\leq k \\leq 9} \\frac{1}{W H} \\sqrt{\\sum_i^W \\sum_j^H\\left(x_{i j}-\\bar{x}_{k, i j}\\right)^2}$$\n",
    "\n",
    "The score is the average of $d$ over all samples.\n"
   ]
  },
  {
   "cell_type": "code",
   "execution_count": null,
   "id": "kib3e7P20OVr",
   "metadata": {
    "colab": {
     "base_uri": "https://localhost:8080/"
    },
    "id": "kib3e7P20OVr",
    "outputId": "6f048901-a17b-400a-aac5-dd9d2757af62"
   },
   "outputs": [
    {
     "data": {
      "text/plain": [
       "torch.Size([10, 1, 28, 28])"
      ]
     },
     "execution_count": 11,
     "metadata": {},
     "output_type": "execute_result"
    }
   ],
   "source": [
    "#Create mean of generated images\n",
    "\n",
    "num_samples = 1000\n",
    "fake_images_means = []\n",
    "fake_image_mean = []\n",
    "\n",
    "distances = []\n",
    "with torch.no_grad():\n",
    "  for num in range(10):\n",
    "    for i in range(num_samples):\n",
    "      latent = torch.rand_like(torch.Tensor(1,100))\n",
    "      caption = torch.tensor(num, dtype=torch.int64)\n",
    "      \n",
    "      fake_image = generator(latent,caption)  \n",
    "      fake_image_mean.append(fake_image[0])\n",
    "    \n",
    "    fake_image_mean = torch.stack(fake_image_mean,dim=0)\n",
    "    fake_image_mean = torch.mean(fake_image_mean, dim=0)\n",
    "\n",
    "    fake_images_means.append(fake_image_mean)\n",
    "    fake_image_mean = []  \n",
    "\n",
    "fake_images_means = torch.stack(fake_images_means,dim=0)\n",
    "  "
   ]
  },
  {
   "cell_type": "code",
   "execution_count": null,
   "id": "nK4oaf5o_ihZ",
   "metadata": {
    "colab": {
     "base_uri": "https://localhost:8080/",
     "height": 257
    },
    "id": "nK4oaf5o_ihZ",
    "outputId": "9168fcc9-bb12-4702-ec81-fdafff7d4063"
   },
   "outputs": [
    {
     "data": {
      "image/png": "[encoded data removed]",
      "text/plain": [
       "<Figure size 2000x250 with 20 Axes>"
      ]
     },
     "metadata": {},
     "output_type": "display_data"
    }
   ],
   "source": [
    "#Mean of generated vs actual images\n",
    "fig, axes = plt.subplots(nrows=2,ncols=10,figsize=(20,2.5))\n",
    "plt.tick_params(labelsize=0)\n",
    "\n",
    "\n",
    "for i in range(len(mnist_mean[:])):\n",
    "  axes[1][i].imshow(mnist_mean[i][0])\n",
    "for i in range(len(fake_images_means[:])):\n",
    "  axes[0][i].imshow(fake_images_means[i][0])\n",
    "\n"
   ]
  },
  {
   "cell_type": "code",
   "execution_count": null,
   "id": "s7B-DMlJ_1GJ",
   "metadata": {
    "colab": {
     "base_uri": "https://localhost:8080/"
    },
    "id": "s7B-DMlJ_1GJ",
    "outputId": "c0215b7e-e71e-4fcf-8f1c-d2fc56b3ad56"
   },
   "outputs": [
    {
     "name": "stdout",
     "output_type": "stream",
     "text": [
      "Number: 0, Distance: 9.0098\n",
      "Number: 1, Distance: 5.6790\n",
      "Number: 2, Distance: 9.3939\n",
      "Number: 3, Distance: 7.8245\n",
      "Number: 4, Distance: 7.8000\n",
      "Number: 5, Distance: 9.9459\n",
      "Number: 6, Distance: 7.9939\n",
      "Number: 7, Distance: 8.2391\n",
      "Number: 8, Distance: 8.2894\n",
      "Number: 9, Distance: 7.5099\n",
      "Mean distance: 8.1686\n"
     ]
    }
   ],
   "source": [
    "#calculate distances\n",
    "#distances = [[0] * len(mnist_mean) for _ in range(10)]\n",
    "distances = []\n",
    "\n",
    "for i in range(len(fake_images_means[:])):\n",
    "\n",
    "  diff = mnist_mean[i] - fake_images_means[i]\n",
    "  distance = torch.norm(diff, p=2)\n",
    "  \n",
    "  distances.append(distance.item())\n",
    " \n",
    "  print('Number: %d, Distance: %.4f'\n",
    "  %(i,distance.item()))\n",
    "\n",
    "# Print the distance\n",
    "print(\"Mean distance: %.4f\"%\n",
    "      (sum(distances)/len(distances)))\n"
   ]
  },
  {
   "cell_type": "code",
   "execution_count": null,
   "id": "36-s6qOCJLmn",
   "metadata": {
    "colab": {
     "base_uri": "https://localhost:8080/",
     "height": 641
    },
    "id": "36-s6qOCJLmn",
    "outputId": "2edbf630-071a-4dd0-a840-7f8b92f4728a"
   },
   "outputs": [
    {
     "data": {
      "image/png": "[encoded data removed]",
      "text/plain": [
       "<Figure size 1000x700 with 1 Axes>"
      ]
     },
     "metadata": {},
     "output_type": "display_data"
    }
   ],
   "source": [
    "fig, ax = plt.subplots(figsize=[10,6])\n",
    "\n",
    "ax.bar(range(len(distances)), distances)\n",
    "\n",
    "ax.set_xlabel('Image')\n",
    "ax.set_ylabel('Distance')\n",
    "ax.set_title('Distance per image')\n",
    "\n",
    "ax.set_xticks(range(len(distances)))\n",
    "ax.set_xticklabels(range(len(distances)))\n",
    "\n",
    "plt.show()\n"
   ]
  },
  {
   "cell_type": "code",
   "execution_count": null,
   "id": "0Zg69Rk8YDiM",
   "metadata": {
    "id": "0Zg69Rk8YDiM"
   },
   "outputs": [],
   "source": [
    "#model from here: https://github.com/erykml/medium_articles/blob/master/Computer%20Vision/lenet5_pytorch.ipynb\n",
    "class LeNet5(nn.Module):\n",
    "\n",
    "    def __init__(self, n_classes):\n",
    "        super(LeNet5, self).__init__()\n",
    "        \n",
    "        self.feature_extractor = nn.Sequential(            \n",
    "            nn.Conv2d(in_channels=1, out_channels=6, kernel_size=5, stride=1),\n",
    "            nn.Tanh(),\n",
    "            nn.AvgPool2d(kernel_size=2),\n",
    "            nn.Conv2d(in_channels=6, out_channels=16, kernel_size=5, stride=1),\n",
    "            nn.Tanh(),\n",
    "            nn.AvgPool2d(kernel_size=2),\n",
    "            nn.Conv2d(in_channels=16, out_channels=120, kernel_size=5, stride=1),\n",
    "            nn.Tanh()\n",
    "        )\n",
    "\n",
    "        self.classifier = nn.Sequential(\n",
    "            nn.Linear(in_features=120, out_features=84),\n",
    "            nn.Tanh(),\n",
    "            nn.Linear(in_features=84, out_features=n_classes),\n",
    "        )\n",
    "\n",
    "\n",
    "    def forward(self, x):\n",
    "        x = self.feature_extractor(x)\n",
    "        x = torch.flatten(x, 1)\n",
    "        logits = self.classifier(x)\n",
    "        probs = F.softmax(logits, dim=1)\n",
    "        return logits, probs"
   ]
  },
  {
   "cell_type": "code",
   "execution_count": null,
   "id": "82SIS7nogZNg",
   "metadata": {
    "id": "82SIS7nogZNg"
   },
   "outputs": [],
   "source": [
    "LEARNING_RATE = 0.001\n",
    "N_CLASSES = 10\n",
    "\n",
    "model = LeNet5(N_CLASSES).to(device)\n",
    "optimizer = torch.optim.Adam(model.parameters(), lr=LEARNING_RATE)\n",
    "criterion = nn.CrossEntropyLoss()"
   ]
  },
  {
   "cell_type": "code",
   "execution_count": null,
   "id": "nx59E38kJcpD",
   "metadata": {
    "id": "nx59E38kJcpD"
   },
   "outputs": [],
   "source": [
    "#Load checkpoint\n",
    "leNet_load_checkpoint = torch.load('leNet_checkpoint.pth.tar')\n",
    "\n",
    "model.load_state_dict(leNet_load_checkpoint['leNet_model_state_dict'])\n",
    "optimizer.load_state_dict(leNet_load_checkpoint['leNet_optmizer_state_dict'])"
   ]
  },
  {
   "cell_type": "code",
   "execution_count": null,
   "id": "N2jHUb3IETCp",
   "metadata": {
    "colab": {
     "base_uri": "https://localhost:8080/"
    },
    "id": "N2jHUb3IETCp",
    "outputId": "af22718b-04d3-4516-ecc3-f7540f5cdf9e"
   },
   "outputs": [
    {
     "name": "stdout",
     "output_type": "stream",
     "text": [
      "Frechet_distance between real and generated images is: 14.981233\n"
     ]
    },
    {
     "name": "stderr",
     "output_type": "stream",
     "text": [
      "/usr/local/lib/python3.9/dist-packages/torchvision/transforms/functional.py:1603: UserWarning: The default value of the antialias parameter of all the resizing transforms (Resize(), RandomResizedCrop(), etc.) will change from None to True in v0.17, in order to be consistent across the PIL and Tensor backends. To suppress this warning, directly pass antialias=True (recommended, future default), antialias=None (current default, which means False for Tensors and True for PIL), or antialias=False (only works on Tensors - PIL will still use antialiasing). This also applies if you are using the inference transforms from the models weights: update the call to weights.transforms(antialias=True).\n",
      "  warnings.warn(\n"
     ]
    }
   ],
   "source": [
    "#Frechet LeNet Distance\n",
    "def calculate_activation_statistics(images, model):\n",
    "  with torch.no_grad():\n",
    "    model.eval()\n",
    "    activations = []\n",
    "    \n",
    "    features = model.feature_extractor(images)\n",
    "    activations.append(features)\n",
    "    \n",
    "    activations = np.concatenate(activations, axis=0)\n",
    "    mu = np.mean(activations, axis=0)\n",
    "\n",
    "    activations = activations.reshape(activations.shape[0], -1)  # flatten the activations to 2D\n",
    "\n",
    "    sigma = np.cov(activations, rowvar=False)\n",
    "    return mu, sigma\n",
    "\n",
    "\n",
    "def calculate_frechet_distance(mu1, cov1, mu2, cov2):\n",
    "  eps = 1e-6\n",
    "  diff = mu1 - mu2\n",
    "  # Product of two covariance matrices\n",
    "  cov_mean, _ = linalg.sqrtm(cov1.dot(cov2), disp=False)\n",
    "  if not np.isfinite(cov_mean).all():\n",
    "      offset = np.eye(cov1.shape[0]) * eps\n",
    "      cov_mean = linalg.sqrtm((cov1 + offset).dot(cov2 + offset))\n",
    "  # Compute the Wasserstein-2 distance\n",
    "  return np.sum(diff ** 2) + np.trace(cov1 + cov2 - 2 * cov_mean)\n",
    "\n",
    "\n",
    "\n",
    "# Generate fake data and compute statistics\n",
    "resize = tran.Resize((32, 32))\n",
    "\n",
    "\n",
    "\n",
    "fake_big = resize(fake_images)\n",
    "real_big = resize(real_images)\n",
    "\n",
    "mu1, cov1 = calculate_activation_statistics(fake_big, model)\n",
    "mu2, cov2 = calculate_activation_statistics(real_big, model)\n",
    "frechet_distance = calculate_frechet_distance(mu1, cov1, mu2, cov2)\n",
    "\n",
    "print(\"Frechet_distance between real and generated images is: %.6f\"\n",
    "  %(frechet_distance))\n",
    "\n",
    "\n"
   ]
  },
  {
   "cell_type": "code",
   "execution_count": null,
   "id": "pgk7wI_xkI2R",
   "metadata": {
    "id": "pgk7wI_xkI2R"
   },
   "outputs": [],
   "source": []
  }
 ],
 "metadata": {
  "colab": {
   "provenance": []
  },
  "gpuClass": "standard",
  "kernelspec": {
   "display_name": "Python 3 (ipykernel)",
   "language": "python",
   "name": "python3"
  },
  "language_info": {
   "codemirror_mode": {
    "name": "ipython",
    "version": 3
   },
   "file_extension": ".py",
   "mimetype": "text/x-python",
   "name": "python",
   "nbconvert_exporter": "python",
   "pygments_lexer": "ipython3",
   "version": "3.10.4"
  },
  "varInspector": {
   "cols": {
    "lenName": 16,
    "lenType": 16,
    "lenVar": 40
   },
   "kernels_config": {
    "python": {
     "delete_cmd_postfix": "",
     "delete_cmd_prefix": "del ",
     "library": "var_list.py",
     "varRefreshCmd": "print(var_dic_list())"
    },
    "r": {
     "delete_cmd_postfix": ") ",
     "delete_cmd_prefix": "rm(",
     "library": "var_list.r",
     "varRefreshCmd": "cat(var_dic_list()) "
    }
   },
   "types_to_exclude": [
    "module",
    "function",
    "builtin_function_or_method",
    "instance",
    "_Feature"
   ],
   "window_display": false
  }
 },
 "nbformat": 4,
 "nbformat_minor": 5
}
