{
 "cells": [
  {
   "cell_type": "code",
   "execution_count": 1,
   "id": "WIdHIawmddJG",
   "metadata": {
    "colab": {
     "base_uri": "https://localhost:8080/"
    },
    "id": "WIdHIawmddJG",
    "outputId": "5e795715-8559-4ce3-f10e-77664ec84344"
   },
   "outputs": [
    {
     "name": "stdout",
     "output_type": "stream",
     "text": [
      "Looking in indexes: https://pypi.org/simple, https://us-python.pkg.dev/colab-wheels/public/simple/\n",
      "Requirement already satisfied: lpips in /usr/local/lib/python3.9/dist-packages (0.1.4)\n",
      "Requirement already satisfied: numpy>=1.14.3 in /usr/local/lib/python3.9/dist-packages (from lpips) (1.22.4)\n",
      "Requirement already satisfied: scipy>=1.0.1 in /usr/local/lib/python3.9/dist-packages (from lpips) (1.10.1)\n",
      "Requirement already satisfied: torchvision>=0.2.1 in /usr/local/lib/python3.9/dist-packages (from lpips) (0.15.1+cu118)\n",
      "Requirement already satisfied: tqdm>=4.28.1 in /usr/local/lib/python3.9/dist-packages (from lpips) (4.65.0)\n",
      "Requirement already satisfied: torch>=0.4.0 in /usr/local/lib/python3.9/dist-packages (from lpips) (2.0.0+cu118)\n",
      "Requirement already satisfied: filelock in /usr/local/lib/python3.9/dist-packages (from torch>=0.4.0->lpips) (3.11.0)\n",
      "Requirement already satisfied: networkx in /usr/local/lib/python3.9/dist-packages (from torch>=0.4.0->lpips) (3.1)\n",
      "Requirement already satisfied: sympy in /usr/local/lib/python3.9/dist-packages (from torch>=0.4.0->lpips) (1.11.1)\n",
      "Requirement already satisfied: triton==2.0.0 in /usr/local/lib/python3.9/dist-packages (from torch>=0.4.0->lpips) (2.0.0)\n",
      "Requirement already satisfied: typing-extensions in /usr/local/lib/python3.9/dist-packages (from torch>=0.4.0->lpips) (4.5.0)\n",
      "Requirement already satisfied: jinja2 in /usr/local/lib/python3.9/dist-packages (from torch>=0.4.0->lpips) (3.1.2)\n",
      "Requirement already satisfied: lit in /usr/local/lib/python3.9/dist-packages (from triton==2.0.0->torch>=0.4.0->lpips) (16.0.1)\n",
      "Requirement already satisfied: cmake in /usr/local/lib/python3.9/dist-packages (from triton==2.0.0->torch>=0.4.0->lpips) (3.25.2)\n",
      "Requirement already satisfied: pillow!=8.3.*,>=5.3.0 in /usr/local/lib/python3.9/dist-packages (from torchvision>=0.2.1->lpips) (8.4.0)\n",
      "Requirement already satisfied: requests in /usr/local/lib/python3.9/dist-packages (from torchvision>=0.2.1->lpips) (2.27.1)\n",
      "Requirement already satisfied: MarkupSafe>=2.0 in /usr/local/lib/python3.9/dist-packages (from jinja2->torch>=0.4.0->lpips) (2.1.2)\n",
      "Requirement already satisfied: certifi>=2017.4.17 in /usr/local/lib/python3.9/dist-packages (from requests->torchvision>=0.2.1->lpips) (2022.12.7)\n",
      "Requirement already satisfied: idna<4,>=2.5 in /usr/local/lib/python3.9/dist-packages (from requests->torchvision>=0.2.1->lpips) (3.4)\n",
      "Requirement already satisfied: urllib3<1.27,>=1.21.1 in /usr/local/lib/python3.9/dist-packages (from requests->torchvision>=0.2.1->lpips) (1.26.15)\n",
      "Requirement already satisfied: charset-normalizer~=2.0.0 in /usr/local/lib/python3.9/dist-packages (from requests->torchvision>=0.2.1->lpips) (2.0.12)\n",
      "Requirement already satisfied: mpmath>=0.19 in /usr/local/lib/python3.9/dist-packages (from sympy->torch>=0.4.0->lpips) (1.3.0)\n"
     ]
    }
   ],
   "source": [
    "!pip install lpips"
   ]
  },
  {
   "cell_type": "code",
   "execution_count": 1,
   "id": "3bda6f8f",
   "metadata": {
    "colab": {
     "base_uri": "https://localhost:8080/"
    },
    "id": "3bda6f8f",
    "outputId": "349bfa3b-f5ac-4a0e-bc1b-152f06b0dd6b"
   },
   "outputs": [
    {
     "name": "stdout",
     "output_type": "stream",
     "text": [
      "Device:cuda\n"
     ]
    }
   ],
   "source": [
    "# %% Import and stuff\n",
    "\n",
    "import torch\n",
    "from torch import nn\n",
    "from torchvision import transforms\n",
    "import torchvision\n",
    "import matplotlib.pyplot as plt\n",
    "import torch.nn.functional as F\n",
    "from torch.autograd import Variable\n",
    "import numpy as np\n",
    "import time\n",
    "import random\n",
    "import torchvision.utils as vutils\n",
    "from  torch.utils import data\n",
    "from mpl_toolkits.axes_grid1 import ImageGrid\n",
    "import matplotlib.colors as mcolors\n",
    "import os\n",
    "import gc\n",
    "import math\n",
    "from collections import OrderedDict\n",
    "from torch.utils.data import Subset\n",
    "from datetime import datetime \n",
    "from torch.utils.data import DataLoader\n",
    "from torchvision import datasets\n",
    "import torchvision.transforms as tran\n",
    "from scipy import linalg\n",
    "import lpips\n",
    "\n",
    "from scipy.stats import entropy\n",
    "\n",
    "\n",
    "\n",
    "\n",
    "NUM_EPOCHS = 60\n",
    "LR = 0.0008\n",
    "LATENT_SPACE_SIZE = 20\n",
    "IMG_SIZE = 28\n",
    "CHANNELS = 1\n",
    "B1 = 0.5\n",
    "B2 = 0.999\n",
    "RANDOM_SEED = 123\n",
    "\n",
    "\n",
    "STATE_DICT = \"state_dict\"\n",
    "MODEL_OPTIMIZER = \"model_optimizer\"\n",
    "LOSSES = \"losses\"\n",
    "RECON_LOSS = \"recon_loss\"\n",
    "KL_DIV = \"kl_div\"\n",
    "\n",
    "SHUFFLE = True\n",
    "PIN_MEMORY = True\n",
    "NUM_WORKERS = 0\n",
    "BATCH_SIZE = 2000\n",
    "\n",
    "specific_latent = torch.tensor([[0.7628, 0.1779, 0.3978, 0.3606, 0.6387,\n",
    "         0.3044, 0.8340, 0.3884, 0.9313, 0.5635, 0.1994, 0.6934, 0.5326,\n",
    "         0.3676, 0.5342, 0.9480, 0.4120, 0.5845, 0.4035, 0.5298, 0.0177,\n",
    "         0.5605, 0.6453, 0.9576, 0.7153, 0.1923, 0.8122, 0.0937, 0.5744,\n",
    "         0.5951, 0.8890, 0.4838, 0.5707, 0.6760, 0.3738, 0.2796, 0.1549,\n",
    "         0.8220, 0.2800, 0.4051, 0.2553, 0.1831, 0.0046, 0.9021, 0.0264,\n",
    "         0.2327, 0.8261, 0.0534, 0.1582, 0.4087, 0.9047, 0.1409, 0.6864,\n",
    "         0.1439, 0.3432, 0.1072, 0.5907, 0.6756, 0.6942, 0.6814, 0.3368,\n",
    "         0.4138, 0.8030, 0.7024, 0.3309, 0.7288, 0.2193, 0.1954, 0.9948,\n",
    "         0.1201, 0.9483, 0.7407, 0.4849, 0.6500, 0.8649, 0.7405, 0.4725,\n",
    "         0.5373, 0.6541, 0.5444, 0.7425, 0.8940, 0.3580, 0.3905, 0.8924,\n",
    "         0.2995, 0.3726, 0.5399, 0.3057, 0.3380, 0.8313, 0.1137, 0.0120,\n",
    "         0.7714, 0.2561, 0.2569, 0.2994, 0.7648, 0.2413, 0.6101\n",
    "        ]])\n",
    "\n",
    "\n",
    "img_shape = (CHANNELS, IMG_SIZE, IMG_SIZE)\n",
    "\n",
    "device = torch.device(\"cuda\" if torch.cuda.is_available() else \"cpu\")\n",
    "print('Device:{}'.format(device))"
   ]
  },
  {
   "cell_type": "code",
   "execution_count": 81,
   "id": "6a0f6381",
   "metadata": {
    "id": "6a0f6381"
   },
   "outputs": [],
   "source": [
    " # %%helper functions\n",
    "\n",
    "def set_all_seeds(seed):\n",
    "    os.environ[\"PL_GLOBAL_SEED\"] = str(seed)\n",
    "    random.seed(seed)\n",
    "    np.random.seed(seed)\n",
    "    torch.manual_seed(seed)\n",
    "    torch.cuda.manual_seed_all(seed)\n",
    "    \n",
    "def set_deterministic():\n",
    "    if torch.cuda.is_available():\n",
    "        torch.backends.cudnn.benchmark = False\n",
    "        torch.backends.cudnn.deterministic = True\n",
    "    torch.set_deterministic(True)\n",
    "\n",
    "def plot():\n",
    "    for i,(image, _) in example_loader:\n",
    "        f, axarr = plt.subplots(2)\n",
    "    \n",
    "        # Reshape the array for plotting\n",
    "        axarr[0].imshow(image[0].to(device))\n",
    "    \n",
    "\n",
    "        result = model.decoder(torch.tensor([-0.0,0.03]).to(device))\n",
    "        result = result.squeeze(0)\n",
    "        result = result.squeeze(0)\n",
    "        axarr[1].imshow(result[0].to('cpu').numpy())\n",
    "                  \n",
    "def add_noise(inputs,variance):\n",
    "    noise = torch.randn_like(inputs)\n",
    "    return inputs + variance*noise\n",
    "\n",
    "\n",
    "def save_checkpoint(state, filename):\n",
    "    print(\"=> Saving chekpoint\")\n",
    "    torch.save(state, filename)\n",
    "\n",
    "\n",
    "def load_checkpoint(checkpoint):\n",
    "    model.load_state_dict(checkpoint[STATE_DICT])\n",
    "    optimizer.load_state_dict(checkpoint[MODEL_OPTIMIZER])\n",
    "    #losses = checkpoint[LOSSES]\n",
    "    #recon_losses = checkpoint[RECON_LOSS]\n",
    "    #l_losses = checkpoint[KL_DIV]\n",
    "    #return losses, kl_losses, recon_losses\n",
    "    \n",
    "    \n",
    "def get_numbered_images():  \n",
    "    numberred_images = []\n",
    "    \n",
    "    for batch_idx, (images, labels) in enumerate(train_loader):\n",
    "        for i in range(len(labels[:])):\n",
    "            if batch_idx == labels[i].item():\n",
    "                numberred_images.append(images[i])\n",
    "                break          \n",
    "    \n",
    "    return numberred_images\n",
    "          \n",
    "\n",
    "def plot_generated_images(c, figsize=(20, 2.5), n_images=10):\n",
    "    model.to(device)\n",
    "    c = torch.tensor(c, dtype=torch.int64).to(device)\n",
    "\n",
    "    fig, axes = plt.subplots(nrows=2, ncols=n_images, \n",
    "                             sharex=True, sharey=True, figsize=figsize)\n",
    "    \n",
    "    for batch_idx, (images, _) in enumerate(train_loader):\n",
    "        \n",
    "        images = images.to(device)\n",
    "        with torch.no_grad():\n",
    "           encoded, z_mean, z_log_var, decoded_images = model(images,c)[:n_images]\n",
    "\n",
    "        orig_images = images[:n_images]\n",
    "        break\n",
    "\n",
    "    for i in range(n_images):\n",
    "        for ax, img in zip(axes, [orig_images, decoded_images]):\n",
    "            curr_img = img[i].detach().to(torch.device('cpu'))\n",
    "            ax[i].imshow(curr_img.view((28, 28)))\n",
    "            \n",
    "            \n",
    "def plot_numberred_images(numbered_images,figsize=(20, 2.5)):\n",
    "\n",
    "    with torch.no_grad(): \n",
    "        fig, axes = plt.subplots(nrows=2, ncols=10, \n",
    "                                 sharex=True, sharey=True, figsize=(20, 2.5))\n",
    "\n",
    "        for i in range(10):\n",
    "            latent = torch.rand_like(torch.Tensor(20)).to(device)\n",
    "            c = torch.tensor(i, dtype=torch.int64).to(device) \n",
    "            \n",
    "            gen_img = model.decoder(latent,c).detach().to(torch.device('cpu'))\n",
    "            axes[0][i].imshow(numbered_images[i].view((28, 28))) \n",
    "            axes[1][i].imshow(gen_img.view((28, 28)))\n",
    "        \n",
    "        plt.figure().clear()\n",
    "            \n",
    "def gen_image(c=-1):\n",
    "    with torch.no_grad():\n",
    "        if c == -1:\n",
    "          c = random.randint(0, 9)\n",
    "\n",
    "        fig, axes = plt.subplots(nrows=1, ncols=1, sharex=True, sharey=True)\n",
    "        \n",
    "        c = torch.tensor(c, dtype=torch.int64).to(device)\n",
    "        latent = torch.rand_like(torch.Tensor(20)).to(device)\n",
    "    \n",
    "        decoded = model.decoder(latent,c)\n",
    "        print('supposed to be ',c)\n",
    "        axes.imshow(decoded.view((28, 28)))   \n",
    "        \n",
    "#plot a grid of r,c images,reccomended with 10,10\n",
    "def plot_many_images(r=10,c=10):\n",
    "    fig, axes = plt.subplots(nrows=r, ncols=c,figsize=(20, 20), sharex=True, sharey=True)\n",
    "    \n",
    "    for i in range(r):\n",
    "        for y in range(c):\n",
    "            caption = torch.tensor(y, dtype=torch.int64).to(device)\n",
    "            latent = torch.rand_like(torch.Tensor(LATENT_SPACE_SIZE)).to(device)\n",
    "    \n",
    "            decoded = model.decoder(latent,caption).detach().to(torch.device('cpu'))\n",
    "            axes[i][y].imshow(decoded.view((28, 28)))   \n",
    "    \n",
    "    plt.figure().clear()\n",
    "\n",
    "\n",
    "def plot_latent_space_with_labels(iteration, num_classes=10):\n",
    "    d = {i:[] for i in range(num_classes)}\n",
    "\n",
    "    with torch.no_grad():\n",
    "        for i, (features, targets) in enumerate(train_loader):\n",
    "\n",
    "            features = features.to(device)\n",
    "            targets = targets.to(device)\n",
    "            \n",
    "            embedding = model.encoding_fn(features)\n",
    "\n",
    "            for i in range(num_classes):\n",
    "                if i in targets:\n",
    "                    mask = targets == i\n",
    "                    d[i].append(embedding[mask].to('cpu').numpy())\n",
    "\n",
    "    colors = list(mcolors.TABLEAU_COLORS.items())\n",
    "    for i in range(num_classes):\n",
    "        d[i] = np.concatenate(d[i])\n",
    "        plt.scatter(\n",
    "            d[i][:, 0], d[i][:, 1],\n",
    "            #color=colors[i][1],\n",
    "            #label=f'{i}',\n",
    "            alpha=0.5)\n",
    "\n",
    "\n",
    "    plt.figure().clear()\n",
    "\n",
    "\n",
    "def plot_losses():\n",
    "    plt.figure(figsize=(10, 5))\n",
    "    plt.title(\"Loss During Training\")\n",
    "    plt.plot(losses[:], label=\"L\")\n",
    "    plt.plot(kl_losses[:], label=\"KL\")\n",
    "    plt.plot(recon_losses[:], label=\"Recon\")\n",
    "    plt.xlabel(\"iterations\")\n",
    "    plt.ylabel(\"Loss\")\n",
    "    \n",
    "    plt.figure().clear()\n",
    "    \n",
    "def clear_cache():\n",
    "    torch.cuda.empty_cache()\n",
    "    gc.collect()\n",
    "    \n",
    "\n",
    "\n",
    "def showExample():\n",
    "  for image, _ in example_loader:\n",
    "      f, axarr = plt.subplots(2)\n",
    "      image = image.reshape(-1,28*28).to(device)\n",
    "\n",
    "      model.to(device)\n",
    "      recon = model(image)\n",
    "\n",
    "      image = image.reshape(-1, 28, 28)\n",
    "      axarr[0].imshow(image[0].cpu())\n",
    "\n",
    "\n",
    "      recon = recon.reshape(-1, 28, 28).to('cpu')\n",
    "      axarr[1].imshow(recon[0].detach().numpy())\n",
    "\n",
    "      break        \n",
    "def colorize(image):\n",
    "  return torch.cat([image, image, image], dim=1)"
   ]
  },
  {
   "cell_type": "code",
   "execution_count": 76,
   "id": "fa1439af",
   "metadata": {
    "id": "fa1439af"
   },
   "outputs": [],
   "source": [
    "# %%Train Data\n",
    "\n",
    "set_deterministic\n",
    "set_all_seeds(RANDOM_SEED)\n",
    "\n",
    "transform = transforms.Compose([\n",
    "    transforms.ToTensor()])\n",
    "\n",
    "\n",
    "train_dataset = torchvision.datasets.MNIST(\n",
    "    root=\"~/torch_datasets\", train=True, transform=transform, download=True\n",
    ")\n",
    "\n",
    "test_dataset = torchvision.datasets.MNIST(\n",
    "    root=\"~/torch_datasets\", train=False, transform=transform, download=True\n",
    ")\n",
    "\n",
    "train_loader = data.DataLoader(\n",
    "                                train_dataset,\n",
    "                                batch_size=BATCH_SIZE,\n",
    "                                shuffle=SHUFFLE,\n",
    "                                num_workers=NUM_WORKERS,\n",
    "                                pin_memory=PIN_MEMORY,\n",
    "                                drop_last=False\n",
    "                                )\n",
    "\n",
    "test_loader = data.DataLoader(\n",
    "                                test_dataset,\n",
    "                                batch_size=32,\n",
    "                                shuffle=True,\n",
    "                                num_workers=0\n",
    "                                )\n",
    "\n",
    "example_loader = data.DataLoader(\n",
    "                                train_dataset,\n",
    "                                batch_size=1,\n",
    "                                shuffle=True,\n",
    "                                num_workers=0,\n",
    "                                drop_last=True\n",
    "                                 )\n"
   ]
  },
  {
   "cell_type": "code",
   "execution_count": 68,
   "id": "1283e874",
   "metadata": {
    "id": "1283e874"
   },
   "outputs": [],
   "source": [
    "# %%Model\n",
    "\n",
    "class Reshape(nn.Module):\n",
    "    def __init__(self, *args):\n",
    "        super().__init__()\n",
    "        self.shape = args\n",
    "\n",
    "    def forward(self, x):\n",
    "        return x.view(self.shape)\n",
    "\n",
    "\n",
    "class Trim(nn.Module):\n",
    "    def __init__(self, *args):\n",
    "        super().__init__()\n",
    "\n",
    "    def forward(self, x):\n",
    "        return x[:, :, :28, :28]\n",
    "\n",
    "class VAE(nn.Module):\n",
    "    def __init__(self):\n",
    "        super().__init__()\n",
    "           \n",
    "        self.z_mean = torch.nn.Linear(3136, LATENT_SPACE_SIZE) # 2 dim for visualization purposes\n",
    "        self.z_log_var = torch.nn.Linear(3136, LATENT_SPACE_SIZE)\n",
    "        \n",
    "        self.d_emb = nn.Embedding(10, 50)\n",
    "        self.e_emb_fc = nn.Linear(50, 784)\n",
    "        self.d_emb_fc = nn.Linear(50, 49)\n",
    "       \n",
    "        #########\n",
    "        # Encoder\n",
    "        #########\n",
    "        self.e_conv1 = nn.Conv2d(1, 32, stride=(1, 1), kernel_size=(3, 3), padding=1)\n",
    "        self.e_conv2 = nn.Conv2d(32, 64, stride=(2, 2), kernel_size=(3, 3), padding=1)\n",
    "        self.e_conv3 = nn.Conv2d(64, 64, stride=(2, 2), kernel_size=(3, 3), padding=1)\n",
    "        self.e_conv4 = nn.Conv2d(64, 64, stride=(1, 1), kernel_size=(3, 3), padding=1)\n",
    "        self.flatten = nn.Flatten()\n",
    "        \n",
    "\n",
    "        #########\n",
    "        # Decoder\n",
    "        #########  \n",
    "        self.d_lin = torch.nn.Linear(LATENT_SPACE_SIZE, 3087)\n",
    "        self.d_conv1 = nn.ConvTranspose2d(64, 64, stride=(1, 1), kernel_size=(3, 3), padding=1)\n",
    "        self.d_conv2 = nn.ConvTranspose2d(64, 64, stride=(2, 2), kernel_size=(3, 3), padding=1)              \n",
    "        self.d_conv3 = nn.ConvTranspose2d(64, 32, stride=(2, 2), kernel_size=(3, 3), padding=0)              \n",
    "        self.d_conv4 = nn.ConvTranspose2d(32, 1, stride=(1, 1), kernel_size=(3, 3), padding=0)\n",
    "       \n",
    "        \n",
    "    def encoder(self, x, c):\n",
    "        #c = self.d_emb(c)\n",
    "        #c = self.e_emb_fc(c)\n",
    "        #c = c.view(-1, 1, 28, 28)\n",
    "        #x = torch.cat((x, c), 1)\n",
    "\n",
    "        x = F.leaky_relu(self.e_conv1(x))\n",
    "        x = F.leaky_relu(self.e_conv2(x))\n",
    "        x = F.leaky_relu(self.e_conv3(x))\n",
    "        x = self.e_conv4(x)\n",
    "        x = self.flatten(x)\n",
    "        x = x.view(-1)\n",
    "        return x\n",
    "    \n",
    "    \n",
    "    def decoder(self, x, c):\n",
    "        c = self.d_emb(c)\n",
    "        c = self.d_emb_fc(c)\n",
    "        c = c.view(-1, 1, 7, 7)\n",
    "        \n",
    "        x = self.d_lin(x)\n",
    "        x = x.view(-1, 63, 7, 7)\n",
    "        \n",
    "        x = torch.cat((c, x), 1)\n",
    "        \n",
    "        x = x.view(-1,64,7,7)\n",
    "        x = F.leaky_relu(self.d_conv1(x))\n",
    "        x = F.leaky_relu(self.d_conv2(x))\n",
    "        x = F.leaky_relu(self.d_conv3(x))\n",
    "        x = F.leaky_relu(self.d_conv4(x))\n",
    "        x = x[:, :, :28, :28]\n",
    "        x = torch.sigmoid(x)\n",
    "        return x\n",
    "    \n",
    "    def encoding_fn(self, x, c):\n",
    "        x = self.encoder(x, c)\n",
    "        z_mean, z_log_var = self.z_mean(x), self.z_log_var(x)\n",
    "        encoded = self.reparameterize(z_mean, z_log_var)\n",
    "        return encoded\n",
    "        \n",
    "    def reparam(self,mu,log_var):\n",
    "        std = torch.exp(0.5*log_var)\n",
    "        eps = torch.rand_like(std)\n",
    "        z = mu+ eps*std\n",
    "\n",
    "    def reparameterize(self, z_mu, z_log_var):\n",
    "        std = torch.exp(0.5*z_log_var)\n",
    "        eps = torch.rand_like(std).to(device)\n",
    "        z = z_mu + eps * std\n",
    "        return z\n",
    "        \n",
    "    def forward(self, x, c):\n",
    "        x = self.encoder(x, c)\n",
    "        z_mean, z_log_var = self.z_mean(x), self.z_log_var(x)\n",
    "        encoded = self.reparameterize(z_mean, z_log_var) # sample μ,σ to create distribution\n",
    "        decoded = self.decoder(encoded,c)\n",
    "        return encoded, z_mean, z_log_var, decoded\n",
    " \n",
    "\n",
    " "
   ]
  },
  {
   "cell_type": "code",
   "execution_count": 69,
   "id": "d91435f7",
   "metadata": {
    "id": "d91435f7"
   },
   "outputs": [],
   "source": [
    "# %% Instantiate model, loss func, optimizer\n",
    "\n",
    "model = VAE()\n",
    " \n",
    "# Validation using MSE Loss function\n",
    "loss_function = nn.MSELoss(reduction='none')\n",
    "optimizer = torch.optim.Adam(model.parameters(), lr=LR, betas=(B1 ,B2))\n",
    "\n",
    "if torch.cuda.is_available():\n",
    "    model = model.cuda()\n",
    "    loss_function = loss_function.cuda()\n",
    "\n"
   ]
  },
  {
   "cell_type": "code",
   "execution_count": 67,
   "id": "69e678ef",
   "metadata": {
    "colab": {
     "base_uri": "https://localhost:8080/",
     "height": 745
    },
    "id": "69e678ef",
    "outputId": "3e86eef8-03d0-45e4-96bd-b226b660c1e8"
   },
   "outputs": [
    {
     "ename": "RuntimeError",
     "evalue": "ignored",
     "output_type": "error",
     "traceback": [
      "\u001b[0;31m---------------------------------------------------------------------------\u001b[0m",
      "\u001b[0;31mRuntimeError\u001b[0m                              Traceback (most recent call last)",
      "\u001b[0;32m<ipython-input-67-e9800edd57e4>\u001b[0m in \u001b[0;36m<cell line: 21>\u001b[0;34m()\u001b[0m\n\u001b[1;32m     21\u001b[0m \u001b[0;32mfor\u001b[0m \u001b[0mepoch\u001b[0m \u001b[0;32min\u001b[0m \u001b[0mrange\u001b[0m\u001b[0;34m(\u001b[0m\u001b[0;36m4\u001b[0m\u001b[0;34m)\u001b[0m\u001b[0;34m:\u001b[0m\u001b[0;34m\u001b[0m\u001b[0;34m\u001b[0m\u001b[0m\n\u001b[1;32m     22\u001b[0m     \u001b[0;31m#st = time.time()\u001b[0m\u001b[0;34m\u001b[0m\u001b[0;34m\u001b[0m\u001b[0m\n\u001b[0;32m---> 23\u001b[0;31m     \u001b[0;32mfor\u001b[0m \u001b[0mbatch\u001b[0m\u001b[0;34m,\u001b[0m \u001b[0;34m(\u001b[0m\u001b[0mimgs\u001b[0m\u001b[0;34m,\u001b[0m \u001b[0mlabels\u001b[0m\u001b[0;34m)\u001b[0m \u001b[0;32min\u001b[0m \u001b[0menumerate\u001b[0m\u001b[0;34m(\u001b[0m\u001b[0mtrain_loader\u001b[0m\u001b[0;34m)\u001b[0m\u001b[0;34m:\u001b[0m\u001b[0;34m\u001b[0m\u001b[0;34m\u001b[0m\u001b[0m\n\u001b[0m\u001b[1;32m     24\u001b[0m \u001b[0;34m\u001b[0m\u001b[0m\n\u001b[1;32m     25\u001b[0m         \u001b[0mimgs\u001b[0m \u001b[0;34m=\u001b[0m \u001b[0mimgs\u001b[0m\u001b[0;34m.\u001b[0m\u001b[0mto\u001b[0m\u001b[0;34m(\u001b[0m\u001b[0mdevice\u001b[0m\u001b[0;34m,\u001b[0m\u001b[0mmemory_format\u001b[0m\u001b[0;34m=\u001b[0m\u001b[0mtorch\u001b[0m\u001b[0;34m.\u001b[0m\u001b[0mchannels_last\u001b[0m\u001b[0;34m)\u001b[0m\u001b[0;34m\u001b[0m\u001b[0;34m\u001b[0m\u001b[0m\n",
      "\u001b[0;32m/usr/local/lib/python3.9/dist-packages/torch/nn/modules/module.py\u001b[0m in \u001b[0;36m_call_impl\u001b[0;34m(self, *args, **kwargs)\u001b[0m\n\u001b[1;32m   1499\u001b[0m                 \u001b[0;32mor\u001b[0m \u001b[0m_global_backward_pre_hooks\u001b[0m \u001b[0;32mor\u001b[0m \u001b[0m_global_backward_hooks\u001b[0m\u001b[0;34m\u001b[0m\u001b[0;34m\u001b[0m\u001b[0m\n\u001b[1;32m   1500\u001b[0m                 or _global_forward_hooks or _global_forward_pre_hooks):\n\u001b[0;32m-> 1501\u001b[0;31m             \u001b[0;32mreturn\u001b[0m \u001b[0mforward_call\u001b[0m\u001b[0;34m(\u001b[0m\u001b[0;34m*\u001b[0m\u001b[0margs\u001b[0m\u001b[0;34m,\u001b[0m \u001b[0;34m**\u001b[0m\u001b[0mkwargs\u001b[0m\u001b[0;34m)\u001b[0m\u001b[0;34m\u001b[0m\u001b[0;34m\u001b[0m\u001b[0m\n\u001b[0m\u001b[1;32m   1502\u001b[0m         \u001b[0;31m# Do not call functions when jit is used\u001b[0m\u001b[0;34m\u001b[0m\u001b[0;34m\u001b[0m\u001b[0m\n\u001b[1;32m   1503\u001b[0m         \u001b[0mfull_backward_hooks\u001b[0m\u001b[0;34m,\u001b[0m \u001b[0mnon_full_backward_hooks\u001b[0m \u001b[0;34m=\u001b[0m \u001b[0;34m[\u001b[0m\u001b[0;34m]\u001b[0m\u001b[0;34m,\u001b[0m \u001b[0;34m[\u001b[0m\u001b[0;34m]\u001b[0m\u001b[0;34m\u001b[0m\u001b[0;34m\u001b[0m\u001b[0m\n",
      "\u001b[0;32m<ipython-input-48-ff475db1cdea>\u001b[0m in \u001b[0;36mforward\u001b[0;34m(self, x, c)\u001b[0m\n\u001b[1;32m    100\u001b[0m \u001b[0;34m\u001b[0m\u001b[0m\n\u001b[1;32m    101\u001b[0m     \u001b[0;32mdef\u001b[0m \u001b[0mforward\u001b[0m\u001b[0;34m(\u001b[0m\u001b[0mself\u001b[0m\u001b[0;34m,\u001b[0m \u001b[0mx\u001b[0m\u001b[0;34m,\u001b[0m \u001b[0mc\u001b[0m\u001b[0;34m)\u001b[0m\u001b[0;34m:\u001b[0m\u001b[0;34m\u001b[0m\u001b[0;34m\u001b[0m\u001b[0m\n\u001b[0;32m--> 102\u001b[0;31m         \u001b[0mx\u001b[0m \u001b[0;34m=\u001b[0m \u001b[0mself\u001b[0m\u001b[0;34m.\u001b[0m\u001b[0mencoder\u001b[0m\u001b[0;34m(\u001b[0m\u001b[0mx\u001b[0m\u001b[0;34m,\u001b[0m \u001b[0mc\u001b[0m\u001b[0;34m)\u001b[0m\u001b[0;34m\u001b[0m\u001b[0;34m\u001b[0m\u001b[0m\n\u001b[0m\u001b[1;32m    103\u001b[0m         \u001b[0mz_mean\u001b[0m\u001b[0;34m,\u001b[0m \u001b[0mz_log_var\u001b[0m \u001b[0;34m=\u001b[0m \u001b[0mself\u001b[0m\u001b[0;34m.\u001b[0m\u001b[0mz_mean\u001b[0m\u001b[0;34m(\u001b[0m\u001b[0mx\u001b[0m\u001b[0;34m)\u001b[0m\u001b[0;34m,\u001b[0m \u001b[0mself\u001b[0m\u001b[0;34m.\u001b[0m\u001b[0mz_log_var\u001b[0m\u001b[0;34m(\u001b[0m\u001b[0mx\u001b[0m\u001b[0;34m)\u001b[0m\u001b[0;34m\u001b[0m\u001b[0;34m\u001b[0m\u001b[0m\n\u001b[1;32m    104\u001b[0m         \u001b[0mencoded\u001b[0m \u001b[0;34m=\u001b[0m \u001b[0mself\u001b[0m\u001b[0;34m.\u001b[0m\u001b[0mreparameterize\u001b[0m\u001b[0;34m(\u001b[0m\u001b[0mz_mean\u001b[0m\u001b[0;34m,\u001b[0m \u001b[0mz_log_var\u001b[0m\u001b[0;34m)\u001b[0m \u001b[0;31m# sample μ,σ to create distribution\u001b[0m\u001b[0;34m\u001b[0m\u001b[0;34m\u001b[0m\u001b[0m\n",
      "\u001b[0;32m/usr/local/lib/python3.9/dist-packages/torch/nn/modules/module.py\u001b[0m in \u001b[0;36m_call_impl\u001b[0;34m(self, *args, **kwargs)\u001b[0m\n\u001b[1;32m   1499\u001b[0m                 \u001b[0;32mor\u001b[0m \u001b[0m_global_backward_pre_hooks\u001b[0m \u001b[0;32mor\u001b[0m \u001b[0m_global_backward_hooks\u001b[0m\u001b[0;34m\u001b[0m\u001b[0;34m\u001b[0m\u001b[0m\n\u001b[1;32m   1500\u001b[0m                 or _global_forward_hooks or _global_forward_pre_hooks):\n\u001b[0;32m-> 1501\u001b[0;31m             \u001b[0;32mreturn\u001b[0m \u001b[0mforward_call\u001b[0m\u001b[0;34m(\u001b[0m\u001b[0;34m*\u001b[0m\u001b[0margs\u001b[0m\u001b[0;34m,\u001b[0m \u001b[0;34m**\u001b[0m\u001b[0mkwargs\u001b[0m\u001b[0;34m)\u001b[0m\u001b[0;34m\u001b[0m\u001b[0;34m\u001b[0m\u001b[0m\n\u001b[0m\u001b[1;32m   1502\u001b[0m         \u001b[0;31m# Do not call functions when jit is used\u001b[0m\u001b[0;34m\u001b[0m\u001b[0;34m\u001b[0m\u001b[0m\n\u001b[1;32m   1503\u001b[0m         \u001b[0mfull_backward_hooks\u001b[0m\u001b[0;34m,\u001b[0m \u001b[0mnon_full_backward_hooks\u001b[0m \u001b[0;34m=\u001b[0m \u001b[0;34m[\u001b[0m\u001b[0;34m]\u001b[0m\u001b[0;34m,\u001b[0m \u001b[0;34m[\u001b[0m\u001b[0;34m]\u001b[0m\u001b[0;34m\u001b[0m\u001b[0;34m\u001b[0m\u001b[0m\n",
      "\u001b[0;32m/usr/local/lib/python3.9/dist-packages/torch/nn/modules/linear.py\u001b[0m in \u001b[0;36mforward\u001b[0;34m(self, input)\u001b[0m\n\u001b[1;32m    112\u001b[0m \u001b[0;34m\u001b[0m\u001b[0m\n\u001b[1;32m    113\u001b[0m     \u001b[0;32mdef\u001b[0m \u001b[0mforward\u001b[0m\u001b[0;34m(\u001b[0m\u001b[0mself\u001b[0m\u001b[0;34m,\u001b[0m \u001b[0minput\u001b[0m\u001b[0;34m:\u001b[0m \u001b[0mTensor\u001b[0m\u001b[0;34m)\u001b[0m \u001b[0;34m->\u001b[0m \u001b[0mTensor\u001b[0m\u001b[0;34m:\u001b[0m\u001b[0;34m\u001b[0m\u001b[0;34m\u001b[0m\u001b[0m\n\u001b[0;32m--> 114\u001b[0;31m         \u001b[0;32mreturn\u001b[0m \u001b[0mF\u001b[0m\u001b[0;34m.\u001b[0m\u001b[0mlinear\u001b[0m\u001b[0;34m(\u001b[0m\u001b[0minput\u001b[0m\u001b[0;34m,\u001b[0m \u001b[0mself\u001b[0m\u001b[0;34m.\u001b[0m\u001b[0mweight\u001b[0m\u001b[0;34m,\u001b[0m \u001b[0mself\u001b[0m\u001b[0;34m.\u001b[0m\u001b[0mbias\u001b[0m\u001b[0;34m)\u001b[0m\u001b[0;34m\u001b[0m\u001b[0;34m\u001b[0m\u001b[0m\n\u001b[0m\u001b[1;32m    115\u001b[0m \u001b[0;34m\u001b[0m\u001b[0m\n\u001b[1;32m    116\u001b[0m     \u001b[0;32mdef\u001b[0m \u001b[0mextra_repr\u001b[0m\u001b[0;34m(\u001b[0m\u001b[0mself\u001b[0m\u001b[0;34m)\u001b[0m \u001b[0;34m->\u001b[0m \u001b[0mstr\u001b[0m\u001b[0;34m:\u001b[0m\u001b[0;34m\u001b[0m\u001b[0;34m\u001b[0m\u001b[0m\n",
      "\u001b[0;31mRuntimeError\u001b[0m: mat1 and mat2 shapes cannot be multiplied (1x6272000 and 3136x20)"
     ]
    }
   ],
   "source": [
    "# %%Train Model\n",
    "\n",
    "if torch.cuda.is_available():\n",
    "    model = model.to(memory_format=torch.channels_last)\n",
    "    loss_function.to(device)\n",
    "    model.train()\n",
    "    torch.backends.cudnn.benchmark = True\n",
    "  \n",
    "\n",
    "logging_interval = 10\n",
    "losses = []\n",
    "kl_losses = []\n",
    "recon_losses = []\n",
    "recon_loss = 0\n",
    "kl_div = 0\n",
    "iter = 0\n",
    "alpha = 1\n",
    "\n",
    "\n",
    "    \n",
    "for epoch in range(4):\n",
    "    #st = time.time()\n",
    "    for batch, (imgs, labels) in enumerate(train_loader):\n",
    "\n",
    "        imgs = imgs.to(device,memory_format=torch.channels_last)\n",
    "        labels = labels.to(device)\n",
    "\n",
    "        # set gradients to zero\n",
    "        optimizer.zero_grad()\n",
    "        encoded, z_mean, z_log_var, decoded = model(imgs,labels)\n",
    "        print(\"imgs: \",imgs.shape)\n",
    "        print(\"labels: \",labels.shape)\n",
    "        break\n",
    "\n",
    "        # Total Loss = Recon_loss + KLDivergence\n",
    "        kl_div = -0.5 * torch.sum(1 + z_log_var \n",
    "                                  - z_mean**2 \n",
    "                                  - torch.exp(z_log_var), \n",
    "                                  axis=1) # sum over latent dimension\n",
    "\n",
    "        kl_div = kl_div.mean()\n",
    "\n",
    "        recon_loss = loss_function(decoded, imgs)\n",
    "        recon_loss = recon_loss.view(BATCH_SIZE, -1).sum(axis=1) # sum over pixels\n",
    "        recon_loss = recon_loss.mean() # average over batch dimension\n",
    "        \n",
    "        loss = alpha*recon_loss + kl_div\n",
    "        loss.backward()\n",
    "        optimizer.step()  # Updates Weights\n",
    "        \n",
    "        loss_item = loss.item()\n",
    "        recon_loss_item = recon_loss.item()\n",
    "        kl_div_item = kl_div.item()\n",
    "        \n",
    "        #scheduler.step()\n",
    "        \n",
    "        \n",
    "        if iter % logging_interval == 0:\n",
    "            print('[%d/%d][%d/%d]\\t, LOSS:%.4f (recon_loss : %.4f, kl_loss = %.6f'\n",
    "                  %(epoch, NUM_EPOCHS, batch, len(train_loader), loss_item, recon_loss_item, kl_div_item))\n",
    "        \n",
    "        \n",
    "        losses.append(loss_item)\n",
    "        kl_losses.append(kl_div_item)\n",
    "        recon_losses.append(recon_loss_item)\n",
    "        \n",
    "        iter +=1\n"
   ]
  },
  {
   "cell_type": "code",
   "execution_count": null,
   "id": "RVG5WiWr9S0y",
   "metadata": {
    "id": "RVG5WiWr9S0y"
   },
   "outputs": [],
   "source": [
    "# %% Save Model\n",
    "checkpoint = {STATE_DICT : model.state_dict(),\n",
    "              MODEL_OPTIMIZER : optimizer.state_dict(),\n",
    "              LOSSES: losses,\n",
    "              RECON_LOSS:recon_losses,\n",
    "              KL_DIV:kl_losses}\n",
    "save_checkpoint(checkpoint, \"cVAE4.pth.tar\")"
   ]
  },
  {
   "cell_type": "code",
   "execution_count": 70,
   "id": "55898553",
   "metadata": {
    "id": "55898553"
   },
   "outputs": [],
   "source": [
    "# %%  Load Model\n",
    "load_checkpoint(torch.load(\"cVAE4.pth.tar\",map_location=('cpu')))"
   ]
  },
  {
   "cell_type": "code",
   "execution_count": 77,
   "id": "KQDUIMdD76OI",
   "metadata": {
    "colab": {
     "base_uri": "https://localhost:8080/",
     "height": 430
    },
    "id": "KQDUIMdD76OI",
    "outputId": "e03f5afb-91b0-4b03-de51-e3c962fa569a"
   },
   "outputs": [
    {
     "data": {
      "image/png": "[encoded data removed]",
      "text/plain": [
       "<Figure size 640x480 with 1 Axes>"
      ]
     },
     "metadata": {},
     "output_type": "display_data"
    }
   ],
   "source": [
    "#Test image generation\n",
    "gen_image()"
   ]
  },
  {
   "cell_type": "code",
   "execution_count": 66,
   "id": "b8f0ec35",
   "metadata": {
    "colab": {
     "base_uri": "https://localhost:8080/",
     "height": 368
    },
    "id": "b8f0ec35",
    "outputId": "a0907d34-1496-4cad-e956-c47178f7f9ae"
   },
   "outputs": [
    {
     "data": {
      "image/png": "[encoded data removed]",
      "text/plain": [
       "<Figure size 640x480 with 30 Axes>"
      ]
     },
     "metadata": {},
     "output_type": "display_data"
    }
   ],
   "source": [
    "# %% print reconstructed image vs generated image vs actual images\n",
    "if 'numbered_images' not in locals():\n",
    "    numbered_images = get_numbered_images()\n",
    "\n",
    "torch.device = device\n",
    "model = model.to(device)\n",
    "fig, axes = plt.subplots(nrows=3, ncols=10, sharex=True, sharey=True)\n",
    "with torch.no_grad():\n",
    "  for i in range(10):\n",
    "    \n",
    "    #for batch_idx, (images, labels) in enumerate(example_loader):\n",
    "    \n",
    "    c = torch.tensor(i, dtype=torch.int64).to(device)\n",
    "    latent = torch.rand_like(torch.Tensor(20)).to(device)\n",
    "    img = numbered_images[i].to(device)\n",
    "  \n",
    "\n",
    "    \n",
    "    decoded = model.decoder(latent,c).detach().cpu()\n",
    "    #recon = model()\n",
    "    \n",
    "    #image from dataset\n",
    "    axes[0][i].imshow(numbered_images[c.item()][None, :].view((28, 28)))   \n",
    "    \n",
    "    #image from decoder, caption\n",
    "    axes[1][i].imshow(decoded.view((28, 28)))  \n",
    "\n",
    "    #reconstructed_image\n",
    "    x = model(img, c)[3]\n",
    "    axes[2][i].imshow(decoded.view((28, 28)))  "
   ]
  },
  {
   "cell_type": "code",
   "execution_count": 79,
   "id": "Rh1w0l4J9bM1",
   "metadata": {
    "colab": {
     "base_uri": "https://localhost:8080/"
    },
    "id": "Rh1w0l4J9bM1",
    "outputId": "6b8fd14a-076b-47cf-a353-d034dde9dbd3"
   },
   "outputs": [
    {
     "name": "stdout",
     "output_type": "stream",
     "text": [
      "Generated 2000 samples\n"
     ]
    }
   ],
   "source": [
    "#Generate batch of fake and real samples \n",
    "fake_images = []\n",
    "real_images = []\n",
    "device='cpu'\n",
    "with torch.no_grad():\n",
    "    model.to('cpu')\n",
    "\n",
    "    for i, (imgs,label) in enumerate(train_loader):\n",
    "        real_images = imgs\n",
    "        \n",
    "        #caption = random.randint(0, 9)   \n",
    "        #caption = torch.tensor(caption, dtype=torch.int64)\n",
    "        #latent = torch.rand_like(torch.Tensor(1,100))\n",
    "        #fake_images = generator(latent,caption)\n",
    "        \n",
    "        \n",
    "        for i in range(len(real_images[:])):\n",
    "          caption = label[i]\n",
    "          latent = torch.rand_like(torch.Tensor(1,LATENT_SPACE_SIZE))\n",
    "          fake_image = model.decoder(latent,caption)\n",
    "\n",
    "          if (i==0):\n",
    "            fake_images = model.decoder(latent,caption)\n",
    "          else:\n",
    "            fake_images = torch.cat((fake_images, fake_image), 0)\n",
    "        break\n",
    "\n",
    "print('Generated %d samples'\n",
    "%(len(fake_images[:])))\n",
    "#fake_images"
   ]
  },
  {
   "cell_type": "code",
   "execution_count": 82,
   "id": "0tO3taHt9V6y",
   "metadata": {
    "colab": {
     "base_uri": "https://localhost:8080/"
    },
    "id": "0tO3taHt9V6y",
    "outputId": "46aaaa70-5101-4c8f-b13d-42f170a63815"
   },
   "outputs": [
    {
     "name": "stdout",
     "output_type": "stream",
     "text": [
      "Setting up [LPIPS] perceptual loss: trunk [alex], v[0.1], spatial [off]\n"
     ]
    },
    {
     "name": "stderr",
     "output_type": "stream",
     "text": [
      "/usr/local/lib/python3.9/dist-packages/torchvision/models/_utils.py:208: UserWarning: The parameter 'pretrained' is deprecated since 0.13 and may be removed in the future, please use 'weights' instead.\n",
      "  warnings.warn(\n",
      "/usr/local/lib/python3.9/dist-packages/torchvision/models/_utils.py:223: UserWarning: Arguments other than a weight enum or `None` for 'weights' are deprecated since 0.13 and may be removed in the future. The current behavior is equivalent to passing `weights=AlexNet_Weights.IMAGENET1K_V1`. You can also use `weights=AlexNet_Weights.DEFAULT` to get the most up-to-date weights.\n",
      "  warnings.warn(msg)\n"
     ]
    },
    {
     "name": "stdout",
     "output_type": "stream",
     "text": [
      "Loading model from: /usr/local/lib/python3.9/dist-packages/lpips/weights/v0.1/alex.pth\n"
     ]
    },
    {
     "name": "stderr",
     "output_type": "stream",
     "text": [
      "/usr/local/lib/python3.9/dist-packages/torchvision/transforms/functional.py:1603: UserWarning: The default value of the antialias parameter of all the resizing transforms (Resize(), RandomResizedCrop(), etc.) will change from None to True in v0.17, in order to be consistent across the PIL and Tensor backends. To suppress this warning, directly pass antialias=True (recommended, future default), antialias=None (current default, which means False for Tensors and True for PIL), or antialias=False (only works on Tensors - PIL will still use antialiasing). This also applies if you are using the inference transforms from the models weights: update the call to weights.transforms(antialias=True).\n",
      "  warnings.warn(\n"
     ]
    },
    {
     "name": "stdout",
     "output_type": "stream",
     "text": [
      "LPIPS score 0.1136\n",
      "Minimum score: 0.0502\n",
      "Maximum score: 0.4509\n",
      "Mean score: 0.1836\n"
     ]
    }
   ],
   "source": [
    "#LPIPS metric \n",
    "loss_fn_alex = lpips.LPIPS(net='alex') \n",
    "\n",
    "lpip_fake = colorize(fake_images)\n",
    "lpip_real = colorize(real_images) # !! images must be rbg and within [-1,1]\n",
    "\n",
    "lpip_fake = transforms.Compose([\n",
    "    transforms.Resize((64, 64))])(lpip_fake)\n",
    "\n",
    "lpip_real = transforms.Compose([\n",
    "    transforms.Resize((64, 64))])(lpip_real)\n",
    "\n",
    "\n",
    "\n",
    "d = loss_fn_alex(lpip_fake, lpip_real)\n",
    "print(\"LPIPS score %.4f\"%(d[0].item()))\n",
    "\n",
    "my_tensor = d\n",
    "\n",
    "# get minimum value\n",
    "min_val = torch.min(my_tensor)\n",
    "\n",
    "# get maximum value\n",
    "max_val = torch.max(my_tensor)\n",
    "\n",
    "# get mean value\n",
    "mean_val = torch.mean(my_tensor)\n",
    "\n",
    "# print the results\n",
    "print(\"Minimum score: %.4f\" %(min_val.item()))\n",
    "print(\"Maximum score: %.4f\" %(max_val.item()))\n",
    "print(\"Mean score: %.4f\" %(mean_val.item()))"
   ]
  },
  {
   "cell_type": "code",
   "execution_count": 83,
   "id": "o4IleyKX9zTc",
   "metadata": {
    "colab": {
     "base_uri": "https://localhost:8080/"
    },
    "id": "o4IleyKX9zTc",
    "outputId": "23682dc5-780d-4460-f06c-a7b4251898b3"
   },
   "outputs": [
    {
     "name": "stderr",
     "output_type": "stream",
     "text": [
      "<ipython-input-83-5c555d7f381e>:9: VisibleDeprecationWarning: Creating an ndarray from ragged nested sequences (which is a list-or-tuple of lists-or-tuples-or ndarrays with different lengths or shapes) is deprecated. If you meant to do this, you must specify 'dtype=object' when creating the ndarray.\n",
      "  test_array = np.array([(np.array(x), y) for x, y in test_loader.dataset])\n"
     ]
    }
   ],
   "source": [
    "#idea from here: https://liorsinai.github.io/coding/2022/12/29/denoising-diffusion-2-unet.html#mjx-eqn-eqFrechet\n",
    "#Calculate mean of real images\n",
    "random.seed(42)\n",
    "mnist_mean = []\n",
    "mnist_means = []\n",
    "samples = 1000\n",
    "\n",
    "# convert dataset to numpy array\n",
    "test_array = np.array([(np.array(x), y) for x, y in test_loader.dataset])\n",
    "# for each number(0,9)\n",
    "for num in range(10):\n",
    "  # get indices of images with the current number\n",
    "  indices = np.where(test_array[:, 1] == num)[0]\n",
    "  # randomly sample max number of images\n",
    "  subset_indices = random.sample(indices.tolist(), samples) if len(indices) > samples else indices\n",
    "  subset_array = test_array[subset_indices]\n",
    "\n",
    "  # compute mean of sampled images using numpy\n",
    "  number_mean = np.mean(subset_array[:, 0], axis=0)\n",
    "\n",
    "  mnist_means.append(torch.from_numpy(number_mean))\n",
    "  \n",
    "\n",
    "mnist_mean = (torch.stack(mnist_means, dim=0))"
   ]
  },
  {
   "cell_type": "code",
   "execution_count": 86,
   "id": "VFAtJl0B-VcW",
   "metadata": {
    "id": "VFAtJl0B-VcW"
   },
   "outputs": [],
   "source": [
    "#Create mean of generated images\n",
    "\n",
    "num_samples = 1000\n",
    "fake_images_means = []\n",
    "fake_image_mean = []\n",
    "\n",
    "distances = []\n",
    "with torch.no_grad():\n",
    "  for num in range(10):\n",
    "    for i in range(num_samples):\n",
    "      latent = torch.rand_like(torch.Tensor(1,LATENT_SPACE_SIZE))\n",
    "      caption = torch.tensor(num, dtype=torch.int64)\n",
    "      \n",
    "      fake_image = model.decoder(latent,caption)  \n",
    "      fake_image_mean.append(fake_image[0])\n",
    "    \n",
    "    fake_image_mean = torch.stack(fake_image_mean,dim=0)\n",
    "    fake_image_mean = torch.mean(fake_image_mean, dim=0)\n",
    "\n",
    "    fake_images_means.append(fake_image_mean)\n",
    "    fake_image_mean = []  \n",
    "\n",
    "fake_images_means = torch.stack(fake_images_means,dim=0)"
   ]
  },
  {
   "cell_type": "code",
   "execution_count": 87,
   "id": "tal9M3HB-ZFq",
   "metadata": {
    "colab": {
     "base_uri": "https://localhost:8080/",
     "height": 257
    },
    "id": "tal9M3HB-ZFq",
    "outputId": "e6249bf5-85cf-4669-890c-39681da9cb75"
   },
   "outputs": [
    {
     "data": {
      "image/png": "[encoded data removed]",
      "text/plain": [
       "<Figure size 2000x250 with 20 Axes>"
      ]
     },
     "metadata": {},
     "output_type": "display_data"
    }
   ],
   "source": [
    "#Mean of generated vs actual images\n",
    "fig, axes = plt.subplots(nrows=2,ncols=10,figsize=(20,2.5))\n",
    "plt.tick_params(labelsize=0)\n",
    "\n",
    "\n",
    "for i in range(len(mnist_mean[:])):\n",
    "  axes[1][i].imshow(mnist_mean[i][0])\n",
    "for i in range(len(fake_images_means[:])):\n",
    "  axes[0][i].imshow(fake_images_means[i][0])"
   ]
  },
  {
   "cell_type": "code",
   "execution_count": 88,
   "id": "_MJB8M0g-qJO",
   "metadata": {
    "colab": {
     "base_uri": "https://localhost:8080/"
    },
    "id": "_MJB8M0g-qJO",
    "outputId": "ff1acd1d-dac9-4b00-ad67-7e03aa8d55c3"
   },
   "outputs": [
    {
     "name": "stdout",
     "output_type": "stream",
     "text": [
      "Number: 0, Distance: 4.7877\n",
      "Number: 1, Distance: 2.6916\n",
      "Number: 2, Distance: 3.6361\n",
      "Number: 3, Distance: 4.2936\n",
      "Number: 4, Distance: 3.4160\n",
      "Number: 5, Distance: 3.6481\n",
      "Number: 6, Distance: 3.2884\n",
      "Number: 7, Distance: 2.7850\n",
      "Number: 8, Distance: 3.0391\n",
      "Number: 9, Distance: 3.3398\n",
      "Mean distance: 3.4926\n"
     ]
    }
   ],
   "source": [
    "#calculate distances\n",
    "#distances = [[0] * len(mnist_mean) for _ in range(10)]\n",
    "distances = []\n",
    "\n",
    "for i in range(len(fake_images_means[:])):\n",
    "\n",
    "  diff = mnist_mean[i] - fake_images_means[i]\n",
    "  distance = torch.norm(diff, p=2)\n",
    "  \n",
    "  distances.append(distance.item())\n",
    " \n",
    "  print('Number: %d, Distance: %.4f'\n",
    "  %(i,distance.item()))\n",
    "\n",
    "# Print the distance\n",
    "print(\"Mean distance: %.4f\"%\n",
    "      (sum(distances)/len(distances)))"
   ]
  },
  {
   "cell_type": "code",
   "execution_count": 89,
   "id": "337A9cp--sD_",
   "metadata": {
    "colab": {
     "base_uri": "https://localhost:8080/",
     "height": 564
    },
    "id": "337A9cp--sD_",
    "outputId": "343a8354-3d5a-4a42-9abd-d346987ee5ab"
   },
   "outputs": [
    {
     "data": {
      "image/png": "[encoded data removed]",
      "text/plain": [
       "<Figure size 1000x600 with 1 Axes>"
      ]
     },
     "metadata": {},
     "output_type": "display_data"
    }
   ],
   "source": [
    "fig, ax = plt.subplots(figsize=[10,6])\n",
    "\n",
    "ax.bar(range(len(distances)), distances)\n",
    "\n",
    "ax.set_xlabel('Image')\n",
    "ax.set_ylabel('Distance')\n",
    "ax.set_title('Distance per image')\n",
    "\n",
    "ax.set_xticks(range(len(distances)))\n",
    "ax.set_xticklabels(range(len(distances)))\n",
    "\n",
    "plt.show()"
   ]
  },
  {
   "cell_type": "code",
   "execution_count": 90,
   "id": "y_yPA7rZ-w3M",
   "metadata": {
    "id": "y_yPA7rZ-w3M"
   },
   "outputs": [],
   "source": [
    "#model from here: https://github.com/erykml/medium_articles/blob/master/Computer%20Vision/lenet5_pytorch.ipynb\n",
    "class LeNet5(nn.Module):\n",
    "\n",
    "    def __init__(self, n_classes):\n",
    "        super(LeNet5, self).__init__()\n",
    "        \n",
    "        self.feature_extractor = nn.Sequential(            \n",
    "            nn.Conv2d(in_channels=1, out_channels=6, kernel_size=5, stride=1),\n",
    "            nn.Tanh(),\n",
    "            nn.AvgPool2d(kernel_size=2),\n",
    "            nn.Conv2d(in_channels=6, out_channels=16, kernel_size=5, stride=1),\n",
    "            nn.Tanh(),\n",
    "            nn.AvgPool2d(kernel_size=2),\n",
    "            nn.Conv2d(in_channels=16, out_channels=120, kernel_size=5, stride=1),\n",
    "            nn.Tanh()\n",
    "        )\n",
    "\n",
    "        self.classifier = nn.Sequential(\n",
    "            nn.Linear(in_features=120, out_features=84),\n",
    "            nn.Tanh(),\n",
    "            nn.Linear(in_features=84, out_features=n_classes),\n",
    "        )\n",
    "\n",
    "\n",
    "    def forward(self, x):\n",
    "        x = self.feature_extractor(x)\n",
    "        x = torch.flatten(x, 1)\n",
    "        logits = self.classifier(x)\n",
    "        probs = F.softmax(logits, dim=1)\n",
    "        return logits, probs"
   ]
  },
  {
   "cell_type": "code",
   "execution_count": 91,
   "id": "cNkFjKgM-yeu",
   "metadata": {
    "id": "cNkFjKgM-yeu"
   },
   "outputs": [],
   "source": [
    "LEARNING_RATE = 0.001\n",
    "N_CLASSES = 10\n",
    "\n",
    "model = LeNet5(N_CLASSES).to(device)\n",
    "optimizer = torch.optim.Adam(model.parameters(), lr=LEARNING_RATE)\n",
    "criterion = nn.CrossEntropyLoss()"
   ]
  },
  {
   "cell_type": "code",
   "execution_count": 92,
   "id": "CjN4YVrN-1Cn",
   "metadata": {
    "id": "CjN4YVrN-1Cn"
   },
   "outputs": [],
   "source": [
    "#Load checkpoint\n",
    "leNet_load_checkpoint = torch.load('leNet_checkpoint.pth.tar')\n",
    "\n",
    "model.load_state_dict(leNet_load_checkpoint['leNet_model_state_dict'])\n",
    "optimizer.load_state_dict(leNet_load_checkpoint['leNet_optmizer_state_dict'])"
   ]
  },
  {
   "cell_type": "code",
   "execution_count": 93,
   "id": "sKu0DUym_bqp",
   "metadata": {
    "colab": {
     "base_uri": "https://localhost:8080/"
    },
    "id": "sKu0DUym_bqp",
    "outputId": "9d22dbe4-a46c-4fab-9e7b-1a74faa4a020"
   },
   "outputs": [
    {
     "name": "stderr",
     "output_type": "stream",
     "text": [
      "/usr/local/lib/python3.9/dist-packages/torchvision/transforms/functional.py:1603: UserWarning: The default value of the antialias parameter of all the resizing transforms (Resize(), RandomResizedCrop(), etc.) will change from None to True in v0.17, in order to be consistent across the PIL and Tensor backends. To suppress this warning, directly pass antialias=True (recommended, future default), antialias=None (current default, which means False for Tensors and True for PIL), or antialias=False (only works on Tensors - PIL will still use antialiasing). This also applies if you are using the inference transforms from the models weights: update the call to weights.transforms(antialias=True).\n",
      "  warnings.warn(\n"
     ]
    },
    {
     "name": "stdout",
     "output_type": "stream",
     "text": [
      "Frechet_distance between real and generated images is: 18.737902\n"
     ]
    }
   ],
   "source": [
    "#Frechet LeNet Distance\n",
    "def calculate_activation_statistics(images, model):\n",
    "  with torch.no_grad():\n",
    "    model.eval()\n",
    "    activations = []\n",
    "    \n",
    "    features = model.feature_extractor(images)\n",
    "    activations.append(features)\n",
    "    \n",
    "    activations = np.concatenate(activations, axis=0)\n",
    "    mu = np.mean(activations, axis=0)\n",
    "\n",
    "    activations = activations.reshape(activations.shape[0], -1)  # flatten the activations to 2D\n",
    "\n",
    "    sigma = np.cov(activations, rowvar=False)\n",
    "    return mu, sigma\n",
    "\n",
    "\n",
    "def calculate_frechet_distance(mu1, cov1, mu2, cov2):\n",
    "  eps = 1e-6\n",
    "  diff = mu1 - mu2\n",
    "  # Product of two covariance matrices\n",
    "  cov_mean, _ = linalg.sqrtm(cov1.dot(cov2), disp=False)\n",
    "  if not np.isfinite(cov_mean).all():\n",
    "      offset = np.eye(cov1.shape[0]) * eps\n",
    "      cov_mean = linalg.sqrtm((cov1 + offset).dot(cov2 + offset))\n",
    "  # Compute the Wasserstein-2 distance\n",
    "  return np.sum(diff ** 2) + np.trace(cov1 + cov2 - 2 * cov_mean)\n",
    "\n",
    "\n",
    "\n",
    "# Generate fake data and compute statistics\n",
    "resize = tran.Resize((32, 32))\n",
    "\n",
    "\n",
    "\n",
    "fake_big = resize(fake_images)\n",
    "real_big = resize(real_images)\n",
    "\n",
    "mu1, cov1 = calculate_activation_statistics(fake_big, model)\n",
    "mu2, cov2 = calculate_activation_statistics(real_big, model)\n",
    "frechet_distance = calculate_frechet_distance(mu1, cov1, mu2, cov2)\n",
    "\n",
    "print(\"Frechet_distance between real and generated images is: %.6f\"\n",
    "  %(frechet_distance))"
   ]
  },
  {
   "cell_type": "code",
   "execution_count": null,
   "id": "om0M6vzR_jHc",
   "metadata": {
    "id": "om0M6vzR_jHc"
   },
   "outputs": [],
   "source": []
  }
 ],
 "metadata": {
  "colab": {
   "provenance": []
  },
  "gpuClass": "standard",
  "kernelspec": {
   "display_name": "Python 3 (ipykernel)",
   "language": "python",
   "name": "python3"
  },
  "language_info": {
   "codemirror_mode": {
    "name": "ipython",
    "version": 3
   },
   "file_extension": ".py",
   "mimetype": "text/x-python",
   "name": "python",
   "nbconvert_exporter": "python",
   "pygments_lexer": "ipython3",
   "version": "3.10.4"
  },
  "varInspector": {
   "cols": {
    "lenName": 16,
    "lenType": 16,
    "lenVar": 40
   },
   "kernels_config": {
    "python": {
     "delete_cmd_postfix": "",
     "delete_cmd_prefix": "del ",
     "library": "var_list.py",
     "varRefreshCmd": "print(var_dic_list())"
    },
    "r": {
     "delete_cmd_postfix": ") ",
     "delete_cmd_prefix": "rm(",
     "library": "var_list.r",
     "varRefreshCmd": "cat(var_dic_list()) "
    }
   },
   "types_to_exclude": [
    "module",
    "function",
    "builtin_function_or_method",
    "instance",
    "_Feature"
   ],
   "window_display": false
  },
  "vscode": {
   "interpreter": {
    "hash": "88279d2366fe020547cde40dd65aa0e3aa662a6ec1f3ca12d88834876c85e1a6"
   }
  }
 },
 "nbformat": 4,
 "nbformat_minor": 5
}
