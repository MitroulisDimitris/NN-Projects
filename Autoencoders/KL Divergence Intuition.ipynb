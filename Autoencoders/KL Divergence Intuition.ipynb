{
 "cells": [
  {
   "cell_type": "code",
   "execution_count": 6,
   "id": "d0ae8973",
   "metadata": {},
   "outputs": [
    {
     "name": "stdout",
     "output_type": "stream",
     "text": [
      "tensor(5.9440)\n"
     ]
    }
   ],
   "source": [
    "import torch\n",
    "\n",
    "q = torch.distributions.Normal(2, 4)\n",
    "\n",
    "z = q.rsample()\n",
    "print(z)"
   ]
  },
  {
   "cell_type": "code",
   "execution_count": 13,
   "id": "9b721361",
   "metadata": {},
   "outputs": [
    {
     "name": "stdout",
     "output_type": "stream",
     "text": [
      "log prob pz:  tensor(-18.5844) prob: tensor(8.4899e-09)\n",
      "log prob qzx:  tensor(-2.7913) prob: tensor(0.0613)\n"
     ]
    }
   ],
   "source": [
    "#p,q distributions\n",
    "p = torch.distributions.Normal(0, 1)\n",
    "q = torch.distributions.Normal(2, 4)\n",
    "\n",
    "#chance of z being in distr. p,q\n",
    "#p(z) , q(z|x)\n",
    "log_pz = p.log_prob(z)\n",
    "log_qzx = q.log_prob(z)\n",
    "\n",
    "print('log prob pz: ', log_pz, 'prob:', torch.exp(log_pz))\n",
    "print('log prob qzx: ', log_qzx, 'prob:', torch.exp(log_qzx))"
   ]
  },
  {
   "cell_type": "markdown",
   "id": "dc7bbf9f",
   "metadata": {},
   "source": [
    "#### Calculate the distance using KL"
   ]
  },
  {
   "cell_type": "code",
   "execution_count": 8,
   "id": "7a000724",
   "metadata": {},
   "outputs": [
    {
     "data": {
      "text/plain": [
       "tensor(15.7931)"
      ]
     },
     "execution_count": 8,
     "metadata": {},
     "output_type": "execute_result"
    }
   ],
   "source": [
    "kl_divergence = log_qzx - log_pz\n",
    "kl_divergence"
   ]
  },
  {
   "cell_type": "code",
   "execution_count": 14,
   "id": "0464a741",
   "metadata": {},
   "outputs": [
    {
     "name": "stdout",
     "output_type": "stream",
     "text": [
      "log prob qzx:  tensor(-4.6675) prob: tensor(0.0094)\n"
     ]
    },
    {
     "data": {
      "text/plain": [
       "tensor(13.9169)"
      ]
     },
     "execution_count": 14,
     "metadata": {},
     "output_type": "execute_result"
    }
   ],
   "source": [
    "#manually decrease the distance\n",
    "# old q = torch.distributions.Normal(2, 4)\n",
    "q = torch.distributions.Normal(1, 2)\n",
    "\n",
    "\n",
    "log_qzx = q.log_prob(z)\n",
    "print('log prob qzx: ', log_qzx, 'prob:', torch.exp(log_qzx))\n",
    "new_kl_divergence = log_qzx - log_pz\n",
    "new_kl_divergence"
   ]
  },
  {
   "cell_type": "markdown",
   "id": "384d1bb0",
   "metadata": {},
   "source": [
    "We try to minimize this:\n",
    "$$\n",
    "\\color{red}{\\min \\mathbb{E}_{q}[ \\log q(z|x) - \\log p(z)]} - \\color{blue}{\\mathbb{E}_{q} \\log p(x|z)}\n",
    "$$"
   ]
  },
  {
   "cell_type": "code",
   "execution_count": null,
   "id": "64090dcd",
   "metadata": {},
   "outputs": [],
   "source": []
  }
 ],
 "metadata": {
  "kernelspec": {
   "display_name": "Python 3 (ipykernel)",
   "language": "python",
   "name": "python3"
  },
  "language_info": {
   "codemirror_mode": {
    "name": "ipython",
    "version": 3
   },
   "file_extension": ".py",
   "mimetype": "text/x-python",
   "name": "python",
   "nbconvert_exporter": "python",
   "pygments_lexer": "ipython3",
   "version": "3.10.4"
  },
  "varInspector": {
   "cols": {
    "lenName": 16,
    "lenType": 16,
    "lenVar": 40
   },
   "kernels_config": {
    "python": {
     "delete_cmd_postfix": "",
     "delete_cmd_prefix": "del ",
     "library": "var_list.py",
     "varRefreshCmd": "print(var_dic_list())"
    },
    "r": {
     "delete_cmd_postfix": ") ",
     "delete_cmd_prefix": "rm(",
     "library": "var_list.r",
     "varRefreshCmd": "cat(var_dic_list()) "
    }
   },
   "types_to_exclude": [
    "module",
    "function",
    "builtin_function_or_method",
    "instance",
    "_Feature"
   ],
   "window_display": false
  }
 },
 "nbformat": 4,
 "nbformat_minor": 5
}
